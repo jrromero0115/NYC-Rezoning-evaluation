{
 "cells": [
  {
   "cell_type": "code",
   "execution_count": 1,
   "id": "2064f349",
   "metadata": {},
   "outputs": [],
   "source": [
    "import pandas as pd\n",
    "import numpy as np\n",
    "import geopandas as gpd\n",
    "import matplotlib.pyplot as plt\n",
    "import re"
   ]
  },
  {
   "cell_type": "code",
   "execution_count": 2,
   "id": "a2e8b346",
   "metadata": {
    "scrolled": true
   },
   "outputs": [
    {
     "name": "stderr",
     "output_type": "stream",
     "text": [
      "C:\\Users\\Jose Ramon Romero P\\Anaconda3\\lib\\site-packages\\IPython\\core\\interactiveshell.py:3441: DtypeWarning: Columns (10,11,12,13,14,15,16,17,18) have mixed types.Specify dtype option on import or set low_memory=False.\n",
      "  exec(code_obj, self.user_global_ns, self.user_ns)\n"
     ]
    }
   ],
   "source": [
    "master=pd.read_csv(r'C:\\Users\\Jose Ramon Romero P\\Documents\\NYU\\Semester 2\\Capstone 1\\NYC-Rezoning-evaluation\\data\\mappluto_nyc\\mappluto_nyc\\master2_2010_2017.csv')"
   ]
  },
  {
   "cell_type": "code",
   "execution_count": 6,
   "id": "3538c1cf",
   "metadata": {},
   "outputs": [],
   "source": []
  },
  {
   "cell_type": "code",
   "execution_count": 9,
   "id": "4ecc8160",
   "metadata": {},
   "outputs": [],
   "source": [
    "#Creating csv to merge bbl, geoid, if needed\n",
    "'''\n",
    "master=master[master.year_x==2017]\n",
    "m=['bbl' ,'geoid', 'borough',\n",
    "       'zipcode'] \n",
    "master=master[m]\n",
    "master.to_csv(r'C:\\Users\\Jose Ramon Romero P\\Documents\\NYU\\Semester 2\\Capstone 1\\NYC-Rezoning-evaluation\\data\\mappluto_nyc\\mappluto_nyc\\bbl_geoid_borough.csv')\n",
    "'''"
   ]
  },
  {
   "cell_type": "markdown",
   "id": "03e3e084",
   "metadata": {},
   "source": [
    "# bbl codes by each year"
   ]
  },
  {
   "cell_type": "code",
   "execution_count": 227,
   "id": "f399807f",
   "metadata": {},
   "outputs": [],
   "source": [
    "master['count']=1"
   ]
  },
  {
   "cell_type": "code",
   "execution_count": 228,
   "id": "841e3d20",
   "metadata": {},
   "outputs": [],
   "source": [
    "pv=pd.pivot_table(master,values='count',index=['bbl'],columns=['year_x'],aggfunc=np.sum)"
   ]
  },
  {
   "cell_type": "code",
   "execution_count": 229,
   "id": "70b5a3a9",
   "metadata": {},
   "outputs": [],
   "source": [
    "pv['total']=pv.sum(axis=1)"
   ]
  },
  {
   "cell_type": "code",
   "execution_count": 230,
   "id": "816fd6f2",
   "metadata": {},
   "outputs": [
    {
     "data": {
      "text/plain": [
       "0         1.000010e+09\n",
       "1         1.000010e+09\n",
       "2         1.000020e+09\n",
       "3         1.000030e+09\n",
       "4         1.000030e+09\n",
       "              ...     \n",
       "839495    5.080500e+09\n",
       "839496    5.080500e+09\n",
       "839497    5.080500e+09\n",
       "839498    5.080500e+09\n",
       "839499    5.080500e+09\n",
       "Name: bbl, Length: 839500, dtype: float64"
      ]
     },
     "execution_count": 230,
     "metadata": {},
     "output_type": "execute_result"
    }
   ],
   "source": [
    "pv=pv[pv['total']==8].reset_index()['bbl']\n",
    "pv"
   ]
  },
  {
   "cell_type": "code",
   "execution_count": 231,
   "id": "a4f94772",
   "metadata": {},
   "outputs": [
    {
     "data": {
      "text/plain": [
       "Index(['Unnamed: 0', 'bbl', 'geoid', 'year_x', 'borough', 'lot', 'cd',\n",
       "       'zipcode', 'zonedist1', 'zonedist2', 'zonedist3', 'zonedist4',\n",
       "       'overlay1', 'overlay2', 'spdist1', 'spdist2', 'ltdheight', 'allzoning1',\n",
       "       'allzoning2', 'splitzone', 'bldgclass', 'landuse', 'easements',\n",
       "       'ownertype', 'lotarea', 'comarea', 'resarea', 'officearea',\n",
       "       'retailarea', 'garagearea', 'strgearea', 'factryarea', 'lotfront',\n",
       "       'lotdepth', 'otherarea', 'numbldgs', 'numfloors', 'unitsres',\n",
       "       'lotfront.1', 'lotdepth.1', 'assessland', 'assesstot', 'yearbuilt',\n",
       "       'builtfar', 'maxallwfar', 'residfar', 'commfar', 'facilfar', 'statefp',\n",
       "       'countyfp', 'tractce', 'blkgrpce', 'med_income', 'population',\n",
       "       'low_edu', 'income_pc', 'housing_units', 'geometry', 'subway_acc',\n",
       "       'subway', 'subway_scale', '%low_educ', 'noisePerCapita', 'tractid',\n",
       "       'built_green', 'count'],\n",
       "      dtype='object')"
      ]
     },
     "execution_count": 231,
     "metadata": {},
     "output_type": "execute_result"
    }
   ],
   "source": [
    "master.columns"
   ]
  },
  {
   "cell_type": "markdown",
   "id": "1ba935cc",
   "metadata": {},
   "source": [
    "# Removing wrong values in the dataset"
   ]
  },
  {
   "cell_type": "code",
   "execution_count": 232,
   "id": "72e7de47",
   "metadata": {},
   "outputs": [],
   "source": [
    "master=master[~(master.built_green.isna())]"
   ]
  },
  {
   "cell_type": "code",
   "execution_count": 233,
   "id": "1275158b",
   "metadata": {},
   "outputs": [],
   "source": [
    "master=master[~(master.lotarea==0)]"
   ]
  },
  {
   "cell_type": "code",
   "execution_count": 234,
   "id": "dcfc5c7e",
   "metadata": {},
   "outputs": [],
   "source": [
    "master=master[~(master.lotfront==0)]\n"
   ]
  },
  {
   "cell_type": "code",
   "execution_count": 235,
   "id": "4dc1610f",
   "metadata": {},
   "outputs": [],
   "source": [
    "master=master[~(master.lotdepth==0)]"
   ]
  },
  {
   "cell_type": "code",
   "execution_count": 236,
   "id": "49131555",
   "metadata": {},
   "outputs": [
    {
     "data": {
      "text/plain": [
       "<AxesSubplot:>"
      ]
     },
     "execution_count": 236,
     "metadata": {},
     "output_type": "execute_result"
    },
    {
     "data": {
      "image/png": "[encoded data removed]",
      "text/plain": [
       "<Figure size 432x288 with 1 Axes>"
      ]
     },
     "metadata": {
      "needs_background": "light"
     },
     "output_type": "display_data"
    }
   ],
   "source": [
    "master.yearbuilt.hist()"
   ]
  },
  {
   "cell_type": "code",
   "execution_count": 237,
   "id": "8653ee38",
   "metadata": {},
   "outputs": [],
   "source": [
    "master=master[~(master.yearbuilt<300)]"
   ]
  },
  {
   "cell_type": "code",
   "execution_count": 238,
   "id": "d9e8a743",
   "metadata": {},
   "outputs": [
    {
     "data": {
      "text/plain": [
       "count    6.570394e+06\n",
       "mean     1.156746e+00\n",
       "std      7.179251e+00\n",
       "min      0.000000e+00\n",
       "25%      5.200000e-01\n",
       "50%      8.000000e-01\n",
       "75%      1.300000e+00\n",
       "max      8.695000e+03\n",
       "Name: builtfar, dtype: float64"
      ]
     },
     "execution_count": 238,
     "metadata": {},
     "output_type": "execute_result"
    }
   ],
   "source": [
    "master.builtfar.describe()"
   ]
  },
  {
   "cell_type": "code",
   "execution_count": 239,
   "id": "fbe6dd4e",
   "metadata": {},
   "outputs": [],
   "source": [
    "#master=master[~(master.builtfar>200)]"
   ]
  },
  {
   "cell_type": "code",
   "execution_count": 240,
   "id": "6e64b1ca",
   "metadata": {},
   "outputs": [],
   "source": [
    "for i in ['maxallwfar', 'residfar', 'commfar','facilfar']:\n",
    "    master[i]=master[i].fillna(0)"
   ]
  },
  {
   "cell_type": "code",
   "execution_count": 241,
   "id": "ca51082e",
   "metadata": {},
   "outputs": [],
   "source": [
    "master['maxfar']=master[['residfar','commfar','facilfar']].max(axis=1)+master['maxallwfar']"
   ]
  },
  {
   "cell_type": "code",
   "execution_count": 242,
   "id": "2c5b4f0d",
   "metadata": {},
   "outputs": [],
   "source": [
    "master['low_educ']=master['%low_educ'].fillna(0)"
   ]
  },
  {
   "cell_type": "code",
   "execution_count": 243,
   "id": "25f711d9",
   "metadata": {},
   "outputs": [
    {
     "data": {
      "text/plain": [
       "Index(['Unnamed: 0', 'bbl', 'geoid', 'year_x', 'borough', 'lot', 'cd',\n",
       "       'zipcode', 'zonedist1', 'zonedist2', 'zonedist3', 'zonedist4',\n",
       "       'overlay1', 'overlay2', 'spdist1', 'spdist2', 'ltdheight', 'allzoning1',\n",
       "       'allzoning2', 'splitzone', 'bldgclass', 'landuse', 'easements',\n",
       "       'ownertype', 'lotarea', 'comarea', 'resarea', 'officearea',\n",
       "       'retailarea', 'garagearea', 'strgearea', 'factryarea', 'lotfront',\n",
       "       'lotdepth', 'otherarea', 'numbldgs', 'numfloors', 'unitsres',\n",
       "       'lotfront.1', 'lotdepth.1', 'assessland', 'assesstot', 'yearbuilt',\n",
       "       'builtfar', 'maxallwfar', 'residfar', 'commfar', 'facilfar', 'statefp',\n",
       "       'countyfp', 'tractce', 'blkgrpce', 'med_income', 'population',\n",
       "       'low_edu', 'income_pc', 'housing_units', 'geometry', 'subway_acc',\n",
       "       'subway', 'subway_scale', '%low_educ', 'noisePerCapita', 'tractid',\n",
       "       'built_green', 'count', 'maxfar', 'low_educ'],\n",
       "      dtype='object')"
      ]
     },
     "execution_count": 243,
     "metadata": {},
     "output_type": "execute_result"
    }
   ],
   "source": [
    "master.columns"
   ]
  },
  {
   "cell_type": "code",
   "execution_count": 244,
   "id": "2010a2d9",
   "metadata": {},
   "outputs": [],
   "source": [
    "var=[ 'bbl', 'geoid', 'year_x', 'zonedist1', 'bldgclass', 'landuse', 'easements',\n",
    "       'ownertype', 'lotarea', 'comarea', 'resarea', 'officearea',\n",
    "       'retailarea', 'garagearea', 'strgearea', 'factryarea', 'lotfront',\n",
    "       'lotdepth', 'assessland', 'assesstot', 'yearbuilt',\n",
    "       'builtfar',  'med_income',  'housing_units','subway_acc',\n",
    "         'noisePerCapita', 'built_green', 'maxfar', 'low_educ']"
   ]
  },
  {
   "cell_type": "code",
   "execution_count": 245,
   "id": "a2861d7c",
   "metadata": {},
   "outputs": [],
   "source": [
    "master=master[var]"
   ]
  },
  {
   "cell_type": "code",
   "execution_count": 246,
   "id": "8aab3f31",
   "metadata": {},
   "outputs": [
    {
     "data": {
      "text/plain": [
       "array(['M3-1', 'M1-3/R8', 'M2-1', 'R6', 'M1-5/R8A', 'M1-2/R6A', 'PARK',\n",
       "       'M1-4/R7A', 'M1-4/R7X', 'M1-4', 'R7-2', 'M1-2', 'C6-2A', 'C4-4',\n",
       "       'M1-4/R6A', 'R7-1', 'M1-3', 'C8-3', 'M1-1', 'C8-2', 'R3A', 'R3-2',\n",
       "       'R5', 'R4', 'C8-1', 'R1-1', 'R4-1', 'R8', 'M1-4/R8A', 'C6-2',\n",
       "       'M1-5', 'C4-6', 'C6-3D', 'R8A', 'M1-1/R7-2', 'R7A', 'R7X', 'R1-2',\n",
       "       'R2', 'R6A', 'R4A', 'R3-1', 'R5B', 'R5A', 'C4-2', 'PARKNYS', 'C3',\n",
       "       'R6B', 'C4-1', 'C4-5X', 'C4-4A', 'C4-4D', 'R5D', 'C8-4', 'R3X',\n",
       "       'C4-3', 'C3A', 'C7', 'M1-1/R5', 'M1-2D', 'C4-3A', 'C5-2A', 'C5-4',\n",
       "       'C6-4', 'C6-4.5', 'C6-1', 'C6-1A', 'M1-6', 'M1-2/R8A', 'M1-5/R9-1',\n",
       "       'M1-2/R8', 'M1-2/R6', 'R7B', 'M1-1D', 'M1-4/R7-2', 'R8B', 'R4B',\n",
       "       'C4-2A', 'M1-2/R6B', 'R7D', 'R2X', 'C4-5D', 'R8X', 'C6-3A',\n",
       "       'M1-1/R7D', 'M3-2', 'R7-3', 'M1-2/R7A', 'C5-5', 'C6-9', 'BPC',\n",
       "       'C5-3', 'R10A', 'C4-6A', 'M2-3', 'R10', 'C6-3', 'C2-8', 'C2-7A',\n",
       "       'C1-8A', 'C4-7', 'C2-7', 'R9', 'C1-8', 'C6-6', 'C5-1', 'R10H',\n",
       "       'C6-7T', 'C6-5', 'C6-6.5', 'C6-7', 'C6-5.5', 'C6-3X', 'C1-6',\n",
       "       'C1-7', 'C1-6A', 'M2-4', 'C5-2.5', 'C5-P', 'C6-1G', 'C6-4A',\n",
       "       'C4-5', 'M1-5/R7X', 'C2-6', 'C2-6A', 'C1-7A', 'C6-2M', 'C6-4M',\n",
       "       'C5-2', 'C6-4X', 'C1-9', 'R9X', 'C4-5A', 'C1-9A', 'M1-5M', 'R9A',\n",
       "       'C2-8A', 'C6-2G', 'M1-5B', 'M1-5A', 'M2-2', 'C1-8X', 'C5-1A',\n",
       "       'M1-4/R6B', 'M1-5/R10', 'M1-5/R7-3', 'M1-5/R9', 'M1-6/R10',\n",
       "       'M1-2/R5B', 'M1-2/R5D', 'M1-3/R7X', 'C4-2F', 'R1-2A', 'M1-4D',\n",
       "       'R2A', 'ZR 11-151', 'PARKUS', 'M1-6D', 'C4-4L', 'M1-5/R7-2'],\n",
       "      dtype=object)"
      ]
     },
     "execution_count": 246,
     "metadata": {},
     "output_type": "execute_result"
    }
   ],
   "source": [
    "master.zonedist1.unique()"
   ]
  },
  {
   "cell_type": "markdown",
   "id": "843a0015",
   "metadata": {},
   "source": [
    "# Creating a zoning category"
   ]
  },
  {
   "cell_type": "code",
   "execution_count": 247,
   "id": "f8a759dc",
   "metadata": {},
   "outputs": [],
   "source": [
    "zoning=[]\n",
    "for index,row in master.iterrows():\n",
    "    if ('R' in row['zonedist1']) & ('M' in row['zonedist1']):\n",
    "        zoning.append('Mixed')\n",
    "    elif (re.match(\"^[R][0-9]\", row['zonedist1'])):\n",
    "        zoning.append('Residential')\n",
    "    elif ('C' in row['zonedist1']):\n",
    "        zoning.append('Commercial')\n",
    "    elif ('M' in row['zonedist1']):\n",
    "        zoning.append('Manufacturing')\n",
    "    else:\n",
    "        zoning.append('Other')"
   ]
  },
  {
   "cell_type": "code",
   "execution_count": 248,
   "id": "91887986",
   "metadata": {
    "scrolled": true
   },
   "outputs": [],
   "source": [
    "master['zoning']=zoning"
   ]
  },
  {
   "cell_type": "code",
   "execution_count": 249,
   "id": "8a626e00",
   "metadata": {},
   "outputs": [],
   "source": [
    "master=pd.concat([master,pd.get_dummies(master['zoning'],prefix='zon')],axis=1)"
   ]
  },
  {
   "cell_type": "code",
   "execution_count": 250,
   "id": "8c20ea26",
   "metadata": {},
   "outputs": [
    {
     "data": {
      "text/html": [
       "<div>\n",
       "<style scoped>\n",
       "    .dataframe tbody tr th:only-of-type {\n",
       "        vertical-align: middle;\n",
       "    }\n",
       "\n",
       "    .dataframe tbody tr th {\n",
       "        vertical-align: top;\n",
       "    }\n",
       "\n",
       "    .dataframe thead th {\n",
       "        text-align: right;\n",
       "    }\n",
       "</style>\n",
       "<table border=\"1\" class=\"dataframe\">\n",
       "  <thead>\n",
       "    <tr style=\"text-align: right;\">\n",
       "      <th></th>\n",
       "      <th>bbl</th>\n",
       "      <th>geoid</th>\n",
       "      <th>year_x</th>\n",
       "      <th>zonedist1</th>\n",
       "      <th>bldgclass</th>\n",
       "      <th>landuse</th>\n",
       "      <th>easements</th>\n",
       "      <th>ownertype</th>\n",
       "      <th>lotarea</th>\n",
       "      <th>comarea</th>\n",
       "      <th>...</th>\n",
       "      <th>noisePerCapita</th>\n",
       "      <th>built_green</th>\n",
       "      <th>maxfar</th>\n",
       "      <th>low_educ</th>\n",
       "      <th>zoning</th>\n",
       "      <th>zon_Commercial</th>\n",
       "      <th>zon_Manufacturing</th>\n",
       "      <th>zon_Mixed</th>\n",
       "      <th>zon_Other</th>\n",
       "      <th>zon_Residential</th>\n",
       "    </tr>\n",
       "  </thead>\n",
       "  <tbody>\n",
       "    <tr>\n",
       "      <th>2</th>\n",
       "      <td>2.022600e+09</td>\n",
       "      <td>360050019004</td>\n",
       "      <td>2010</td>\n",
       "      <td>M3-1</td>\n",
       "      <td>E9</td>\n",
       "      <td>6.0</td>\n",
       "      <td>0</td>\n",
       "      <td>P</td>\n",
       "      <td>45053</td>\n",
       "      <td>860</td>\n",
       "      <td>...</td>\n",
       "      <td>0.0</td>\n",
       "      <td>0.158909</td>\n",
       "      <td>2.0</td>\n",
       "      <td>0.000000</td>\n",
       "      <td>Manufacturing</td>\n",
       "      <td>0</td>\n",
       "      <td>1</td>\n",
       "      <td>0</td>\n",
       "      <td>0</td>\n",
       "      <td>0</td>\n",
       "    </tr>\n",
       "    <tr>\n",
       "      <th>3</th>\n",
       "      <td>2.025831e+09</td>\n",
       "      <td>360050019004</td>\n",
       "      <td>2010</td>\n",
       "      <td>M3-1</td>\n",
       "      <td>Z6</td>\n",
       "      <td>NaN</td>\n",
       "      <td>0</td>\n",
       "      <td>X</td>\n",
       "      <td>3622</td>\n",
       "      <td>0</td>\n",
       "      <td>...</td>\n",
       "      <td>0.0</td>\n",
       "      <td>0.158909</td>\n",
       "      <td>2.0</td>\n",
       "      <td>0.000000</td>\n",
       "      <td>Manufacturing</td>\n",
       "      <td>0</td>\n",
       "      <td>1</td>\n",
       "      <td>0</td>\n",
       "      <td>0</td>\n",
       "      <td>0</td>\n",
       "    </tr>\n",
       "    <tr>\n",
       "      <th>5</th>\n",
       "      <td>2.023160e+09</td>\n",
       "      <td>360050019004</td>\n",
       "      <td>2010</td>\n",
       "      <td>M1-3/R8</td>\n",
       "      <td>G1</td>\n",
       "      <td>10.0</td>\n",
       "      <td>0</td>\n",
       "      <td>P</td>\n",
       "      <td>133700</td>\n",
       "      <td>83064</td>\n",
       "      <td>...</td>\n",
       "      <td>0.0</td>\n",
       "      <td>0.158909</td>\n",
       "      <td>7.2</td>\n",
       "      <td>0.000000</td>\n",
       "      <td>Mixed</td>\n",
       "      <td>0</td>\n",
       "      <td>0</td>\n",
       "      <td>1</td>\n",
       "      <td>0</td>\n",
       "      <td>0</td>\n",
       "    </tr>\n",
       "    <tr>\n",
       "      <th>7</th>\n",
       "      <td>2.025830e+09</td>\n",
       "      <td>360050019004</td>\n",
       "      <td>2010</td>\n",
       "      <td>M3-1</td>\n",
       "      <td>Z9</td>\n",
       "      <td>NaN</td>\n",
       "      <td>0</td>\n",
       "      <td>P</td>\n",
       "      <td>145500</td>\n",
       "      <td>86992</td>\n",
       "      <td>...</td>\n",
       "      <td>0.0</td>\n",
       "      <td>0.158909</td>\n",
       "      <td>2.0</td>\n",
       "      <td>0.000000</td>\n",
       "      <td>Manufacturing</td>\n",
       "      <td>0</td>\n",
       "      <td>1</td>\n",
       "      <td>0</td>\n",
       "      <td>0</td>\n",
       "      <td>0</td>\n",
       "    </tr>\n",
       "    <tr>\n",
       "      <th>8</th>\n",
       "      <td>2.025830e+09</td>\n",
       "      <td>360050019004</td>\n",
       "      <td>2010</td>\n",
       "      <td>M3-1</td>\n",
       "      <td>Z9</td>\n",
       "      <td>NaN</td>\n",
       "      <td>2</td>\n",
       "      <td>P</td>\n",
       "      <td>412300</td>\n",
       "      <td>15000</td>\n",
       "      <td>...</td>\n",
       "      <td>0.0</td>\n",
       "      <td>0.158909</td>\n",
       "      <td>2.0</td>\n",
       "      <td>0.000000</td>\n",
       "      <td>Manufacturing</td>\n",
       "      <td>0</td>\n",
       "      <td>1</td>\n",
       "      <td>0</td>\n",
       "      <td>0</td>\n",
       "      <td>0</td>\n",
       "    </tr>\n",
       "    <tr>\n",
       "      <th>...</th>\n",
       "      <td>...</td>\n",
       "      <td>...</td>\n",
       "      <td>...</td>\n",
       "      <td>...</td>\n",
       "      <td>...</td>\n",
       "      <td>...</td>\n",
       "      <td>...</td>\n",
       "      <td>...</td>\n",
       "      <td>...</td>\n",
       "      <td>...</td>\n",
       "      <td>...</td>\n",
       "      <td>...</td>\n",
       "      <td>...</td>\n",
       "      <td>...</td>\n",
       "      <td>...</td>\n",
       "      <td>...</td>\n",
       "      <td>...</td>\n",
       "      <td>...</td>\n",
       "      <td>...</td>\n",
       "      <td>...</td>\n",
       "      <td>...</td>\n",
       "    </tr>\n",
       "    <tr>\n",
       "      <th>6946818</th>\n",
       "      <td>5.026410e+09</td>\n",
       "      <td>360850228001</td>\n",
       "      <td>2017</td>\n",
       "      <td>R3A</td>\n",
       "      <td>A5</td>\n",
       "      <td>1.0</td>\n",
       "      <td>0</td>\n",
       "      <td>NaN</td>\n",
       "      <td>2900</td>\n",
       "      <td>0</td>\n",
       "      <td>...</td>\n",
       "      <td>0.0</td>\n",
       "      <td>0.533950</td>\n",
       "      <td>1.0</td>\n",
       "      <td>0.443554</td>\n",
       "      <td>Residential</td>\n",
       "      <td>0</td>\n",
       "      <td>0</td>\n",
       "      <td>0</td>\n",
       "      <td>0</td>\n",
       "      <td>1</td>\n",
       "    </tr>\n",
       "    <tr>\n",
       "      <th>6946819</th>\n",
       "      <td>5.026410e+09</td>\n",
       "      <td>360850228001</td>\n",
       "      <td>2017</td>\n",
       "      <td>R3A</td>\n",
       "      <td>A1</td>\n",
       "      <td>1.0</td>\n",
       "      <td>0</td>\n",
       "      <td>NaN</td>\n",
       "      <td>2693</td>\n",
       "      <td>0</td>\n",
       "      <td>...</td>\n",
       "      <td>0.0</td>\n",
       "      <td>0.533950</td>\n",
       "      <td>1.0</td>\n",
       "      <td>0.443554</td>\n",
       "      <td>Residential</td>\n",
       "      <td>0</td>\n",
       "      <td>0</td>\n",
       "      <td>0</td>\n",
       "      <td>0</td>\n",
       "      <td>1</td>\n",
       "    </tr>\n",
       "    <tr>\n",
       "      <th>6946820</th>\n",
       "      <td>5.026410e+09</td>\n",
       "      <td>360850228001</td>\n",
       "      <td>2017</td>\n",
       "      <td>R3A</td>\n",
       "      <td>A1</td>\n",
       "      <td>1.0</td>\n",
       "      <td>0</td>\n",
       "      <td>NaN</td>\n",
       "      <td>2620</td>\n",
       "      <td>0</td>\n",
       "      <td>...</td>\n",
       "      <td>0.0</td>\n",
       "      <td>0.533950</td>\n",
       "      <td>1.0</td>\n",
       "      <td>0.443554</td>\n",
       "      <td>Residential</td>\n",
       "      <td>0</td>\n",
       "      <td>0</td>\n",
       "      <td>0</td>\n",
       "      <td>0</td>\n",
       "      <td>1</td>\n",
       "    </tr>\n",
       "    <tr>\n",
       "      <th>6946821</th>\n",
       "      <td>5.026410e+09</td>\n",
       "      <td>360850228001</td>\n",
       "      <td>2017</td>\n",
       "      <td>R3A</td>\n",
       "      <td>A5</td>\n",
       "      <td>1.0</td>\n",
       "      <td>0</td>\n",
       "      <td>NaN</td>\n",
       "      <td>2533</td>\n",
       "      <td>0</td>\n",
       "      <td>...</td>\n",
       "      <td>0.0</td>\n",
       "      <td>0.533950</td>\n",
       "      <td>1.0</td>\n",
       "      <td>0.443554</td>\n",
       "      <td>Residential</td>\n",
       "      <td>0</td>\n",
       "      <td>0</td>\n",
       "      <td>0</td>\n",
       "      <td>0</td>\n",
       "      <td>1</td>\n",
       "    </tr>\n",
       "    <tr>\n",
       "      <th>6946830</th>\n",
       "      <td>5.011050e+09</td>\n",
       "      <td>360850207000</td>\n",
       "      <td>2017</td>\n",
       "      <td>M2-1</td>\n",
       "      <td>G9</td>\n",
       "      <td>7.0</td>\n",
       "      <td>0</td>\n",
       "      <td>P</td>\n",
       "      <td>163418</td>\n",
       "      <td>2500</td>\n",
       "      <td>...</td>\n",
       "      <td>0.0</td>\n",
       "      <td>0.311456</td>\n",
       "      <td>2.0</td>\n",
       "      <td>0.542117</td>\n",
       "      <td>Manufacturing</td>\n",
       "      <td>0</td>\n",
       "      <td>1</td>\n",
       "      <td>0</td>\n",
       "      <td>0</td>\n",
       "      <td>0</td>\n",
       "    </tr>\n",
       "  </tbody>\n",
       "</table>\n",
       "<p>6570394 rows × 35 columns</p>\n",
       "</div>"
      ],
      "text/plain": [
       "                  bbl         geoid  year_x zonedist1 bldgclass  landuse  \\\n",
       "2        2.022600e+09  360050019004    2010      M3-1        E9      6.0   \n",
       "3        2.025831e+09  360050019004    2010      M3-1        Z6      NaN   \n",
       "5        2.023160e+09  360050019004    2010   M1-3/R8        G1     10.0   \n",
       "7        2.025830e+09  360050019004    2010      M3-1        Z9      NaN   \n",
       "8        2.025830e+09  360050019004    2010      M3-1        Z9      NaN   \n",
       "...               ...           ...     ...       ...       ...      ...   \n",
       "6946818  5.026410e+09  360850228001    2017       R3A        A5      1.0   \n",
       "6946819  5.026410e+09  360850228001    2017       R3A        A1      1.0   \n",
       "6946820  5.026410e+09  360850228001    2017       R3A        A1      1.0   \n",
       "6946821  5.026410e+09  360850228001    2017       R3A        A5      1.0   \n",
       "6946830  5.011050e+09  360850207000    2017      M2-1        G9      7.0   \n",
       "\n",
       "         easements ownertype  lotarea  comarea  ...  noisePerCapita  \\\n",
       "2                0         P    45053      860  ...             0.0   \n",
       "3                0         X     3622        0  ...             0.0   \n",
       "5                0         P   133700    83064  ...             0.0   \n",
       "7                0         P   145500    86992  ...             0.0   \n",
       "8                2         P   412300    15000  ...             0.0   \n",
       "...            ...       ...      ...      ...  ...             ...   \n",
       "6946818          0       NaN     2900        0  ...             0.0   \n",
       "6946819          0       NaN     2693        0  ...             0.0   \n",
       "6946820          0       NaN     2620        0  ...             0.0   \n",
       "6946821          0       NaN     2533        0  ...             0.0   \n",
       "6946830          0         P   163418     2500  ...             0.0   \n",
       "\n",
       "         built_green  maxfar  low_educ         zoning  zon_Commercial  \\\n",
       "2           0.158909     2.0  0.000000  Manufacturing               0   \n",
       "3           0.158909     2.0  0.000000  Manufacturing               0   \n",
       "5           0.158909     7.2  0.000000          Mixed               0   \n",
       "7           0.158909     2.0  0.000000  Manufacturing               0   \n",
       "8           0.158909     2.0  0.000000  Manufacturing               0   \n",
       "...              ...     ...       ...            ...             ...   \n",
       "6946818     0.533950     1.0  0.443554    Residential               0   \n",
       "6946819     0.533950     1.0  0.443554    Residential               0   \n",
       "6946820     0.533950     1.0  0.443554    Residential               0   \n",
       "6946821     0.533950     1.0  0.443554    Residential               0   \n",
       "6946830     0.311456     2.0  0.542117  Manufacturing               0   \n",
       "\n",
       "         zon_Manufacturing  zon_Mixed  zon_Other  zon_Residential  \n",
       "2                        1          0          0                0  \n",
       "3                        1          0          0                0  \n",
       "5                        0          1          0                0  \n",
       "7                        1          0          0                0  \n",
       "8                        1          0          0                0  \n",
       "...                    ...        ...        ...              ...  \n",
       "6946818                  0          0          0                1  \n",
       "6946819                  0          0          0                1  \n",
       "6946820                  0          0          0                1  \n",
       "6946821                  0          0          0                1  \n",
       "6946830                  1          0          0                0  \n",
       "\n",
       "[6570394 rows x 35 columns]"
      ]
     },
     "execution_count": 250,
     "metadata": {},
     "output_type": "execute_result"
    }
   ],
   "source": [
    "master"
   ]
  },
  {
   "cell_type": "markdown",
   "id": "93c7acaf",
   "metadata": {},
   "source": [
    "#### Building class"
   ]
  },
  {
   "cell_type": "code",
   "execution_count": 251,
   "id": "d40c5386",
   "metadata": {},
   "outputs": [
    {
     "data": {
      "text/plain": [
       "0"
      ]
     },
     "execution_count": 251,
     "metadata": {},
     "output_type": "execute_result"
    }
   ],
   "source": [
    "master.bldgclass.isna().sum()"
   ]
  },
  {
   "cell_type": "code",
   "execution_count": 252,
   "id": "ae35af11",
   "metadata": {},
   "outputs": [],
   "source": [
    "def decode(buil_class):\n",
    "    if 'A' in buil_class:\n",
    "        return 'One Family Dwellings'\n",
    "    elif 'B' in buil_class:\n",
    "        return 'Two Family Dwellings'\n",
    "    elif 'C' in buil_class:\n",
    "        return 'Walk up apartments'\n",
    "    elif 'D' in buil_class:\n",
    "        return 'Elevator apartments'\n",
    "    elif 'E' in buil_class:\n",
    "        return 'Warehouses'\n",
    "    elif 'F' in buil_class:\n",
    "        return 'Factory and industrial buildings'\n",
    "    elif 'G' in buil_class:\n",
    "        return 'Garages and gasoline stations'\n",
    "    elif 'H' in buil_class:\n",
    "        return 'Hotels'\n",
    "    elif 'I' in buil_class:\n",
    "        return 'Hospitals and Health'\n",
    "    elif 'J' in buil_class:\n",
    "        return 'Theatres'\n",
    "    elif 'K' in buil_class:\n",
    "        return 'Store buildings'\n",
    "    elif 'L' in buil_class:\n",
    "        return 'Loft buildings'\n",
    "    elif 'M' in buil_class:\n",
    "        return 'Churches, synagogues, etc.'\n",
    "    elif 'N' in buil_class:\n",
    "        return 'Asylums and homes'\n",
    "    elif 'O' in buil_class:\n",
    "        return 'Office buildings'\n",
    "    elif 'P' in buil_class:\n",
    "        return 'Places of public assembly'\n",
    "    elif 'Q' in buil_class:\n",
    "        return 'Outdoor recreation facilities'\n",
    "    elif 'R' in buil_class:\n",
    "        return 'Condominiums'\n",
    "    elif 'S' in buil_class:\n",
    "        return 'Residence- multiple use'\n",
    "    elif 'T' in buil_class:\n",
    "        return 'Transportation facilities'\n",
    "    elif 'U' in buil_class:\n",
    "        return 'Utility bureau properties'\n",
    "    elif 'V' in buil_class:\n",
    "        return 'Vacant land'\n",
    "    elif 'W' in buil_class:\n",
    "        return 'Educational structures'\n",
    "    elif 'Y' in buil_class:\n",
    "        return 'Government installations'\n",
    "    elif 'Z' in buil_class:\n",
    "        return 'Miscellaneous'"
   ]
  },
  {
   "cell_type": "code",
   "execution_count": 253,
   "id": "6f21af28",
   "metadata": {},
   "outputs": [],
   "source": [
    "#master['build_code']=[decode(row['bldgclass']) for index,row in master.iterrows()]"
   ]
  },
  {
   "cell_type": "markdown",
   "id": "99112fd0",
   "metadata": {},
   "source": [
    "#### Land use"
   ]
  },
  {
   "cell_type": "code",
   "execution_count": 254,
   "id": "5367362a",
   "metadata": {},
   "outputs": [],
   "source": [
    "def decode_landuse(x):\n",
    "    if x==1.0:\n",
    "        return 'One & Two Family bouldings'\n",
    "    elif x==2.0:\n",
    "        return 'Multi-Family Walk-up Buildings'\n",
    "    elif x==3.0:\n",
    "        return 'Multi-Family Elevator Buildings'\n",
    "    elif x==4.0:\n",
    "        return 'Mixed residential & Commercial Buildings'\n",
    "    elif x==5.0:\n",
    "        return 'Commercial & Office Buildings'\n",
    "    elif x==6.0:\n",
    "        return 'Industrial & Manufacturing Buildings'\n",
    "    elif x==7.0:\n",
    "        return 'Transportation & utility'\n",
    "    elif x==8.0:\n",
    "        return 'Public Facilities & Institutions'\n",
    "    elif x==9.0:\n",
    "        return 'Open Space & Outdoor Recreation'\n",
    "    elif x==10.0:\n",
    "        return 'Parking Facilities'\n",
    "    elif x==11.0:\n",
    "        return 'Vacant Land'\n"
   ]
  },
  {
   "cell_type": "code",
   "execution_count": 255,
   "id": "f4c93873",
   "metadata": {},
   "outputs": [
    {
     "data": {
      "text/plain": [
       "array(['Z6', 'Z9', 'Y5'], dtype=object)"
      ]
     },
     "execution_count": 255,
     "metadata": {},
     "output_type": "execute_result"
    }
   ],
   "source": [
    "master[master.landuse.isna()].bldgclass.unique()"
   ]
  },
  {
   "cell_type": "code",
   "execution_count": 256,
   "id": "c498f614",
   "metadata": {},
   "outputs": [],
   "source": [
    "master=master[~(master.landuse.isna())]"
   ]
  },
  {
   "cell_type": "code",
   "execution_count": 257,
   "id": "8c085c61",
   "metadata": {},
   "outputs": [],
   "source": [
    "#master['land_use']=[decode_landuse(row['land_use']) for index,row in master.iterrows()]"
   ]
  },
  {
   "cell_type": "code",
   "execution_count": 258,
   "id": "b9cfb820",
   "metadata": {},
   "outputs": [],
   "source": [
    "master=pd.concat([master,pd.get_dummies(master['landuse'],prefix='land_use')],axis=1)"
   ]
  },
  {
   "cell_type": "code",
   "execution_count": 259,
   "id": "c3b765b2",
   "metadata": {},
   "outputs": [
    {
     "data": {
      "text/html": [
       "<div>\n",
       "<style scoped>\n",
       "    .dataframe tbody tr th:only-of-type {\n",
       "        vertical-align: middle;\n",
       "    }\n",
       "\n",
       "    .dataframe tbody tr th {\n",
       "        vertical-align: top;\n",
       "    }\n",
       "\n",
       "    .dataframe thead th {\n",
       "        text-align: right;\n",
       "    }\n",
       "</style>\n",
       "<table border=\"1\" class=\"dataframe\">\n",
       "  <thead>\n",
       "    <tr style=\"text-align: right;\">\n",
       "      <th></th>\n",
       "      <th>bbl</th>\n",
       "      <th>geoid</th>\n",
       "      <th>year_x</th>\n",
       "      <th>zonedist1</th>\n",
       "      <th>bldgclass</th>\n",
       "      <th>landuse</th>\n",
       "      <th>easements</th>\n",
       "      <th>ownertype</th>\n",
       "      <th>lotarea</th>\n",
       "      <th>comarea</th>\n",
       "      <th>...</th>\n",
       "      <th>land_use_2.0</th>\n",
       "      <th>land_use_3.0</th>\n",
       "      <th>land_use_4.0</th>\n",
       "      <th>land_use_5.0</th>\n",
       "      <th>land_use_6.0</th>\n",
       "      <th>land_use_7.0</th>\n",
       "      <th>land_use_8.0</th>\n",
       "      <th>land_use_9.0</th>\n",
       "      <th>land_use_10.0</th>\n",
       "      <th>land_use_11.0</th>\n",
       "    </tr>\n",
       "  </thead>\n",
       "  <tbody>\n",
       "    <tr>\n",
       "      <th>2</th>\n",
       "      <td>2.022600e+09</td>\n",
       "      <td>360050019004</td>\n",
       "      <td>2010</td>\n",
       "      <td>M3-1</td>\n",
       "      <td>E9</td>\n",
       "      <td>6.0</td>\n",
       "      <td>0</td>\n",
       "      <td>P</td>\n",
       "      <td>45053</td>\n",
       "      <td>860</td>\n",
       "      <td>...</td>\n",
       "      <td>0</td>\n",
       "      <td>0</td>\n",
       "      <td>0</td>\n",
       "      <td>0</td>\n",
       "      <td>1</td>\n",
       "      <td>0</td>\n",
       "      <td>0</td>\n",
       "      <td>0</td>\n",
       "      <td>0</td>\n",
       "      <td>0</td>\n",
       "    </tr>\n",
       "    <tr>\n",
       "      <th>5</th>\n",
       "      <td>2.023160e+09</td>\n",
       "      <td>360050019004</td>\n",
       "      <td>2010</td>\n",
       "      <td>M1-3/R8</td>\n",
       "      <td>G1</td>\n",
       "      <td>10.0</td>\n",
       "      <td>0</td>\n",
       "      <td>P</td>\n",
       "      <td>133700</td>\n",
       "      <td>83064</td>\n",
       "      <td>...</td>\n",
       "      <td>0</td>\n",
       "      <td>0</td>\n",
       "      <td>0</td>\n",
       "      <td>0</td>\n",
       "      <td>0</td>\n",
       "      <td>0</td>\n",
       "      <td>0</td>\n",
       "      <td>0</td>\n",
       "      <td>1</td>\n",
       "      <td>0</td>\n",
       "    </tr>\n",
       "    <tr>\n",
       "      <th>10</th>\n",
       "      <td>2.025830e+09</td>\n",
       "      <td>360050019004</td>\n",
       "      <td>2010</td>\n",
       "      <td>M3-1</td>\n",
       "      <td>F2</td>\n",
       "      <td>6.0</td>\n",
       "      <td>0</td>\n",
       "      <td>P</td>\n",
       "      <td>350500</td>\n",
       "      <td>445625</td>\n",
       "      <td>...</td>\n",
       "      <td>0</td>\n",
       "      <td>0</td>\n",
       "      <td>0</td>\n",
       "      <td>0</td>\n",
       "      <td>1</td>\n",
       "      <td>0</td>\n",
       "      <td>0</td>\n",
       "      <td>0</td>\n",
       "      <td>0</td>\n",
       "      <td>0</td>\n",
       "    </tr>\n",
       "    <tr>\n",
       "      <th>12</th>\n",
       "      <td>2.025430e+09</td>\n",
       "      <td>360050019004</td>\n",
       "      <td>2010</td>\n",
       "      <td>M3-1</td>\n",
       "      <td>F1</td>\n",
       "      <td>6.0</td>\n",
       "      <td>2</td>\n",
       "      <td>P</td>\n",
       "      <td>54543</td>\n",
       "      <td>47851</td>\n",
       "      <td>...</td>\n",
       "      <td>0</td>\n",
       "      <td>0</td>\n",
       "      <td>0</td>\n",
       "      <td>0</td>\n",
       "      <td>1</td>\n",
       "      <td>0</td>\n",
       "      <td>0</td>\n",
       "      <td>0</td>\n",
       "      <td>0</td>\n",
       "      <td>0</td>\n",
       "    </tr>\n",
       "    <tr>\n",
       "      <th>17</th>\n",
       "      <td>2.022600e+09</td>\n",
       "      <td>360050019004</td>\n",
       "      <td>2010</td>\n",
       "      <td>M3-1</td>\n",
       "      <td>E1</td>\n",
       "      <td>6.0</td>\n",
       "      <td>0</td>\n",
       "      <td>P</td>\n",
       "      <td>153200</td>\n",
       "      <td>98000</td>\n",
       "      <td>...</td>\n",
       "      <td>0</td>\n",
       "      <td>0</td>\n",
       "      <td>0</td>\n",
       "      <td>0</td>\n",
       "      <td>1</td>\n",
       "      <td>0</td>\n",
       "      <td>0</td>\n",
       "      <td>0</td>\n",
       "      <td>0</td>\n",
       "      <td>0</td>\n",
       "    </tr>\n",
       "    <tr>\n",
       "      <th>...</th>\n",
       "      <td>...</td>\n",
       "      <td>...</td>\n",
       "      <td>...</td>\n",
       "      <td>...</td>\n",
       "      <td>...</td>\n",
       "      <td>...</td>\n",
       "      <td>...</td>\n",
       "      <td>...</td>\n",
       "      <td>...</td>\n",
       "      <td>...</td>\n",
       "      <td>...</td>\n",
       "      <td>...</td>\n",
       "      <td>...</td>\n",
       "      <td>...</td>\n",
       "      <td>...</td>\n",
       "      <td>...</td>\n",
       "      <td>...</td>\n",
       "      <td>...</td>\n",
       "      <td>...</td>\n",
       "      <td>...</td>\n",
       "      <td>...</td>\n",
       "    </tr>\n",
       "    <tr>\n",
       "      <th>6946818</th>\n",
       "      <td>5.026410e+09</td>\n",
       "      <td>360850228001</td>\n",
       "      <td>2017</td>\n",
       "      <td>R3A</td>\n",
       "      <td>A5</td>\n",
       "      <td>1.0</td>\n",
       "      <td>0</td>\n",
       "      <td>NaN</td>\n",
       "      <td>2900</td>\n",
       "      <td>0</td>\n",
       "      <td>...</td>\n",
       "      <td>0</td>\n",
       "      <td>0</td>\n",
       "      <td>0</td>\n",
       "      <td>0</td>\n",
       "      <td>0</td>\n",
       "      <td>0</td>\n",
       "      <td>0</td>\n",
       "      <td>0</td>\n",
       "      <td>0</td>\n",
       "      <td>0</td>\n",
       "    </tr>\n",
       "    <tr>\n",
       "      <th>6946819</th>\n",
       "      <td>5.026410e+09</td>\n",
       "      <td>360850228001</td>\n",
       "      <td>2017</td>\n",
       "      <td>R3A</td>\n",
       "      <td>A1</td>\n",
       "      <td>1.0</td>\n",
       "      <td>0</td>\n",
       "      <td>NaN</td>\n",
       "      <td>2693</td>\n",
       "      <td>0</td>\n",
       "      <td>...</td>\n",
       "      <td>0</td>\n",
       "      <td>0</td>\n",
       "      <td>0</td>\n",
       "      <td>0</td>\n",
       "      <td>0</td>\n",
       "      <td>0</td>\n",
       "      <td>0</td>\n",
       "      <td>0</td>\n",
       "      <td>0</td>\n",
       "      <td>0</td>\n",
       "    </tr>\n",
       "    <tr>\n",
       "      <th>6946820</th>\n",
       "      <td>5.026410e+09</td>\n",
       "      <td>360850228001</td>\n",
       "      <td>2017</td>\n",
       "      <td>R3A</td>\n",
       "      <td>A1</td>\n",
       "      <td>1.0</td>\n",
       "      <td>0</td>\n",
       "      <td>NaN</td>\n",
       "      <td>2620</td>\n",
       "      <td>0</td>\n",
       "      <td>...</td>\n",
       "      <td>0</td>\n",
       "      <td>0</td>\n",
       "      <td>0</td>\n",
       "      <td>0</td>\n",
       "      <td>0</td>\n",
       "      <td>0</td>\n",
       "      <td>0</td>\n",
       "      <td>0</td>\n",
       "      <td>0</td>\n",
       "      <td>0</td>\n",
       "    </tr>\n",
       "    <tr>\n",
       "      <th>6946821</th>\n",
       "      <td>5.026410e+09</td>\n",
       "      <td>360850228001</td>\n",
       "      <td>2017</td>\n",
       "      <td>R3A</td>\n",
       "      <td>A5</td>\n",
       "      <td>1.0</td>\n",
       "      <td>0</td>\n",
       "      <td>NaN</td>\n",
       "      <td>2533</td>\n",
       "      <td>0</td>\n",
       "      <td>...</td>\n",
       "      <td>0</td>\n",
       "      <td>0</td>\n",
       "      <td>0</td>\n",
       "      <td>0</td>\n",
       "      <td>0</td>\n",
       "      <td>0</td>\n",
       "      <td>0</td>\n",
       "      <td>0</td>\n",
       "      <td>0</td>\n",
       "      <td>0</td>\n",
       "    </tr>\n",
       "    <tr>\n",
       "      <th>6946830</th>\n",
       "      <td>5.011050e+09</td>\n",
       "      <td>360850207000</td>\n",
       "      <td>2017</td>\n",
       "      <td>M2-1</td>\n",
       "      <td>G9</td>\n",
       "      <td>7.0</td>\n",
       "      <td>0</td>\n",
       "      <td>P</td>\n",
       "      <td>163418</td>\n",
       "      <td>2500</td>\n",
       "      <td>...</td>\n",
       "      <td>0</td>\n",
       "      <td>0</td>\n",
       "      <td>0</td>\n",
       "      <td>0</td>\n",
       "      <td>0</td>\n",
       "      <td>1</td>\n",
       "      <td>0</td>\n",
       "      <td>0</td>\n",
       "      <td>0</td>\n",
       "      <td>0</td>\n",
       "    </tr>\n",
       "  </tbody>\n",
       "</table>\n",
       "<p>6563824 rows × 46 columns</p>\n",
       "</div>"
      ],
      "text/plain": [
       "                  bbl         geoid  year_x zonedist1 bldgclass  landuse  \\\n",
       "2        2.022600e+09  360050019004    2010      M3-1        E9      6.0   \n",
       "5        2.023160e+09  360050019004    2010   M1-3/R8        G1     10.0   \n",
       "10       2.025830e+09  360050019004    2010      M3-1        F2      6.0   \n",
       "12       2.025430e+09  360050019004    2010      M3-1        F1      6.0   \n",
       "17       2.022600e+09  360050019004    2010      M3-1        E1      6.0   \n",
       "...               ...           ...     ...       ...       ...      ...   \n",
       "6946818  5.026410e+09  360850228001    2017       R3A        A5      1.0   \n",
       "6946819  5.026410e+09  360850228001    2017       R3A        A1      1.0   \n",
       "6946820  5.026410e+09  360850228001    2017       R3A        A1      1.0   \n",
       "6946821  5.026410e+09  360850228001    2017       R3A        A5      1.0   \n",
       "6946830  5.011050e+09  360850207000    2017      M2-1        G9      7.0   \n",
       "\n",
       "         easements ownertype  lotarea  comarea  ...  land_use_2.0  \\\n",
       "2                0         P    45053      860  ...             0   \n",
       "5                0         P   133700    83064  ...             0   \n",
       "10               0         P   350500   445625  ...             0   \n",
       "12               2         P    54543    47851  ...             0   \n",
       "17               0         P   153200    98000  ...             0   \n",
       "...            ...       ...      ...      ...  ...           ...   \n",
       "6946818          0       NaN     2900        0  ...             0   \n",
       "6946819          0       NaN     2693        0  ...             0   \n",
       "6946820          0       NaN     2620        0  ...             0   \n",
       "6946821          0       NaN     2533        0  ...             0   \n",
       "6946830          0         P   163418     2500  ...             0   \n",
       "\n",
       "         land_use_3.0  land_use_4.0  land_use_5.0  land_use_6.0  land_use_7.0  \\\n",
       "2                   0             0             0             1             0   \n",
       "5                   0             0             0             0             0   \n",
       "10                  0             0             0             1             0   \n",
       "12                  0             0             0             1             0   \n",
       "17                  0             0             0             1             0   \n",
       "...               ...           ...           ...           ...           ...   \n",
       "6946818             0             0             0             0             0   \n",
       "6946819             0             0             0             0             0   \n",
       "6946820             0             0             0             0             0   \n",
       "6946821             0             0             0             0             0   \n",
       "6946830             0             0             0             0             1   \n",
       "\n",
       "         land_use_8.0  land_use_9.0  land_use_10.0  land_use_11.0  \n",
       "2                   0             0              0              0  \n",
       "5                   0             0              1              0  \n",
       "10                  0             0              0              0  \n",
       "12                  0             0              0              0  \n",
       "17                  0             0              0              0  \n",
       "...               ...           ...            ...            ...  \n",
       "6946818             0             0              0              0  \n",
       "6946819             0             0              0              0  \n",
       "6946820             0             0              0              0  \n",
       "6946821             0             0              0              0  \n",
       "6946830             0             0              0              0  \n",
       "\n",
       "[6563824 rows x 46 columns]"
      ]
     },
     "execution_count": 259,
     "metadata": {},
     "output_type": "execute_result"
    }
   ],
   "source": [
    "master"
   ]
  },
  {
   "cell_type": "markdown",
   "id": "cc24ee31",
   "metadata": {},
   "source": []
  },
  {
   "cell_type": "markdown",
   "id": "8efd7f04",
   "metadata": {},
   "source": [
    "#### Easements"
   ]
  },
  {
   "cell_type": "code",
   "execution_count": 260,
   "id": "78f7e09a",
   "metadata": {},
   "outputs": [
    {
     "data": {
      "text/plain": [
       "0"
      ]
     },
     "execution_count": 260,
     "metadata": {},
     "output_type": "execute_result"
    }
   ],
   "source": [
    "master.easements.isna().sum()"
   ]
  },
  {
   "cell_type": "code",
   "execution_count": 261,
   "id": "132a069a",
   "metadata": {},
   "outputs": [
    {
     "data": {
      "text/plain": [
       "<AxesSubplot:>"
      ]
     },
     "execution_count": 261,
     "metadata": {},
     "output_type": "execute_result"
    },
    {
     "data": {
      "image/png": "[encoded data removed]",
      "text/plain": [
       "<Figure size 432x288 with 1 Axes>"
      ]
     },
     "metadata": {
      "needs_background": "light"
     },
     "output_type": "display_data"
    }
   ],
   "source": [
    "master.easements.hist()"
   ]
  },
  {
   "cell_type": "markdown",
   "id": "ecacf8ef",
   "metadata": {},
   "source": [
    "#### Owner type"
   ]
  },
  {
   "cell_type": "code",
   "execution_count": 262,
   "id": "5ebe2df8",
   "metadata": {},
   "outputs": [
    {
     "data": {
      "text/plain": [
       "5864525"
      ]
     },
     "execution_count": 262,
     "metadata": {},
     "output_type": "execute_result"
    }
   ],
   "source": [
    "master.ownertype.isna().sum()"
   ]
  },
  {
   "cell_type": "code",
   "execution_count": null,
   "id": "355890cb",
   "metadata": {},
   "outputs": [],
   "source": []
  },
  {
   "cell_type": "markdown",
   "id": "1137ea61",
   "metadata": {},
   "source": [
    "#### Lot area"
   ]
  },
  {
   "cell_type": "code",
   "execution_count": 263,
   "id": "48e22adc",
   "metadata": {},
   "outputs": [
    {
     "data": {
      "text/plain": [
       "0"
      ]
     },
     "execution_count": 263,
     "metadata": {},
     "output_type": "execute_result"
    }
   ],
   "source": [
    "master.lotarea.isna().sum()"
   ]
  },
  {
   "cell_type": "markdown",
   "id": "2fd2c131",
   "metadata": {},
   "source": [
    "#### Area by land use"
   ]
  },
  {
   "cell_type": "code",
   "execution_count": 264,
   "id": "a4c82256",
   "metadata": {},
   "outputs": [],
   "source": [
    "area=['comarea', 'resarea', 'officearea',\n",
    "       'retailarea', 'garagearea', 'strgearea', 'factryarea']\n",
    "new=['comm_built_far','res_built_far','office_built_far','retail_built_far',\n",
    "     'garage_built_far','storage_built_far','factry_built_far']\n",
    "for i in range(len(area)):\n",
    "    master[new[i]]=master[area[i]]/master['lotarea']"
   ]
  },
  {
   "cell_type": "code",
   "execution_count": null,
   "id": "b58ad296",
   "metadata": {},
   "outputs": [],
   "source": []
  },
  {
   "cell_type": "markdown",
   "id": "c047ca3b",
   "metadata": {},
   "source": [
    "#### assesland and assesstot"
   ]
  },
  {
   "cell_type": "code",
   "execution_count": 265,
   "id": "c258307b",
   "metadata": {
    "scrolled": true
   },
   "outputs": [
    {
     "data": {
      "text/plain": [
       "<AxesSubplot:>"
      ]
     },
     "execution_count": 265,
     "metadata": {},
     "output_type": "execute_result"
    },
    {
     "data": {
      "image/png": "[encoded data removed]",
      "text/plain": [
       "<Figure size 432x288 with 1 Axes>"
      ]
     },
     "metadata": {
      "needs_background": "light"
     },
     "output_type": "display_data"
    }
   ],
   "source": [
    "master.assessland.hist()"
   ]
  },
  {
   "cell_type": "code",
   "execution_count": 266,
   "id": "ccad351c",
   "metadata": {},
   "outputs": [
    {
     "data": {
      "text/plain": [
       "<AxesSubplot:>"
      ]
     },
     "execution_count": 266,
     "metadata": {},
     "output_type": "execute_result"
    },
    {
     "data": {
      "image/png": "[encoded data removed]",
      "text/plain": [
       "<Figure size 432x288 with 1 Axes>"
      ]
     },
     "metadata": {
      "needs_background": "light"
     },
     "output_type": "display_data"
    }
   ],
   "source": [
    "master.assesstot.hist()"
   ]
  },
  {
   "cell_type": "markdown",
   "id": "948274bf",
   "metadata": {},
   "source": [
    "#### Year built"
   ]
  },
  {
   "cell_type": "code",
   "execution_count": 267,
   "id": "f150c967",
   "metadata": {},
   "outputs": [
    {
     "data": {
      "text/plain": [
       "count    6.563824e+06\n",
       "mean     1.940151e+03\n",
       "std      2.875959e+01\n",
       "min      1.661000e+03\n",
       "25%      1.920000e+03\n",
       "50%      1.931000e+03\n",
       "75%      1.955000e+03\n",
       "max      2.040000e+03\n",
       "Name: yearbuilt, dtype: float64"
      ]
     },
     "execution_count": 267,
     "metadata": {},
     "output_type": "execute_result"
    }
   ],
   "source": [
    "master.yearbuilt.describe()"
   ]
  },
  {
   "cell_type": "markdown",
   "id": "ad15e95e",
   "metadata": {},
   "source": [
    "#### med_income"
   ]
  },
  {
   "cell_type": "code",
   "execution_count": 268,
   "id": "4af1cdac",
   "metadata": {},
   "outputs": [
    {
     "data": {
      "text/plain": [
       "<AxesSubplot:>"
      ]
     },
     "execution_count": 268,
     "metadata": {},
     "output_type": "execute_result"
    },
    {
     "data": {
      "image/png": "[encoded data removed]",
      "text/plain": [
       "<Figure size 432x288 with 1 Axes>"
      ]
     },
     "metadata": {
      "needs_background": "light"
     },
     "output_type": "display_data"
    }
   ],
   "source": [
    "master.med_income.hist()"
   ]
  },
  {
   "cell_type": "markdown",
   "id": "8282fa60",
   "metadata": {},
   "source": [
    "#### subway_acc"
   ]
  },
  {
   "cell_type": "code",
   "execution_count": 269,
   "id": "c530b6ca",
   "metadata": {},
   "outputs": [
    {
     "data": {
      "text/plain": [
       "<AxesSubplot:>"
      ]
     },
     "execution_count": 269,
     "metadata": {},
     "output_type": "execute_result"
    },
    {
     "data": {
      "image/png": "[encoded data removed]",
      "text/plain": [
       "<Figure size 432x288 with 1 Axes>"
      ]
     },
     "metadata": {
      "needs_background": "light"
     },
     "output_type": "display_data"
    }
   ],
   "source": [
    "master.subway_acc.hist()"
   ]
  },
  {
   "cell_type": "markdown",
   "id": "fefe0371",
   "metadata": {},
   "source": [
    "#### Noise per capita"
   ]
  },
  {
   "cell_type": "code",
   "execution_count": 270,
   "id": "c725e286",
   "metadata": {},
   "outputs": [
    {
     "data": {
      "text/plain": [
       "<AxesSubplot:>"
      ]
     },
     "execution_count": 270,
     "metadata": {},
     "output_type": "execute_result"
    },
    {
     "data": {
      "image/png": "[encoded data removed]",
      "text/plain": [
       "<Figure size 432x288 with 1 Axes>"
      ]
     },
     "metadata": {
      "needs_background": "light"
     },
     "output_type": "display_data"
    }
   ],
   "source": [
    "master.noisePerCapita.hist()"
   ]
  },
  {
   "cell_type": "markdown",
   "id": "c4e1ef09",
   "metadata": {},
   "source": [
    "#### Low education"
   ]
  },
  {
   "cell_type": "code",
   "execution_count": 271,
   "id": "7c5530a2",
   "metadata": {},
   "outputs": [
    {
     "data": {
      "text/plain": [
       "<AxesSubplot:>"
      ]
     },
     "execution_count": 271,
     "metadata": {},
     "output_type": "execute_result"
    },
    {
     "data": {
      "image/png": "[encoded data removed]",
      "text/plain": [
       "<Figure size 432x288 with 1 Axes>"
      ]
     },
     "metadata": {
      "needs_background": "light"
     },
     "output_type": "display_data"
    }
   ],
   "source": [
    "master.low_educ.hist()"
   ]
  },
  {
   "cell_type": "markdown",
   "id": "6580a113",
   "metadata": {},
   "source": []
  },
  {
   "cell_type": "code",
   "execution_count": 272,
   "id": "7dc9ccc2",
   "metadata": {},
   "outputs": [
    {
     "data": {
      "text/plain": [
       "Index(['bbl', 'geoid', 'year_x', 'zonedist1', 'bldgclass', 'landuse',\n",
       "       'easements', 'ownertype', 'lotarea', 'comarea', 'resarea', 'officearea',\n",
       "       'retailarea', 'garagearea', 'strgearea', 'factryarea', 'lotfront',\n",
       "       'lotdepth', 'assessland', 'assesstot', 'yearbuilt', 'builtfar',\n",
       "       'med_income', 'housing_units', 'subway_acc', 'noisePerCapita',\n",
       "       'built_green', 'maxfar', 'low_educ', 'zoning', 'zon_Commercial',\n",
       "       'zon_Manufacturing', 'zon_Mixed', 'zon_Other', 'zon_Residential',\n",
       "       'land_use_1.0', 'land_use_2.0', 'land_use_3.0', 'land_use_4.0',\n",
       "       'land_use_5.0', 'land_use_6.0', 'land_use_7.0', 'land_use_8.0',\n",
       "       'land_use_9.0', 'land_use_10.0', 'land_use_11.0', 'comm_built_far',\n",
       "       'res_built_far', 'office_built_far', 'retail_built_far',\n",
       "       'garage_built_far', 'storage_built_far', 'factry_built_far'],\n",
       "      dtype='object')"
      ]
     },
     "execution_count": 272,
     "metadata": {},
     "output_type": "execute_result"
    }
   ],
   "source": [
    "master.columns"
   ]
  },
  {
   "cell_type": "code",
   "execution_count": 273,
   "id": "d052f6c1",
   "metadata": {},
   "outputs": [],
   "source": [
    "model_var=['bbl', 'geoid', 'year_x', 'easements', 'lotarea', 'lotfront',\n",
    "       'lotdepth', 'assessland', 'assesstot', 'yearbuilt', 'builtfar',\n",
    "       'med_income', 'housing_units', 'subway_acc', 'noisePerCapita',\n",
    "       'built_green', 'maxfar', 'low_educ', 'comm_built_far',\n",
    "       'res_built_far', 'office_built_far', 'retail_built_far',\n",
    "       'garage_built_far', 'storage_built_far', 'factry_built_far',\n",
    "       'zon_Commercial', 'zon_Manufacturing', 'zon_Mixed', 'zon_Other',\n",
    "       'zon_Residential', 'land_use_1.0', 'land_use_2.0', 'land_use_3.0',\n",
    "       'land_use_4.0', 'land_use_5.0', 'land_use_6.0', 'land_use_7.0',\n",
    "       'land_use_8.0', 'land_use_9.0', 'land_use_10.0', 'land_use_11.0']"
   ]
  },
  {
   "cell_type": "code",
   "execution_count": 274,
   "id": "130e3518",
   "metadata": {},
   "outputs": [],
   "source": [
    "master=master[model_var]"
   ]
  },
  {
   "cell_type": "code",
   "execution_count": 275,
   "id": "43f84b2d",
   "metadata": {},
   "outputs": [],
   "source": [
    "master=master[(master.year_x==2010) | (master.year_x==2012) | (master.year_x==2014) | (master.year_x==2017)]"
   ]
  },
  {
   "cell_type": "code",
   "execution_count": 276,
   "id": "d8d885cb",
   "metadata": {
    "scrolled": true
   },
   "outputs": [
    {
     "data": {
      "text/plain": [
       "bbl                  0\n",
       "geoid                0\n",
       "year_x               0\n",
       "easements            0\n",
       "lotarea              0\n",
       "lotfront             0\n",
       "lotdepth             0\n",
       "assessland           0\n",
       "assesstot            0\n",
       "yearbuilt            0\n",
       "builtfar             0\n",
       "med_income           0\n",
       "housing_units        0\n",
       "subway_acc           0\n",
       "noisePerCapita       0\n",
       "built_green          0\n",
       "maxfar               0\n",
       "low_educ             0\n",
       "comm_built_far       0\n",
       "res_built_far        0\n",
       "office_built_far     0\n",
       "retail_built_far     0\n",
       "garage_built_far     0\n",
       "storage_built_far    0\n",
       "factry_built_far     0\n",
       "zon_Commercial       0\n",
       "zon_Manufacturing    0\n",
       "zon_Mixed            0\n",
       "zon_Other            0\n",
       "zon_Residential      0\n",
       "land_use_1.0         0\n",
       "land_use_2.0         0\n",
       "land_use_3.0         0\n",
       "land_use_4.0         0\n",
       "land_use_5.0         0\n",
       "land_use_6.0         0\n",
       "land_use_7.0         0\n",
       "land_use_8.0         0\n",
       "land_use_9.0         0\n",
       "land_use_10.0        0\n",
       "land_use_11.0        0\n",
       "dtype: int64"
      ]
     },
     "execution_count": 276,
     "metadata": {},
     "output_type": "execute_result"
    }
   ],
   "source": [
    "master.isna().sum()"
   ]
  },
  {
   "cell_type": "code",
   "execution_count": null,
   "id": "d94e60ac",
   "metadata": {},
   "outputs": [],
   "source": [
    "master=master.drop_duplicates(subset=['bbl','year_x'])"
   ]
  },
  {
   "cell_type": "code",
   "execution_count": 277,
   "id": "b8db922f",
   "metadata": {},
   "outputs": [],
   "source": [
    "master.to_csv(r'C:\\Users\\Jose Ramon Romero P\\Documents\\NYU\\Semester 2\\Capstone 1\\NYC-Rezoning-evaluation\\data\\mappluto_nyc\\mappluto_nyc\\master_pre_model2010_2017.csv')"
   ]
  }
 ],
 "metadata": {
  "kernelspec": {
   "display_name": "Python 3 (ipykernel)",
   "language": "python",
   "name": "python3"
  },
  "language_info": {
   "codemirror_mode": {
    "name": "ipython",
    "version": 3
   },
   "file_extension": ".py",
   "mimetype": "text/x-python",
   "name": "python",
   "nbconvert_exporter": "python",
   "pygments_lexer": "ipython3",
   "version": "3.8.5"
  }
 },
 "nbformat": 4,
 "nbformat_minor": 5
}
