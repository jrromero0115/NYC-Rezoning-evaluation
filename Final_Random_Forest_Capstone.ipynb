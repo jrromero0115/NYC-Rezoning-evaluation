{
  "nbformat": 4,
  "nbformat_minor": 0,
  "metadata": {
    "colab": {
      "name": "Final Random Forest Capstone.ipynb",
      "provenance": [],
      "collapsed_sections": [],
      "machine_shape": "hm"
    },
    "kernelspec": {
      "name": "python3",
      "display_name": "Python 3"
    },
    "language_info": {
      "name": "python"
    }
  },
  "cells": [
    {
      "cell_type": "code",
      "metadata": {
        "id": "1rOb4P7pGMU4"
      },
      "source": [
        ""
      ],
      "execution_count": null,
      "outputs": []
    },
    {
      "cell_type": "code",
      "metadata": {
        "id": "ofkMR7FQGS71"
      },
      "source": [
        "from sklearn.model_selection import train_test_split\n",
        "from sklearn.tree import DecisionTreeClassifier\n",
        "import pandas as pd\n",
        "import numpy as np\n",
        "import io\n",
        "import matplotlib.pylab as plt"
      ],
      "execution_count": null,
      "outputs": []
    },
    {
      "cell_type": "code",
      "metadata": {
        "id": "jh0TvK_PgWP2"
      },
      "source": [
        "all=pd.read_csv('/content/drive/MyDrive/Rezoning/NewYorkCity/model_viz.csv')"
      ],
      "execution_count": null,
      "outputs": []
    },
    {
      "cell_type": "code",
      "metadata": {
        "colab": {
          "base_uri": "https://localhost:8080/",
          "height": 270
        },
        "id": "rCG53fZNgsBl",
        "outputId": "868b9403-1a7b-443f-922d-5b7e629f156f"
      },
      "source": [
        "all.head()"
      ],
      "execution_count": null,
      "outputs": [
        {
          "output_type": "execute_result",
          "data": {
            "text/html": [
              "<div>\n",
              "<style scoped>\n",
              "    .dataframe tbody tr th:only-of-type {\n",
              "        vertical-align: middle;\n",
              "    }\n",
              "\n",
              "    .dataframe tbody tr th {\n",
              "        vertical-align: top;\n",
              "    }\n",
              "\n",
              "    .dataframe thead th {\n",
              "        text-align: right;\n",
              "    }\n",
              "</style>\n",
              "<table border=\"1\" class=\"dataframe\">\n",
              "  <thead>\n",
              "    <tr style=\"text-align: right;\">\n",
              "      <th></th>\n",
              "      <th>Unnamed: 0</th>\n",
              "      <th>bbl</th>\n",
              "      <th>easements_10</th>\n",
              "      <th>lotarea_10</th>\n",
              "      <th>lotfront_10</th>\n",
              "      <th>lotdepth_10</th>\n",
              "      <th>assessland_10</th>\n",
              "      <th>assesstot_10</th>\n",
              "      <th>yearbuilt_10</th>\n",
              "      <th>builtfar_10</th>\n",
              "      <th>med_income_10</th>\n",
              "      <th>housing_units_10</th>\n",
              "      <th>subway_acc_10</th>\n",
              "      <th>noisePerCapita_10</th>\n",
              "      <th>built_green_10</th>\n",
              "      <th>maxfar_10</th>\n",
              "      <th>low_educ_10</th>\n",
              "      <th>comm_built_far_10</th>\n",
              "      <th>res_built_far_10</th>\n",
              "      <th>office_built_far_10</th>\n",
              "      <th>retail_built_far_10</th>\n",
              "      <th>garage_built_far_10</th>\n",
              "      <th>storage_built_far_10</th>\n",
              "      <th>factry_built_far_10</th>\n",
              "      <th>zon_Commercial_10</th>\n",
              "      <th>zon_Manufacturing_10</th>\n",
              "      <th>zon_Mixed_10</th>\n",
              "      <th>zon_Other_10</th>\n",
              "      <th>zon_Residential_10</th>\n",
              "      <th>land_use_1.0_10</th>\n",
              "      <th>land_use_2.0_10</th>\n",
              "      <th>land_use_3.0_10</th>\n",
              "      <th>land_use_4.0_10</th>\n",
              "      <th>land_use_5.0_10</th>\n",
              "      <th>land_use_6.0_10</th>\n",
              "      <th>land_use_7.0_10</th>\n",
              "      <th>land_use_8.0_10</th>\n",
              "      <th>land_use_9.0_10</th>\n",
              "      <th>land_use_10.0_10</th>\n",
              "      <th>land_use_11.0_10</th>\n",
              "      <th>...</th>\n",
              "      <th>lotdepth_14</th>\n",
              "      <th>yearbuilt_14</th>\n",
              "      <th>med_income_14</th>\n",
              "      <th>housing_units_14</th>\n",
              "      <th>subway_acc_14</th>\n",
              "      <th>noisePerCapita_14</th>\n",
              "      <th>built_green_14</th>\n",
              "      <th>low_educ_14</th>\n",
              "      <th>zon_Commercial_14</th>\n",
              "      <th>zon_Manufacturing_14</th>\n",
              "      <th>zon_Mixed_14</th>\n",
              "      <th>zon_Other_14</th>\n",
              "      <th>zon_Residential_14</th>\n",
              "      <th>land_use_1.0_14</th>\n",
              "      <th>land_use_2.0_14</th>\n",
              "      <th>land_use_3.0_14</th>\n",
              "      <th>land_use_4.0_14</th>\n",
              "      <th>land_use_5.0_14</th>\n",
              "      <th>land_use_6.0_14</th>\n",
              "      <th>land_use_7.0_14</th>\n",
              "      <th>land_use_8.0_14</th>\n",
              "      <th>land_use_9.0_14</th>\n",
              "      <th>land_use_10.0_14</th>\n",
              "      <th>land_use_11.0_14</th>\n",
              "      <th>diff_1214_assessland</th>\n",
              "      <th>diff_1214_assesstot</th>\n",
              "      <th>diff_1214_builtfar</th>\n",
              "      <th>diff_1214_maxfar</th>\n",
              "      <th>diff_1214_comm_built_far</th>\n",
              "      <th>diff_1214_res_built_far</th>\n",
              "      <th>diff_1214_office_built_far</th>\n",
              "      <th>diff_1214_retail_built_far</th>\n",
              "      <th>diff_1214_garage_built_far</th>\n",
              "      <th>diff_1214_storage_built_far</th>\n",
              "      <th>diff_1214_factry_built_far</th>\n",
              "      <th>comm_built_far_17</th>\n",
              "      <th>res_built_far_17</th>\n",
              "      <th>lotarea_17</th>\n",
              "      <th>maxfar_17</th>\n",
              "      <th>diff</th>\n",
              "    </tr>\n",
              "  </thead>\n",
              "  <tbody>\n",
              "    <tr>\n",
              "      <th>0</th>\n",
              "      <td>0</td>\n",
              "      <td>2.022600e+09</td>\n",
              "      <td>0</td>\n",
              "      <td>45053</td>\n",
              "      <td>301.42</td>\n",
              "      <td>76.58</td>\n",
              "      <td>270450.0</td>\n",
              "      <td>297900.0</td>\n",
              "      <td>1931</td>\n",
              "      <td>0.02</td>\n",
              "      <td>0.0</td>\n",
              "      <td>0.0</td>\n",
              "      <td>7720.114746</td>\n",
              "      <td>0.0</td>\n",
              "      <td>0.158909</td>\n",
              "      <td>2.0</td>\n",
              "      <td>0.0</td>\n",
              "      <td>0.019089</td>\n",
              "      <td>0.0</td>\n",
              "      <td>0.000000</td>\n",
              "      <td>0.000000</td>\n",
              "      <td>0.000000</td>\n",
              "      <td>0.019089</td>\n",
              "      <td>0.000000</td>\n",
              "      <td>0</td>\n",
              "      <td>1</td>\n",
              "      <td>0</td>\n",
              "      <td>0</td>\n",
              "      <td>0</td>\n",
              "      <td>0</td>\n",
              "      <td>0</td>\n",
              "      <td>0</td>\n",
              "      <td>0</td>\n",
              "      <td>0</td>\n",
              "      <td>1</td>\n",
              "      <td>0</td>\n",
              "      <td>0</td>\n",
              "      <td>0</td>\n",
              "      <td>0</td>\n",
              "      <td>0</td>\n",
              "      <td>...</td>\n",
              "      <td>76.58</td>\n",
              "      <td>1931</td>\n",
              "      <td>0.0</td>\n",
              "      <td>0.0</td>\n",
              "      <td>7720.114746</td>\n",
              "      <td>0.0</td>\n",
              "      <td>0.158909</td>\n",
              "      <td>0.0</td>\n",
              "      <td>0</td>\n",
              "      <td>1</td>\n",
              "      <td>0</td>\n",
              "      <td>0</td>\n",
              "      <td>0</td>\n",
              "      <td>0</td>\n",
              "      <td>0</td>\n",
              "      <td>0</td>\n",
              "      <td>0</td>\n",
              "      <td>0</td>\n",
              "      <td>1</td>\n",
              "      <td>0</td>\n",
              "      <td>0</td>\n",
              "      <td>0</td>\n",
              "      <td>0</td>\n",
              "      <td>0</td>\n",
              "      <td>0.0</td>\n",
              "      <td>21150.0</td>\n",
              "      <td>0.0</td>\n",
              "      <td>0.0</td>\n",
              "      <td>0.0</td>\n",
              "      <td>0.0</td>\n",
              "      <td>0.0</td>\n",
              "      <td>0.0</td>\n",
              "      <td>0.0</td>\n",
              "      <td>0.0</td>\n",
              "      <td>0.0</td>\n",
              "      <td>0.019089</td>\n",
              "      <td>0.0</td>\n",
              "      <td>45053</td>\n",
              "      <td>2.0</td>\n",
              "      <td>0.0</td>\n",
              "    </tr>\n",
              "    <tr>\n",
              "      <th>1</th>\n",
              "      <td>1</td>\n",
              "      <td>2.023160e+09</td>\n",
              "      <td>0</td>\n",
              "      <td>133700</td>\n",
              "      <td>333.08</td>\n",
              "      <td>430.00</td>\n",
              "      <td>450000.0</td>\n",
              "      <td>1804500.0</td>\n",
              "      <td>1966</td>\n",
              "      <td>0.62</td>\n",
              "      <td>0.0</td>\n",
              "      <td>0.0</td>\n",
              "      <td>7720.114746</td>\n",
              "      <td>0.0</td>\n",
              "      <td>0.158909</td>\n",
              "      <td>7.2</td>\n",
              "      <td>0.0</td>\n",
              "      <td>0.621272</td>\n",
              "      <td>0.0</td>\n",
              "      <td>0.052356</td>\n",
              "      <td>0.000000</td>\n",
              "      <td>0.568915</td>\n",
              "      <td>0.000000</td>\n",
              "      <td>0.000000</td>\n",
              "      <td>0</td>\n",
              "      <td>0</td>\n",
              "      <td>1</td>\n",
              "      <td>0</td>\n",
              "      <td>0</td>\n",
              "      <td>0</td>\n",
              "      <td>0</td>\n",
              "      <td>0</td>\n",
              "      <td>0</td>\n",
              "      <td>0</td>\n",
              "      <td>0</td>\n",
              "      <td>0</td>\n",
              "      <td>0</td>\n",
              "      <td>0</td>\n",
              "      <td>1</td>\n",
              "      <td>0</td>\n",
              "      <td>...</td>\n",
              "      <td>430.00</td>\n",
              "      <td>1966</td>\n",
              "      <td>0.0</td>\n",
              "      <td>0.0</td>\n",
              "      <td>7720.114746</td>\n",
              "      <td>0.0</td>\n",
              "      <td>0.158909</td>\n",
              "      <td>0.0</td>\n",
              "      <td>0</td>\n",
              "      <td>0</td>\n",
              "      <td>1</td>\n",
              "      <td>0</td>\n",
              "      <td>0</td>\n",
              "      <td>0</td>\n",
              "      <td>0</td>\n",
              "      <td>0</td>\n",
              "      <td>0</td>\n",
              "      <td>0</td>\n",
              "      <td>0</td>\n",
              "      <td>0</td>\n",
              "      <td>0</td>\n",
              "      <td>0</td>\n",
              "      <td>1</td>\n",
              "      <td>0</td>\n",
              "      <td>0.0</td>\n",
              "      <td>178650.0</td>\n",
              "      <td>0.0</td>\n",
              "      <td>0.0</td>\n",
              "      <td>0.0</td>\n",
              "      <td>0.0</td>\n",
              "      <td>0.0</td>\n",
              "      <td>0.0</td>\n",
              "      <td>0.0</td>\n",
              "      <td>0.0</td>\n",
              "      <td>0.0</td>\n",
              "      <td>0.621272</td>\n",
              "      <td>0.0</td>\n",
              "      <td>133700</td>\n",
              "      <td>7.2</td>\n",
              "      <td>0.0</td>\n",
              "    </tr>\n",
              "    <tr>\n",
              "      <th>2</th>\n",
              "      <td>2</td>\n",
              "      <td>2.025830e+09</td>\n",
              "      <td>0</td>\n",
              "      <td>350500</td>\n",
              "      <td>377.00</td>\n",
              "      <td>986.00</td>\n",
              "      <td>3154500.0</td>\n",
              "      <td>63900000.0</td>\n",
              "      <td>1999</td>\n",
              "      <td>1.27</td>\n",
              "      <td>0.0</td>\n",
              "      <td>0.0</td>\n",
              "      <td>7720.114746</td>\n",
              "      <td>0.0</td>\n",
              "      <td>0.158909</td>\n",
              "      <td>2.0</td>\n",
              "      <td>0.0</td>\n",
              "      <td>1.271398</td>\n",
              "      <td>0.0</td>\n",
              "      <td>0.114123</td>\n",
              "      <td>0.000000</td>\n",
              "      <td>0.000000</td>\n",
              "      <td>0.014265</td>\n",
              "      <td>1.143010</td>\n",
              "      <td>0</td>\n",
              "      <td>1</td>\n",
              "      <td>0</td>\n",
              "      <td>0</td>\n",
              "      <td>0</td>\n",
              "      <td>0</td>\n",
              "      <td>0</td>\n",
              "      <td>0</td>\n",
              "      <td>0</td>\n",
              "      <td>0</td>\n",
              "      <td>1</td>\n",
              "      <td>0</td>\n",
              "      <td>0</td>\n",
              "      <td>0</td>\n",
              "      <td>0</td>\n",
              "      <td>0</td>\n",
              "      <td>...</td>\n",
              "      <td>986.00</td>\n",
              "      <td>1999</td>\n",
              "      <td>0.0</td>\n",
              "      <td>0.0</td>\n",
              "      <td>7720.114746</td>\n",
              "      <td>0.0</td>\n",
              "      <td>0.158909</td>\n",
              "      <td>0.0</td>\n",
              "      <td>0</td>\n",
              "      <td>1</td>\n",
              "      <td>0</td>\n",
              "      <td>0</td>\n",
              "      <td>0</td>\n",
              "      <td>0</td>\n",
              "      <td>0</td>\n",
              "      <td>0</td>\n",
              "      <td>0</td>\n",
              "      <td>0</td>\n",
              "      <td>1</td>\n",
              "      <td>0</td>\n",
              "      <td>0</td>\n",
              "      <td>0</td>\n",
              "      <td>0</td>\n",
              "      <td>0</td>\n",
              "      <td>0.0</td>\n",
              "      <td>3043800.0</td>\n",
              "      <td>0.0</td>\n",
              "      <td>0.0</td>\n",
              "      <td>0.0</td>\n",
              "      <td>0.0</td>\n",
              "      <td>0.0</td>\n",
              "      <td>0.0</td>\n",
              "      <td>0.0</td>\n",
              "      <td>0.0</td>\n",
              "      <td>0.0</td>\n",
              "      <td>1.275735</td>\n",
              "      <td>0.0</td>\n",
              "      <td>350500</td>\n",
              "      <td>2.0</td>\n",
              "      <td>0.0</td>\n",
              "    </tr>\n",
              "    <tr>\n",
              "      <th>3</th>\n",
              "      <td>3</td>\n",
              "      <td>2.025430e+09</td>\n",
              "      <td>2</td>\n",
              "      <td>54543</td>\n",
              "      <td>439.87</td>\n",
              "      <td>124.00</td>\n",
              "      <td>268650.0</td>\n",
              "      <td>1300500.0</td>\n",
              "      <td>1952</td>\n",
              "      <td>0.88</td>\n",
              "      <td>0.0</td>\n",
              "      <td>0.0</td>\n",
              "      <td>7720.114746</td>\n",
              "      <td>0.0</td>\n",
              "      <td>0.158909</td>\n",
              "      <td>2.0</td>\n",
              "      <td>0.0</td>\n",
              "      <td>0.877308</td>\n",
              "      <td>0.0</td>\n",
              "      <td>0.018334</td>\n",
              "      <td>0.036668</td>\n",
              "      <td>0.000000</td>\n",
              "      <td>0.000000</td>\n",
              "      <td>0.822305</td>\n",
              "      <td>0</td>\n",
              "      <td>1</td>\n",
              "      <td>0</td>\n",
              "      <td>0</td>\n",
              "      <td>0</td>\n",
              "      <td>0</td>\n",
              "      <td>0</td>\n",
              "      <td>0</td>\n",
              "      <td>0</td>\n",
              "      <td>0</td>\n",
              "      <td>1</td>\n",
              "      <td>0</td>\n",
              "      <td>0</td>\n",
              "      <td>0</td>\n",
              "      <td>0</td>\n",
              "      <td>0</td>\n",
              "      <td>...</td>\n",
              "      <td>124.00</td>\n",
              "      <td>1952</td>\n",
              "      <td>0.0</td>\n",
              "      <td>0.0</td>\n",
              "      <td>7720.114746</td>\n",
              "      <td>0.0</td>\n",
              "      <td>0.158909</td>\n",
              "      <td>0.0</td>\n",
              "      <td>0</td>\n",
              "      <td>1</td>\n",
              "      <td>0</td>\n",
              "      <td>0</td>\n",
              "      <td>0</td>\n",
              "      <td>0</td>\n",
              "      <td>0</td>\n",
              "      <td>0</td>\n",
              "      <td>0</td>\n",
              "      <td>0</td>\n",
              "      <td>1</td>\n",
              "      <td>0</td>\n",
              "      <td>0</td>\n",
              "      <td>0</td>\n",
              "      <td>0</td>\n",
              "      <td>0</td>\n",
              "      <td>0.0</td>\n",
              "      <td>235350.0</td>\n",
              "      <td>0.0</td>\n",
              "      <td>0.0</td>\n",
              "      <td>0.0</td>\n",
              "      <td>0.0</td>\n",
              "      <td>0.0</td>\n",
              "      <td>0.0</td>\n",
              "      <td>0.0</td>\n",
              "      <td>0.0</td>\n",
              "      <td>0.0</td>\n",
              "      <td>0.913758</td>\n",
              "      <td>0.0</td>\n",
              "      <td>54556</td>\n",
              "      <td>2.0</td>\n",
              "      <td>0.0</td>\n",
              "    </tr>\n",
              "    <tr>\n",
              "      <th>4</th>\n",
              "      <td>4</td>\n",
              "      <td>2.022600e+09</td>\n",
              "      <td>0</td>\n",
              "      <td>153200</td>\n",
              "      <td>197.00</td>\n",
              "      <td>567.58</td>\n",
              "      <td>765000.0</td>\n",
              "      <td>2326500.0</td>\n",
              "      <td>1967</td>\n",
              "      <td>0.64</td>\n",
              "      <td>0.0</td>\n",
              "      <td>0.0</td>\n",
              "      <td>7720.114746</td>\n",
              "      <td>0.0</td>\n",
              "      <td>0.158909</td>\n",
              "      <td>2.0</td>\n",
              "      <td>0.0</td>\n",
              "      <td>0.639687</td>\n",
              "      <td>0.0</td>\n",
              "      <td>0.000000</td>\n",
              "      <td>0.000000</td>\n",
              "      <td>0.000000</td>\n",
              "      <td>0.639687</td>\n",
              "      <td>0.000000</td>\n",
              "      <td>0</td>\n",
              "      <td>1</td>\n",
              "      <td>0</td>\n",
              "      <td>0</td>\n",
              "      <td>0</td>\n",
              "      <td>0</td>\n",
              "      <td>0</td>\n",
              "      <td>0</td>\n",
              "      <td>0</td>\n",
              "      <td>0</td>\n",
              "      <td>1</td>\n",
              "      <td>0</td>\n",
              "      <td>0</td>\n",
              "      <td>0</td>\n",
              "      <td>0</td>\n",
              "      <td>0</td>\n",
              "      <td>...</td>\n",
              "      <td>567.58</td>\n",
              "      <td>1967</td>\n",
              "      <td>0.0</td>\n",
              "      <td>0.0</td>\n",
              "      <td>7720.114746</td>\n",
              "      <td>0.0</td>\n",
              "      <td>0.158909</td>\n",
              "      <td>0.0</td>\n",
              "      <td>0</td>\n",
              "      <td>1</td>\n",
              "      <td>0</td>\n",
              "      <td>0</td>\n",
              "      <td>0</td>\n",
              "      <td>0</td>\n",
              "      <td>0</td>\n",
              "      <td>0</td>\n",
              "      <td>0</td>\n",
              "      <td>0</td>\n",
              "      <td>1</td>\n",
              "      <td>0</td>\n",
              "      <td>0</td>\n",
              "      <td>0</td>\n",
              "      <td>0</td>\n",
              "      <td>0</td>\n",
              "      <td>0.0</td>\n",
              "      <td>267750.0</td>\n",
              "      <td>0.0</td>\n",
              "      <td>0.0</td>\n",
              "      <td>0.0</td>\n",
              "      <td>0.0</td>\n",
              "      <td>0.0</td>\n",
              "      <td>0.0</td>\n",
              "      <td>0.0</td>\n",
              "      <td>0.0</td>\n",
              "      <td>0.0</td>\n",
              "      <td>0.639687</td>\n",
              "      <td>0.0</td>\n",
              "      <td>153200</td>\n",
              "      <td>2.0</td>\n",
              "      <td>0.0</td>\n",
              "    </tr>\n",
              "  </tbody>\n",
              "</table>\n",
              "<p>5 rows × 121 columns</p>\n",
              "</div>"
            ],
            "text/plain": [
              "   Unnamed: 0           bbl  easements_10  ...  lotarea_17  maxfar_17  diff\n",
              "0           0  2.022600e+09             0  ...       45053        2.0   0.0\n",
              "1           1  2.023160e+09             0  ...      133700        7.2   0.0\n",
              "2           2  2.025830e+09             0  ...      350500        2.0   0.0\n",
              "3           3  2.025430e+09             2  ...       54556        2.0   0.0\n",
              "4           4  2.022600e+09             0  ...      153200        2.0   0.0\n",
              "\n",
              "[5 rows x 121 columns]"
            ]
          },
          "metadata": {},
          "execution_count": 5
        }
      ]
    },
    {
      "cell_type": "code",
      "metadata": {
        "colab": {
          "base_uri": "https://localhost:8080/"
        },
        "id": "pbIN3SEqhVGX",
        "outputId": "c70600ca-038c-4cb7-b698-da32913ab989"
      },
      "source": [
        "all.shape\n"
      ],
      "execution_count": null,
      "outputs": [
        {
          "output_type": "execute_result",
          "data": {
            "text/plain": [
              "(802180, 121)"
            ]
          },
          "metadata": {},
          "execution_count": 9
        }
      ]
    },
    {
      "cell_type": "code",
      "metadata": {
        "colab": {
          "base_uri": "https://localhost:8080/"
        },
        "id": "7jVRdN36tI2k",
        "outputId": "7c1a0d0e-4ff3-404e-c8a3-1dfa7923f6be"
      },
      "source": [
        "all2.shape"
      ],
      "execution_count": null,
      "outputs": [
        {
          "output_type": "execute_result",
          "data": {
            "text/plain": [
              "(802180, 68)"
            ]
          },
          "metadata": {},
          "execution_count": 24
        }
      ]
    },
    {
      "cell_type": "code",
      "metadata": {
        "colab": {
          "base_uri": "https://localhost:8080/"
        },
        "id": "i4SrdRMLg53Q",
        "outputId": "bfa150c3-dccf-4121-bd9a-f248837eeb02"
      },
      "source": [
        "all.columns\n"
      ],
      "execution_count": null,
      "outputs": [
        {
          "output_type": "execute_result",
          "data": {
            "text/plain": [
              "Index(['Unnamed: 0', 'bbl', 'easements_10', 'lotarea_10', 'lotfront_10',\n",
              "       'lotdepth_10', 'assessland_10', 'assesstot_10', 'yearbuilt_10',\n",
              "       'builtfar_10',\n",
              "       ...\n",
              "       'diff_1214_office_built_far', 'diff_1214_retail_built_far',\n",
              "       'diff_1214_garage_built_far', 'diff_1214_storage_built_far',\n",
              "       'diff_1214_factry_built_far', 'comm_built_far_17', 'res_built_far_17',\n",
              "       'lotarea_17', 'maxfar_17', 'diff'],\n",
              "      dtype='object', length=121)"
            ]
          },
          "metadata": {},
          "execution_count": 7
        }
      ]
    },
    {
      "cell_type": "code",
      "metadata": {
        "id": "Ja1mFmz1j1EA"
      },
      "source": [
        "all=all.drop(['Unnamed: 0','comm_built_far_17', 'res_built_far_17',\n",
        "       'lotarea_17', 'maxfar_17', 'diff'], axis=1)"
      ],
      "execution_count": null,
      "outputs": []
    },
    {
      "cell_type": "code",
      "metadata": {
        "colab": {
          "base_uri": "https://localhost:8080/"
        },
        "id": "9xtE0PHdsRSe",
        "outputId": "2406ee4b-972f-46cc-d21d-8180882f3ce4"
      },
      "source": [
        "my_list=all.columns\n",
        "str_match = [s for s in my_list if \"land_use\" in s]\n",
        "all2=all.drop(str_match, axis=1)\n",
        "str_match2 = [s for s in my_list if \"zon_\" in s]\n",
        "all2=all2.drop(str_match2, axis=1)\n",
        "all2.columns\n"
      ],
      "execution_count": null,
      "outputs": [
        {
          "output_type": "execute_result",
          "data": {
            "text/plain": [
              "Index(['bbl', 'easements_10', 'lotarea_10', 'lotfront_10', 'lotdepth_10',\n",
              "       'assessland_10', 'assesstot_10', 'yearbuilt_10', 'builtfar_10',\n",
              "       'med_income_10', 'housing_units_10', 'subway_acc_10',\n",
              "       'noisePerCapita_10', 'built_green_10', 'maxfar_10', 'low_educ_10',\n",
              "       'comm_built_far_10', 'res_built_far_10', 'office_built_far_10',\n",
              "       'retail_built_far_10', 'garage_built_far_10', 'storage_built_far_10',\n",
              "       'factry_built_far_10', 'easements_12', 'lotarea_12', 'lotfront_12',\n",
              "       'lotdepth_12', 'yearbuilt_12', 'med_income_12', 'housing_units_12',\n",
              "       'subway_acc_12', 'noisePerCapita_12', 'built_green_12', 'low_educ_12',\n",
              "       'diff_1012_assessland', 'diff_1012_assesstot', 'diff_1012_builtfar',\n",
              "       'diff_1012_maxfar', 'diff_1012_comm_built_far',\n",
              "       'diff_1012_res_built_far', 'diff_1012_office_built_far',\n",
              "       'diff_1012_retail_built_far', 'diff_1012_garage_built_far',\n",
              "       'diff_1012_storage_built_far', 'diff_1012_factry_built_far',\n",
              "       'easements_14', 'lotarea_14', 'lotfront_14', 'lotdepth_14',\n",
              "       'yearbuilt_14', 'med_income_14', 'housing_units_14', 'subway_acc_14',\n",
              "       'noisePerCapita_14', 'built_green_14', 'low_educ_14',\n",
              "       'diff_1214_assessland', 'diff_1214_assesstot', 'diff_1214_builtfar',\n",
              "       'diff_1214_maxfar', 'diff_1214_comm_built_far',\n",
              "       'diff_1214_res_built_far', 'diff_1214_office_built_far',\n",
              "       'diff_1214_retail_built_far', 'diff_1214_garage_built_far',\n",
              "       'diff_1214_storage_built_far', 'diff_1214_factry_built_far'],\n",
              "      dtype='object')"
            ]
          },
          "metadata": {},
          "execution_count": 6
        }
      ]
    },
    {
      "cell_type": "code",
      "metadata": {
        "colab": {
          "base_uri": "https://localhost:8080/"
        },
        "id": "nFh6wk0SvHRS",
        "outputId": "a80aabb4-1010-479f-b2b0-e6db9e8c904c"
      },
      "source": [
        "my_list2=all2.columns\n",
        "str_match10 = [s for s in my_list2 if \"12\" in s]\n",
        "all2010=all2.drop(str_match10, axis=1)\n",
        "str_match14 = [s for s in all2010.columns if \"14\" in s]\n",
        "all2010=all2010.drop(str_match14, axis=1)\n",
        "all2010.columns"
      ],
      "execution_count": null,
      "outputs": [
        {
          "output_type": "execute_result",
          "data": {
            "text/plain": [
              "Index(['bbl', 'easements_10', 'lotarea_10', 'lotfront_10', 'lotdepth_10',\n",
              "       'assessland_10', 'assesstot_10', 'yearbuilt_10', 'builtfar_10',\n",
              "       'med_income_10', 'housing_units_10', 'subway_acc_10',\n",
              "       'noisePerCapita_10', 'built_green_10', 'maxfar_10', 'low_educ_10',\n",
              "       'comm_built_far_10', 'res_built_far_10', 'office_built_far_10',\n",
              "       'retail_built_far_10', 'garage_built_far_10', 'storage_built_far_10',\n",
              "       'factry_built_far_10'],\n",
              "      dtype='object')"
            ]
          },
          "metadata": {},
          "execution_count": 37
        }
      ]
    },
    {
      "cell_type": "code",
      "metadata": {
        "colab": {
          "base_uri": "https://localhost:8080/"
        },
        "id": "l3vZmorUwGXP",
        "outputId": "a2dbc2c5-f6ff-4be9-dfdc-c393ae710d4e"
      },
      "source": [
        "my_list2=all2.columns\n",
        "str_match14 = [s for s in my_list2 if \"14\" in s]\n",
        "all2014=all2[str_match14]\n",
        "all2014.columns\n",
        "\n",
        "my_list2=all2.columns\n",
        "str_match12 = [s for s in my_list2 if \"12\" in s]\n",
        "all2012=all2[str_match12]\n",
        "str_match14 = [s for s in all2012.columns if \"14\" in s]\n",
        "all2012=all2012.drop(str_match14, axis=1)\n",
        "all2012.columns"
      ],
      "execution_count": null,
      "outputs": [
        {
          "output_type": "execute_result",
          "data": {
            "text/plain": [
              "Index(['easements_12', 'lotarea_12', 'lotfront_12', 'lotdepth_12',\n",
              "       'yearbuilt_12', 'med_income_12', 'housing_units_12', 'subway_acc_12',\n",
              "       'noisePerCapita_12', 'built_green_12', 'low_educ_12',\n",
              "       'diff_1012_assessland', 'diff_1012_assesstot', 'diff_1012_builtfar',\n",
              "       'diff_1012_maxfar', 'diff_1012_comm_built_far',\n",
              "       'diff_1012_res_built_far', 'diff_1012_office_built_far',\n",
              "       'diff_1012_retail_built_far', 'diff_1012_garage_built_far',\n",
              "       'diff_1012_storage_built_far', 'diff_1012_factry_built_far'],\n",
              "      dtype='object')"
            ]
          },
          "metadata": {},
          "execution_count": 46
        }
      ]
    },
    {
      "cell_type": "code",
      "metadata": {
        "colab": {
          "base_uri": "https://localhost:8080/"
        },
        "id": "_zoI8h0BxOPd",
        "outputId": "31ecbcd7-4970-4454-8d4f-3ac033b2d032"
      },
      "source": [
        "all2012.shape"
      ],
      "execution_count": null,
      "outputs": [
        {
          "output_type": "execute_result",
          "data": {
            "text/plain": [
              "(802180, 22)"
            ]
          },
          "metadata": {},
          "execution_count": 47
        }
      ]
    },
    {
      "cell_type": "code",
      "metadata": {
        "id": "i6ZpRjalwRu9"
      },
      "source": [
        "my_list2=all2.columns\n",
        "str_match10 = [s for s in my_list2 if \"12\" in s]\n",
        "all2010=all2.drop(str_match10, axis=1)\n",
        "str_match14 = [s for s in all2010.columns if \"14\" in s]\n",
        "all2010=all2010.drop(str_match14, axis=1)\n",
        "all2010.columns"
      ],
      "execution_count": null,
      "outputs": []
    },
    {
      "cell_type": "code",
      "metadata": {
        "colab": {
          "base_uri": "https://localhost:8080/"
        },
        "id": "jBSoKrkIGYDf",
        "outputId": "2b884268-d071-4fc9-9585-e94a41ab25e4"
      },
      "source": [
        "df=pd.read_csv('/content/drive/MyDrive/Rezoning/NewYorkCity/master2_2010_2017 (1).csv')"
      ],
      "execution_count": null,
      "outputs": [
        {
          "output_type": "stream",
          "name": "stderr",
          "text": [
            "/usr/local/lib/python3.7/dist-packages/IPython/core/interactiveshell.py:2718: DtypeWarning: Columns (10,11,12,13,14,15,16,17,18) have mixed types.Specify dtype option on import or set low_memory=False.\n",
            "  interactivity=interactivity, compiler=compiler, result=result)\n"
          ]
        }
      ]
    },
    {
      "cell_type": "code",
      "metadata": {
        "id": "9uVgxdaGIrZy"
      },
      "source": [
        "df=df.replace(np.nan,0)"
      ],
      "execution_count": null,
      "outputs": []
    },
    {
      "cell_type": "code",
      "metadata": {
        "id": "geQ9Q15GIyXQ"
      },
      "source": [
        "df=df.loc[df['yearbuilt']>1800]\n",
        "df=df.loc[df['landuse']>0]"
      ],
      "execution_count": null,
      "outputs": []
    },
    {
      "cell_type": "code",
      "metadata": {
        "colab": {
          "base_uri": "https://localhost:8080/"
        },
        "id": "ILeDxRHXyknS",
        "outputId": "f6f3a335-1fd5-4987-ced1-5101a6952465"
      },
      "source": [
        "all2.shape"
      ],
      "execution_count": null,
      "outputs": [
        {
          "output_type": "execute_result",
          "data": {
            "text/plain": [
              "(802180, 67)"
            ]
          },
          "metadata": {},
          "execution_count": 10
        }
      ]
    },
    {
      "cell_type": "code",
      "metadata": {
        "id": "KoQZ3eW8H_We"
      },
      "source": [
        "df2017= df.loc[df['year_x']==2017]"
      ],
      "execution_count": null,
      "outputs": []
    },
    {
      "cell_type": "code",
      "metadata": {
        "colab": {
          "base_uri": "https://localhost:8080/"
        },
        "id": "R0m-v80wz2Pi",
        "outputId": "b9d6ad9b-99a7-42a7-8327-4436ccd934bc"
      },
      "source": [
        "df2017.shape"
      ],
      "execution_count": null,
      "outputs": [
        {
          "output_type": "execute_result",
          "data": {
            "text/plain": [
              "(823437, 65)"
            ]
          },
          "metadata": {},
          "execution_count": 12
        }
      ]
    },
    {
      "cell_type": "code",
      "metadata": {
        "colab": {
          "base_uri": "https://localhost:8080/"
        },
        "id": "MdC-tscJzM25",
        "outputId": "f02e0d2b-8586-4f79-b137-0fb696b5c0e3"
      },
      "source": [
        "df2017.columns"
      ],
      "execution_count": null,
      "outputs": [
        {
          "output_type": "execute_result",
          "data": {
            "text/plain": [
              "Index(['Unnamed: 0', 'bbl', 'geoid', 'year_x', 'borough', 'lot', 'cd',\n",
              "       'zipcode', 'zonedist1', 'zonedist2', 'zonedist3', 'zonedist4',\n",
              "       'overlay1', 'overlay2', 'spdist1', 'spdist2', 'ltdheight', 'allzoning1',\n",
              "       'allzoning2', 'splitzone', 'bldgclass', 'landuse', 'easements',\n",
              "       'ownertype', 'lotarea', 'comarea', 'resarea', 'officearea',\n",
              "       'retailarea', 'garagearea', 'strgearea', 'factryarea', 'lotfront',\n",
              "       'lotdepth', 'otherarea', 'numbldgs', 'numfloors', 'unitsres',\n",
              "       'lotfront.1', 'lotdepth.1', 'assessland', 'assesstot', 'yearbuilt',\n",
              "       'builtfar', 'maxallwfar', 'residfar', 'commfar', 'facilfar', 'statefp',\n",
              "       'countyfp', 'tractce', 'blkgrpce', 'med_income', 'population',\n",
              "       'low_edu', 'income_pc', 'housing_units', 'geometry', 'subway_acc',\n",
              "       'subway', 'subway_scale', '%low_educ', 'noisePerCapita', 'tractid',\n",
              "       'built_green'],\n",
              "      dtype='object')"
            ]
          },
          "metadata": {},
          "execution_count": 13
        }
      ]
    },
    {
      "cell_type": "code",
      "metadata": {
        "id": "jV2qYEKIyrwt"
      },
      "source": [
        "df2017=df2017[['bbl','borough','landuse']]"
      ],
      "execution_count": null,
      "outputs": []
    },
    {
      "cell_type": "code",
      "metadata": {
        "colab": {
          "base_uri": "https://localhost:8080/"
        },
        "id": "bfiDrYsxz_b2",
        "outputId": "dfff5af3-a7a7-477e-9642-74de22d772c9"
      },
      "source": [
        "all_new=all2.merge(df2017,right_on='bbl',left_on='bbl',how='inner')\n",
        "all_new.shape"
      ],
      "execution_count": null,
      "outputs": [
        {
          "output_type": "execute_result",
          "data": {
            "text/plain": [
              "(811103, 69)"
            ]
          },
          "metadata": {},
          "execution_count": 16
        }
      ]
    },
    {
      "cell_type": "code",
      "metadata": {
        "id": "e3Yneg4a00GX"
      },
      "source": [
        "all_new=all_new.drop_duplicates(subset=['bbl'])"
      ],
      "execution_count": null,
      "outputs": []
    },
    {
      "cell_type": "code",
      "metadata": {
        "id": "ydUIUCMiIBLv"
      },
      "source": [
        "\n",
        "all_new.to_csv('/content/drive/MyDrive/Rezoning/NewYorkCity/master_all.csv')"
      ],
      "execution_count": null,
      "outputs": []
    },
    {
      "cell_type": "code",
      "metadata": {
        "id": "2vmDFkcwdFIZ"
      },
      "source": [
        "from sklearn.model_selection import train_test_split\n",
        "from sklearn.tree import DecisionTreeClassifier\n",
        "import pandas as pd\n",
        "import numpy as np\n",
        "import io\n",
        "import matplotlib.pylab as plt\n",
        "from sklearn.model_selection import GridSearchCV\n",
        "from sklearn.ensemble import RandomForestClassifier\n",
        "from sklearn.metrics import roc_auc_score"
      ],
      "execution_count": null,
      "outputs": []
    },
    {
      "cell_type": "code",
      "metadata": {
        "id": "PkNDQAwlSv4_"
      },
      "source": [
        "df2010=pd.read_csv('/content/drive/MyDrive/Rezoning/NewYorkCity/master_all.csv')\n"
      ],
      "execution_count": null,
      "outputs": []
    },
    {
      "cell_type": "code",
      "metadata": {
        "colab": {
          "base_uri": "https://localhost:8080/"
        },
        "id": "kqBjh3SM-_F-",
        "outputId": "c514d41f-598a-42c3-8136-dfd1394c1d6d"
      },
      "source": [
        "df2010['borough'].unique()"
      ],
      "execution_count": null,
      "outputs": [
        {
          "output_type": "execute_result",
          "data": {
            "text/plain": [
              "array(['BX', 'BK', 'MN', 'QN', 'SI'], dtype=object)"
            ]
          },
          "metadata": {},
          "execution_count": 23
        }
      ]
    },
    {
      "cell_type": "code",
      "metadata": {
        "colab": {
          "base_uri": "https://localhost:8080/",
          "height": 272
        },
        "id": "jEFay1pWleCQ",
        "outputId": "f1c9a559-f8fe-418c-9713-7af7ba9d2d1b"
      },
      "source": [
        "dfgroup= df2010.groupby(by='borough').count()\n",
        "dfgroup"
      ],
      "execution_count": null,
      "outputs": [
        {
          "output_type": "execute_result",
          "data": {
            "text/html": [
              "<div>\n",
              "<style scoped>\n",
              "    .dataframe tbody tr th:only-of-type {\n",
              "        vertical-align: middle;\n",
              "    }\n",
              "\n",
              "    .dataframe tbody tr th {\n",
              "        vertical-align: top;\n",
              "    }\n",
              "\n",
              "    .dataframe thead th {\n",
              "        text-align: right;\n",
              "    }\n",
              "</style>\n",
              "<table border=\"1\" class=\"dataframe\">\n",
              "  <thead>\n",
              "    <tr style=\"text-align: right;\">\n",
              "      <th></th>\n",
              "      <th>Unnamed: 0</th>\n",
              "      <th>bbl</th>\n",
              "      <th>easements_10</th>\n",
              "      <th>lotarea_10</th>\n",
              "      <th>lotfront_10</th>\n",
              "      <th>lotdepth_10</th>\n",
              "      <th>assessland_10</th>\n",
              "      <th>assesstot_10</th>\n",
              "      <th>yearbuilt_10</th>\n",
              "      <th>builtfar_10</th>\n",
              "      <th>med_income_10</th>\n",
              "      <th>housing_units_10</th>\n",
              "      <th>subway_acc_10</th>\n",
              "      <th>noisePerCapita_10</th>\n",
              "      <th>built_green_10</th>\n",
              "      <th>maxfar_10</th>\n",
              "      <th>low_educ_10</th>\n",
              "      <th>comm_built_far_10</th>\n",
              "      <th>res_built_far_10</th>\n",
              "      <th>office_built_far_10</th>\n",
              "      <th>retail_built_far_10</th>\n",
              "      <th>garage_built_far_10</th>\n",
              "      <th>storage_built_far_10</th>\n",
              "      <th>factry_built_far_10</th>\n",
              "      <th>easements_12</th>\n",
              "      <th>lotarea_12</th>\n",
              "      <th>lotfront_12</th>\n",
              "      <th>lotdepth_12</th>\n",
              "      <th>yearbuilt_12</th>\n",
              "      <th>med_income_12</th>\n",
              "      <th>housing_units_12</th>\n",
              "      <th>subway_acc_12</th>\n",
              "      <th>noisePerCapita_12</th>\n",
              "      <th>built_green_12</th>\n",
              "      <th>low_educ_12</th>\n",
              "      <th>diff_1012_assessland</th>\n",
              "      <th>diff_1012_assesstot</th>\n",
              "      <th>diff_1012_builtfar</th>\n",
              "      <th>diff_1012_maxfar</th>\n",
              "      <th>diff_1012_comm_built_far</th>\n",
              "      <th>diff_1012_res_built_far</th>\n",
              "      <th>diff_1012_office_built_far</th>\n",
              "      <th>diff_1012_retail_built_far</th>\n",
              "      <th>diff_1012_garage_built_far</th>\n",
              "      <th>diff_1012_storage_built_far</th>\n",
              "      <th>diff_1012_factry_built_far</th>\n",
              "      <th>easements_14</th>\n",
              "      <th>lotarea_14</th>\n",
              "      <th>lotfront_14</th>\n",
              "      <th>lotdepth_14</th>\n",
              "      <th>yearbuilt_14</th>\n",
              "      <th>med_income_14</th>\n",
              "      <th>housing_units_14</th>\n",
              "      <th>subway_acc_14</th>\n",
              "      <th>noisePerCapita_14</th>\n",
              "      <th>built_green_14</th>\n",
              "      <th>low_educ_14</th>\n",
              "      <th>diff_1214_assessland</th>\n",
              "      <th>diff_1214_assesstot</th>\n",
              "      <th>diff_1214_builtfar</th>\n",
              "      <th>diff_1214_maxfar</th>\n",
              "      <th>diff_1214_comm_built_far</th>\n",
              "      <th>diff_1214_res_built_far</th>\n",
              "      <th>diff_1214_office_built_far</th>\n",
              "      <th>diff_1214_retail_built_far</th>\n",
              "      <th>diff_1214_garage_built_far</th>\n",
              "      <th>diff_1214_storage_built_far</th>\n",
              "      <th>diff_1214_factry_built_far</th>\n",
              "      <th>landuse</th>\n",
              "    </tr>\n",
              "    <tr>\n",
              "      <th>borough</th>\n",
              "      <th></th>\n",
              "      <th></th>\n",
              "      <th></th>\n",
              "      <th></th>\n",
              "      <th></th>\n",
              "      <th></th>\n",
              "      <th></th>\n",
              "      <th></th>\n",
              "      <th></th>\n",
              "      <th></th>\n",
              "      <th></th>\n",
              "      <th></th>\n",
              "      <th></th>\n",
              "      <th></th>\n",
              "      <th></th>\n",
              "      <th></th>\n",
              "      <th></th>\n",
              "      <th></th>\n",
              "      <th></th>\n",
              "      <th></th>\n",
              "      <th></th>\n",
              "      <th></th>\n",
              "      <th></th>\n",
              "      <th></th>\n",
              "      <th></th>\n",
              "      <th></th>\n",
              "      <th></th>\n",
              "      <th></th>\n",
              "      <th></th>\n",
              "      <th></th>\n",
              "      <th></th>\n",
              "      <th></th>\n",
              "      <th></th>\n",
              "      <th></th>\n",
              "      <th></th>\n",
              "      <th></th>\n",
              "      <th></th>\n",
              "      <th></th>\n",
              "      <th></th>\n",
              "      <th></th>\n",
              "      <th></th>\n",
              "      <th></th>\n",
              "      <th></th>\n",
              "      <th></th>\n",
              "      <th></th>\n",
              "      <th></th>\n",
              "      <th></th>\n",
              "      <th></th>\n",
              "      <th></th>\n",
              "      <th></th>\n",
              "      <th></th>\n",
              "      <th></th>\n",
              "      <th></th>\n",
              "      <th></th>\n",
              "      <th></th>\n",
              "      <th></th>\n",
              "      <th></th>\n",
              "      <th></th>\n",
              "      <th></th>\n",
              "      <th></th>\n",
              "      <th></th>\n",
              "      <th></th>\n",
              "      <th></th>\n",
              "      <th></th>\n",
              "      <th></th>\n",
              "      <th></th>\n",
              "      <th></th>\n",
              "      <th></th>\n",
              "      <th></th>\n",
              "    </tr>\n",
              "  </thead>\n",
              "  <tbody>\n",
              "    <tr>\n",
              "      <th>BK</th>\n",
              "      <td>261059</td>\n",
              "      <td>261059</td>\n",
              "      <td>261059</td>\n",
              "      <td>261059</td>\n",
              "      <td>261059</td>\n",
              "      <td>261059</td>\n",
              "      <td>261059</td>\n",
              "      <td>261059</td>\n",
              "      <td>261059</td>\n",
              "      <td>261059</td>\n",
              "      <td>261059</td>\n",
              "      <td>261059</td>\n",
              "      <td>261059</td>\n",
              "      <td>261059</td>\n",
              "      <td>261059</td>\n",
              "      <td>261059</td>\n",
              "      <td>261059</td>\n",
              "      <td>261059</td>\n",
              "      <td>261059</td>\n",
              "      <td>261059</td>\n",
              "      <td>261059</td>\n",
              "      <td>261059</td>\n",
              "      <td>261059</td>\n",
              "      <td>261059</td>\n",
              "      <td>261059</td>\n",
              "      <td>261059</td>\n",
              "      <td>261059</td>\n",
              "      <td>261059</td>\n",
              "      <td>261059</td>\n",
              "      <td>261059</td>\n",
              "      <td>261059</td>\n",
              "      <td>261059</td>\n",
              "      <td>261059</td>\n",
              "      <td>261059</td>\n",
              "      <td>261059</td>\n",
              "      <td>261059</td>\n",
              "      <td>261059</td>\n",
              "      <td>261059</td>\n",
              "      <td>261059</td>\n",
              "      <td>261059</td>\n",
              "      <td>261059</td>\n",
              "      <td>261059</td>\n",
              "      <td>261059</td>\n",
              "      <td>261059</td>\n",
              "      <td>261059</td>\n",
              "      <td>261059</td>\n",
              "      <td>261059</td>\n",
              "      <td>261059</td>\n",
              "      <td>261059</td>\n",
              "      <td>261059</td>\n",
              "      <td>261059</td>\n",
              "      <td>261059</td>\n",
              "      <td>261059</td>\n",
              "      <td>261059</td>\n",
              "      <td>261059</td>\n",
              "      <td>261059</td>\n",
              "      <td>261059</td>\n",
              "      <td>261059</td>\n",
              "      <td>261059</td>\n",
              "      <td>261059</td>\n",
              "      <td>261059</td>\n",
              "      <td>261059</td>\n",
              "      <td>261059</td>\n",
              "      <td>261059</td>\n",
              "      <td>261059</td>\n",
              "      <td>261059</td>\n",
              "      <td>261059</td>\n",
              "      <td>261059</td>\n",
              "      <td>261059</td>\n",
              "    </tr>\n",
              "    <tr>\n",
              "      <th>BX</th>\n",
              "      <td>82067</td>\n",
              "      <td>82067</td>\n",
              "      <td>82067</td>\n",
              "      <td>82067</td>\n",
              "      <td>82067</td>\n",
              "      <td>82067</td>\n",
              "      <td>82067</td>\n",
              "      <td>82067</td>\n",
              "      <td>82067</td>\n",
              "      <td>82067</td>\n",
              "      <td>82067</td>\n",
              "      <td>82067</td>\n",
              "      <td>82067</td>\n",
              "      <td>82067</td>\n",
              "      <td>82067</td>\n",
              "      <td>82067</td>\n",
              "      <td>82067</td>\n",
              "      <td>82067</td>\n",
              "      <td>82067</td>\n",
              "      <td>82067</td>\n",
              "      <td>82067</td>\n",
              "      <td>82067</td>\n",
              "      <td>82067</td>\n",
              "      <td>82067</td>\n",
              "      <td>82067</td>\n",
              "      <td>82067</td>\n",
              "      <td>82067</td>\n",
              "      <td>82067</td>\n",
              "      <td>82067</td>\n",
              "      <td>82067</td>\n",
              "      <td>82067</td>\n",
              "      <td>82067</td>\n",
              "      <td>82067</td>\n",
              "      <td>82067</td>\n",
              "      <td>82067</td>\n",
              "      <td>82067</td>\n",
              "      <td>82067</td>\n",
              "      <td>82067</td>\n",
              "      <td>82067</td>\n",
              "      <td>82067</td>\n",
              "      <td>82067</td>\n",
              "      <td>82067</td>\n",
              "      <td>82067</td>\n",
              "      <td>82067</td>\n",
              "      <td>82067</td>\n",
              "      <td>82067</td>\n",
              "      <td>82067</td>\n",
              "      <td>82067</td>\n",
              "      <td>82067</td>\n",
              "      <td>82067</td>\n",
              "      <td>82067</td>\n",
              "      <td>82067</td>\n",
              "      <td>82067</td>\n",
              "      <td>82067</td>\n",
              "      <td>82067</td>\n",
              "      <td>82067</td>\n",
              "      <td>82067</td>\n",
              "      <td>82067</td>\n",
              "      <td>82067</td>\n",
              "      <td>82067</td>\n",
              "      <td>82067</td>\n",
              "      <td>82067</td>\n",
              "      <td>82067</td>\n",
              "      <td>82067</td>\n",
              "      <td>82067</td>\n",
              "      <td>82067</td>\n",
              "      <td>82067</td>\n",
              "      <td>82067</td>\n",
              "      <td>82067</td>\n",
              "    </tr>\n",
              "    <tr>\n",
              "      <th>MN</th>\n",
              "      <td>39054</td>\n",
              "      <td>39054</td>\n",
              "      <td>39054</td>\n",
              "      <td>39054</td>\n",
              "      <td>39054</td>\n",
              "      <td>39054</td>\n",
              "      <td>39054</td>\n",
              "      <td>39054</td>\n",
              "      <td>39054</td>\n",
              "      <td>39054</td>\n",
              "      <td>39054</td>\n",
              "      <td>39054</td>\n",
              "      <td>39054</td>\n",
              "      <td>39054</td>\n",
              "      <td>39054</td>\n",
              "      <td>39054</td>\n",
              "      <td>39054</td>\n",
              "      <td>39054</td>\n",
              "      <td>39054</td>\n",
              "      <td>39054</td>\n",
              "      <td>39054</td>\n",
              "      <td>39054</td>\n",
              "      <td>39054</td>\n",
              "      <td>39054</td>\n",
              "      <td>39054</td>\n",
              "      <td>39054</td>\n",
              "      <td>39054</td>\n",
              "      <td>39054</td>\n",
              "      <td>39054</td>\n",
              "      <td>39054</td>\n",
              "      <td>39054</td>\n",
              "      <td>39054</td>\n",
              "      <td>39054</td>\n",
              "      <td>39054</td>\n",
              "      <td>39054</td>\n",
              "      <td>39054</td>\n",
              "      <td>39054</td>\n",
              "      <td>39054</td>\n",
              "      <td>39054</td>\n",
              "      <td>39054</td>\n",
              "      <td>39054</td>\n",
              "      <td>39054</td>\n",
              "      <td>39054</td>\n",
              "      <td>39054</td>\n",
              "      <td>39054</td>\n",
              "      <td>39054</td>\n",
              "      <td>39054</td>\n",
              "      <td>39054</td>\n",
              "      <td>39054</td>\n",
              "      <td>39054</td>\n",
              "      <td>39054</td>\n",
              "      <td>39054</td>\n",
              "      <td>39054</td>\n",
              "      <td>39054</td>\n",
              "      <td>39054</td>\n",
              "      <td>39054</td>\n",
              "      <td>39054</td>\n",
              "      <td>39054</td>\n",
              "      <td>39054</td>\n",
              "      <td>39054</td>\n",
              "      <td>39054</td>\n",
              "      <td>39054</td>\n",
              "      <td>39054</td>\n",
              "      <td>39054</td>\n",
              "      <td>39054</td>\n",
              "      <td>39054</td>\n",
              "      <td>39054</td>\n",
              "      <td>39054</td>\n",
              "      <td>39054</td>\n",
              "    </tr>\n",
              "    <tr>\n",
              "      <th>QN</th>\n",
              "      <td>308430</td>\n",
              "      <td>308430</td>\n",
              "      <td>308430</td>\n",
              "      <td>308430</td>\n",
              "      <td>308430</td>\n",
              "      <td>308430</td>\n",
              "      <td>308430</td>\n",
              "      <td>308430</td>\n",
              "      <td>308430</td>\n",
              "      <td>308430</td>\n",
              "      <td>308430</td>\n",
              "      <td>308430</td>\n",
              "      <td>308430</td>\n",
              "      <td>308430</td>\n",
              "      <td>308430</td>\n",
              "      <td>308430</td>\n",
              "      <td>308430</td>\n",
              "      <td>308430</td>\n",
              "      <td>308430</td>\n",
              "      <td>308430</td>\n",
              "      <td>308430</td>\n",
              "      <td>308430</td>\n",
              "      <td>308430</td>\n",
              "      <td>308430</td>\n",
              "      <td>308430</td>\n",
              "      <td>308430</td>\n",
              "      <td>308430</td>\n",
              "      <td>308430</td>\n",
              "      <td>308430</td>\n",
              "      <td>308430</td>\n",
              "      <td>308430</td>\n",
              "      <td>308430</td>\n",
              "      <td>308430</td>\n",
              "      <td>308430</td>\n",
              "      <td>308430</td>\n",
              "      <td>308430</td>\n",
              "      <td>308430</td>\n",
              "      <td>308430</td>\n",
              "      <td>308430</td>\n",
              "      <td>308430</td>\n",
              "      <td>308430</td>\n",
              "      <td>308430</td>\n",
              "      <td>308430</td>\n",
              "      <td>308430</td>\n",
              "      <td>308430</td>\n",
              "      <td>308430</td>\n",
              "      <td>308430</td>\n",
              "      <td>308430</td>\n",
              "      <td>308430</td>\n",
              "      <td>308430</td>\n",
              "      <td>308430</td>\n",
              "      <td>308430</td>\n",
              "      <td>308430</td>\n",
              "      <td>308430</td>\n",
              "      <td>308430</td>\n",
              "      <td>308430</td>\n",
              "      <td>308430</td>\n",
              "      <td>308430</td>\n",
              "      <td>308430</td>\n",
              "      <td>308430</td>\n",
              "      <td>308430</td>\n",
              "      <td>308430</td>\n",
              "      <td>308430</td>\n",
              "      <td>308430</td>\n",
              "      <td>308430</td>\n",
              "      <td>308430</td>\n",
              "      <td>308430</td>\n",
              "      <td>308430</td>\n",
              "      <td>308430</td>\n",
              "    </tr>\n",
              "    <tr>\n",
              "      <th>SI</th>\n",
              "      <td>111397</td>\n",
              "      <td>111397</td>\n",
              "      <td>111397</td>\n",
              "      <td>111397</td>\n",
              "      <td>111397</td>\n",
              "      <td>111397</td>\n",
              "      <td>111397</td>\n",
              "      <td>111397</td>\n",
              "      <td>111397</td>\n",
              "      <td>111397</td>\n",
              "      <td>111397</td>\n",
              "      <td>111397</td>\n",
              "      <td>111397</td>\n",
              "      <td>111397</td>\n",
              "      <td>111397</td>\n",
              "      <td>111397</td>\n",
              "      <td>111397</td>\n",
              "      <td>111397</td>\n",
              "      <td>111397</td>\n",
              "      <td>111397</td>\n",
              "      <td>111397</td>\n",
              "      <td>111397</td>\n",
              "      <td>111397</td>\n",
              "      <td>111397</td>\n",
              "      <td>111397</td>\n",
              "      <td>111397</td>\n",
              "      <td>111397</td>\n",
              "      <td>111397</td>\n",
              "      <td>111397</td>\n",
              "      <td>111397</td>\n",
              "      <td>111397</td>\n",
              "      <td>111397</td>\n",
              "      <td>111397</td>\n",
              "      <td>111397</td>\n",
              "      <td>111397</td>\n",
              "      <td>111397</td>\n",
              "      <td>111397</td>\n",
              "      <td>111397</td>\n",
              "      <td>111397</td>\n",
              "      <td>111397</td>\n",
              "      <td>111397</td>\n",
              "      <td>111397</td>\n",
              "      <td>111397</td>\n",
              "      <td>111397</td>\n",
              "      <td>111397</td>\n",
              "      <td>111397</td>\n",
              "      <td>111397</td>\n",
              "      <td>111397</td>\n",
              "      <td>111397</td>\n",
              "      <td>111397</td>\n",
              "      <td>111397</td>\n",
              "      <td>111397</td>\n",
              "      <td>111397</td>\n",
              "      <td>111397</td>\n",
              "      <td>111397</td>\n",
              "      <td>111397</td>\n",
              "      <td>111397</td>\n",
              "      <td>111397</td>\n",
              "      <td>111397</td>\n",
              "      <td>111397</td>\n",
              "      <td>111397</td>\n",
              "      <td>111397</td>\n",
              "      <td>111397</td>\n",
              "      <td>111397</td>\n",
              "      <td>111397</td>\n",
              "      <td>111397</td>\n",
              "      <td>111397</td>\n",
              "      <td>111397</td>\n",
              "      <td>111397</td>\n",
              "    </tr>\n",
              "  </tbody>\n",
              "</table>\n",
              "</div>"
            ],
            "text/plain": [
              "         Unnamed: 0     bbl  ...  diff_1214_factry_built_far  landuse\n",
              "borough                      ...                                     \n",
              "BK           261059  261059  ...                      261059   261059\n",
              "BX            82067   82067  ...                       82067    82067\n",
              "MN            39054   39054  ...                       39054    39054\n",
              "QN           308430  308430  ...                      308430   308430\n",
              "SI           111397  111397  ...                      111397   111397\n",
              "\n",
              "[5 rows x 69 columns]"
            ]
          },
          "metadata": {},
          "execution_count": 4
        }
      ]
    },
    {
      "cell_type": "code",
      "metadata": {
        "colab": {
          "base_uri": "https://localhost:8080/"
        },
        "id": "S1wlcX2S57mi",
        "outputId": "4190d0d7-2471-4061-812e-8d1bf14b676c"
      },
      "source": [
        "df2010.shape"
      ],
      "execution_count": null,
      "outputs": [
        {
          "output_type": "execute_result",
          "data": {
            "text/plain": [
              "(802007, 70)"
            ]
          },
          "metadata": {},
          "execution_count": 62
        }
      ]
    },
    {
      "cell_type": "code",
      "metadata": {
        "id": "aWgHRnj8_BZn"
      },
      "source": [
        "dfM= df2010.loc[df2010['borough']=='MN']\n",
        "dfB=df2010.loc[df2010['borough']=='BK']\n",
        "dfQ=df2010.loc[df2010['borough']=='QN']"
      ],
      "execution_count": null,
      "outputs": []
    },
    {
      "cell_type": "code",
      "metadata": {
        "colab": {
          "base_uri": "https://localhost:8080/"
        },
        "id": "lUAWl7Dmbvwx",
        "outputId": "e887c8d6-ebb8-4671-8ae8-515b7ab682de"
      },
      "source": [
        "dfB.shape"
      ],
      "execution_count": null,
      "outputs": [
        {
          "output_type": "execute_result",
          "data": {
            "text/plain": [
              "(261059, 70)"
            ]
          },
          "metadata": {},
          "execution_count": 26
        }
      ]
    },
    {
      "cell_type": "code",
      "metadata": {
        "colab": {
          "base_uri": "https://localhost:8080/"
        },
        "id": "xDofJ1aQd0MO",
        "outputId": "35d5c135-92f8-4024-ff3f-e564afaa7224"
      },
      "source": [
        "dfM.shape"
      ],
      "execution_count": null,
      "outputs": [
        {
          "output_type": "execute_result",
          "data": {
            "text/plain": [
              "(39054, 70)"
            ]
          },
          "metadata": {},
          "execution_count": 27
        }
      ]
    },
    {
      "cell_type": "code",
      "metadata": {
        "colab": {
          "base_uri": "https://localhost:8080/"
        },
        "id": "NVo5FHLOd3SP",
        "outputId": "ef2aea25-be62-47a1-8996-bd84d20dacbe"
      },
      "source": [
        "dfQ.shape"
      ],
      "execution_count": null,
      "outputs": [
        {
          "output_type": "execute_result",
          "data": {
            "text/plain": [
              "(308430, 70)"
            ]
          },
          "metadata": {},
          "execution_count": 28
        }
      ]
    },
    {
      "cell_type": "code",
      "metadata": {
        "colab": {
          "base_uri": "https://localhost:8080/"
        },
        "id": "xgkOwusj1xSE",
        "outputId": "2b9fcdf5-12d2-4a05-c3b4-148fdc97bdae"
      },
      "source": [
        "dfM.columns"
      ],
      "execution_count": null,
      "outputs": [
        {
          "output_type": "execute_result",
          "data": {
            "text/plain": [
              "Index(['Unnamed: 0', 'bbl', 'easements_10', 'lotarea_10', 'lotfront_10',\n",
              "       'lotdepth_10', 'assessland_10', 'assesstot_10', 'yearbuilt_10',\n",
              "       'builtfar_10', 'med_income_10', 'housing_units_10', 'subway_acc_10',\n",
              "       'noisePerCapita_10', 'built_green_10', 'maxfar_10', 'low_educ_10',\n",
              "       'comm_built_far_10', 'res_built_far_10', 'office_built_far_10',\n",
              "       'retail_built_far_10', 'garage_built_far_10', 'storage_built_far_10',\n",
              "       'factry_built_far_10', 'easements_12', 'lotarea_12', 'lotfront_12',\n",
              "       'lotdepth_12', 'yearbuilt_12', 'med_income_12', 'housing_units_12',\n",
              "       'subway_acc_12', 'noisePerCapita_12', 'built_green_12', 'low_educ_12',\n",
              "       'diff_1012_assessland', 'diff_1012_assesstot', 'diff_1012_builtfar',\n",
              "       'diff_1012_maxfar', 'diff_1012_comm_built_far',\n",
              "       'diff_1012_res_built_far', 'diff_1012_office_built_far',\n",
              "       'diff_1012_retail_built_far', 'diff_1012_garage_built_far',\n",
              "       'diff_1012_storage_built_far', 'diff_1012_factry_built_far',\n",
              "       'easements_14', 'lotarea_14', 'lotfront_14', 'lotdepth_14',\n",
              "       'yearbuilt_14', 'med_income_14', 'housing_units_14', 'subway_acc_14',\n",
              "       'noisePerCapita_14', 'built_green_14', 'low_educ_14',\n",
              "       'diff_1214_assessland', 'diff_1214_assesstot', 'diff_1214_builtfar',\n",
              "       'diff_1214_maxfar', 'diff_1214_comm_built_far',\n",
              "       'diff_1214_res_built_far', 'diff_1214_office_built_far',\n",
              "       'diff_1214_retail_built_far', 'diff_1214_garage_built_far',\n",
              "       'diff_1214_storage_built_far', 'diff_1214_factry_built_far', 'borough',\n",
              "       'landuse'],\n",
              "      dtype='object')"
            ]
          },
          "metadata": {},
          "execution_count": 43
        }
      ]
    },
    {
      "cell_type": "code",
      "metadata": {
        "colab": {
          "base_uri": "https://localhost:8080/"
        },
        "id": "a2gmokzRm8s7",
        "outputId": "71b8807b-54c6-4e00-bd0a-5ec73b4734fd"
      },
      "source": [
        "X.shape"
      ],
      "execution_count": null,
      "outputs": [
        {
          "output_type": "execute_result",
          "data": {
            "text/plain": [
              "(39054, 66)"
            ]
          },
          "metadata": {},
          "execution_count": 39
        }
      ]
    },
    {
      "cell_type": "code",
      "metadata": {
        "id": "OzU1GLBYGzJO"
      },
      "source": [
        "# Let's take'label'as the target variable. \n",
        "y=dfM.loc[:,'landuse']\n",
        "y=pd.get_dummies(y)\n",
        "\n",
        "X=dfM.drop(['Unnamed: 0', 'bbl','landuse','borough'],axis=1)\n",
        "X_train,X_test,y_train,y_test=train_test_split(X, y, test_size=0.3, random_state=999)\n"
      ],
      "execution_count": null,
      "outputs": []
    },
    {
      "cell_type": "code",
      "metadata": {
        "colab": {
          "base_uri": "https://localhost:8080/"
        },
        "id": "41QM7kYDdCI9",
        "outputId": "514eaa63-57c9-47a2-cf6a-798843f300a4"
      },
      "source": [
        "param_grid ={'max_depth':range(1,11),'max_leaf_nodes':range(2,500,25),'n_estimators':range(1,51,5)}\n",
        "dt=RandomForestClassifier(n_jobs=-1,max_leaf_nodes=52)\n",
        "gr=GridSearchCV(dt,param_grid=param_grid)\n",
        "%time rs= gr.fit(X_train,y_train)\n",
        "print (rs.best_params_)\n",
        "print ('Out of sample accuracy:',rs.score(X_test,y_test))"
      ],
      "execution_count": null,
      "outputs": [
        {
          "output_type": "stream",
          "name": "stdout",
          "text": [
            "CPU times: user 42min 34s, sys: 3min 49s, total: 46min 23s\n",
            "Wall time: 2h 43min 19s\n",
            "{'max_depth': 10, 'max_leaf_nodes': 452, 'n_estimators': 36}\n",
            "Out of sample accuracy: 0.7332935051634377\n"
          ]
        }
      ]
    },
    {
      "cell_type": "code",
      "metadata": {
        "colab": {
          "base_uri": "https://localhost:8080/",
          "height": 669
        },
        "id": "LHwVBzj0XjiD",
        "outputId": "4ce90855-f1fd-4c41-ae6b-76033af37d0f"
      },
      "source": [
        "rf = RandomForestClassifier(n_estimators=36, n_jobs=-1,max_leaf_nodes=452,max_depth=10)\n",
        "rf.fit(X_train, y_train)\n",
        "Feature_importance=pd.DataFrame([list(X_train.columns),list(rf.feature_importances_)]).T\n",
        "Feature_importance.columns=[\"variables\",\"importance\"]\n",
        "\n",
        "# list the top 10 most important features in order\n",
        "Feature_importance.sort_values(by=\"importance\",ascending=False).iloc[:20,:]"
      ],
      "execution_count": null,
      "outputs": [
        {
          "output_type": "execute_result",
          "data": {
            "text/html": [
              "<div>\n",
              "<style scoped>\n",
              "    .dataframe tbody tr th:only-of-type {\n",
              "        vertical-align: middle;\n",
              "    }\n",
              "\n",
              "    .dataframe tbody tr th {\n",
              "        vertical-align: top;\n",
              "    }\n",
              "\n",
              "    .dataframe thead th {\n",
              "        text-align: right;\n",
              "    }\n",
              "</style>\n",
              "<table border=\"1\" class=\"dataframe\">\n",
              "  <thead>\n",
              "    <tr style=\"text-align: right;\">\n",
              "      <th></th>\n",
              "      <th>variables</th>\n",
              "      <th>importance</th>\n",
              "    </tr>\n",
              "  </thead>\n",
              "  <tbody>\n",
              "    <tr>\n",
              "      <th>15</th>\n",
              "      <td>comm_built_far_10</td>\n",
              "      <td>0.185622</td>\n",
              "    </tr>\n",
              "    <tr>\n",
              "      <th>18</th>\n",
              "      <td>retail_built_far_10</td>\n",
              "      <td>0.136714</td>\n",
              "    </tr>\n",
              "    <tr>\n",
              "      <th>16</th>\n",
              "      <td>res_built_far_10</td>\n",
              "      <td>0.13074</td>\n",
              "    </tr>\n",
              "    <tr>\n",
              "      <th>7</th>\n",
              "      <td>builtfar_10</td>\n",
              "      <td>0.0384537</td>\n",
              "    </tr>\n",
              "    <tr>\n",
              "      <th>5</th>\n",
              "      <td>assesstot_10</td>\n",
              "      <td>0.0358185</td>\n",
              "    </tr>\n",
              "    <tr>\n",
              "      <th>4</th>\n",
              "      <td>assessland_10</td>\n",
              "      <td>0.0356658</td>\n",
              "    </tr>\n",
              "    <tr>\n",
              "      <th>17</th>\n",
              "      <td>office_built_far_10</td>\n",
              "      <td>0.029447</td>\n",
              "    </tr>\n",
              "    <tr>\n",
              "      <th>33</th>\n",
              "      <td>diff_1012_assessland</td>\n",
              "      <td>0.0275945</td>\n",
              "    </tr>\n",
              "    <tr>\n",
              "      <th>55</th>\n",
              "      <td>diff_1214_assessland</td>\n",
              "      <td>0.0261394</td>\n",
              "    </tr>\n",
              "    <tr>\n",
              "      <th>1</th>\n",
              "      <td>lotarea_10</td>\n",
              "      <td>0.0240229</td>\n",
              "    </tr>\n",
              "    <tr>\n",
              "      <th>48</th>\n",
              "      <td>yearbuilt_14</td>\n",
              "      <td>0.0179254</td>\n",
              "    </tr>\n",
              "    <tr>\n",
              "      <th>56</th>\n",
              "      <td>diff_1214_assesstot</td>\n",
              "      <td>0.0175024</td>\n",
              "    </tr>\n",
              "    <tr>\n",
              "      <th>2</th>\n",
              "      <td>lotfront_10</td>\n",
              "      <td>0.0172753</td>\n",
              "    </tr>\n",
              "    <tr>\n",
              "      <th>6</th>\n",
              "      <td>yearbuilt_10</td>\n",
              "      <td>0.0171957</td>\n",
              "    </tr>\n",
              "    <tr>\n",
              "      <th>45</th>\n",
              "      <td>lotarea_14</td>\n",
              "      <td>0.0171735</td>\n",
              "    </tr>\n",
              "    <tr>\n",
              "      <th>13</th>\n",
              "      <td>maxfar_10</td>\n",
              "      <td>0.0163784</td>\n",
              "    </tr>\n",
              "    <tr>\n",
              "      <th>23</th>\n",
              "      <td>lotarea_12</td>\n",
              "      <td>0.0161684</td>\n",
              "    </tr>\n",
              "    <tr>\n",
              "      <th>26</th>\n",
              "      <td>yearbuilt_12</td>\n",
              "      <td>0.0147753</td>\n",
              "    </tr>\n",
              "    <tr>\n",
              "      <th>24</th>\n",
              "      <td>lotfront_12</td>\n",
              "      <td>0.0135702</td>\n",
              "    </tr>\n",
              "    <tr>\n",
              "      <th>34</th>\n",
              "      <td>diff_1012_assesstot</td>\n",
              "      <td>0.0125019</td>\n",
              "    </tr>\n",
              "  </tbody>\n",
              "</table>\n",
              "</div>"
            ],
            "text/plain": [
              "               variables importance\n",
              "15     comm_built_far_10   0.185622\n",
              "18   retail_built_far_10   0.136714\n",
              "16      res_built_far_10    0.13074\n",
              "7            builtfar_10  0.0384537\n",
              "5           assesstot_10  0.0358185\n",
              "4          assessland_10  0.0356658\n",
              "17   office_built_far_10   0.029447\n",
              "33  diff_1012_assessland  0.0275945\n",
              "55  diff_1214_assessland  0.0261394\n",
              "1             lotarea_10  0.0240229\n",
              "48          yearbuilt_14  0.0179254\n",
              "56   diff_1214_assesstot  0.0175024\n",
              "2            lotfront_10  0.0172753\n",
              "6           yearbuilt_10  0.0171957\n",
              "45            lotarea_14  0.0171735\n",
              "13             maxfar_10  0.0163784\n",
              "23            lotarea_12  0.0161684\n",
              "26          yearbuilt_12  0.0147753\n",
              "24           lotfront_12  0.0135702\n",
              "34   diff_1012_assesstot  0.0125019"
            ]
          },
          "metadata": {},
          "execution_count": 7
        }
      ]
    },
    {
      "cell_type": "code",
      "metadata": {
        "colab": {
          "base_uri": "https://localhost:8080/",
          "height": 394
        },
        "id": "sEAXGEM4s489",
        "outputId": "c0bb94bd-0387-4cbc-ea77-62255c1533cd"
      },
      "source": [
        "Feature_importance=Feature_importance.sort_values(by=\"importance\",ascending=False).iloc[:20,:]\n",
        "Feature_importance.plot.bar(x='variables',y='importance')"
      ],
      "execution_count": null,
      "outputs": [
        {
          "output_type": "execute_result",
          "data": {
            "text/plain": [
              "<matplotlib.axes._subplots.AxesSubplot at 0x7febcbdadfd0>"
            ]
          },
          "metadata": {},
          "execution_count": 42
        },
        {
          "output_type": "display_data",
          "data": {
            "image/png": "[encoded data removed]",
            "text/plain": [
              "<Figure size 432x288 with 1 Axes>"
            ]
          },
          "metadata": {
            "needs_background": "light"
          }
        }
      ]
    },
    {
      "cell_type": "code",
      "metadata": {
        "id": "JvUBB2fYvEeV"
      },
      "source": [
        "from sklearn.metrics import confusion_matrix"
      ],
      "execution_count": null,
      "outputs": []
    },
    {
      "cell_type": "code",
      "metadata": {
        "colab": {
          "base_uri": "https://localhost:8080/",
          "height": 359
        },
        "id": "SyngEHhEgt1K",
        "outputId": "6105db16-4cba-46a1-9fc6-8c0a1ec8d2a4"
      },
      "source": [
        "predicted = rf.predict(X_test)\n",
        "cm_M =pd.DataFrame(confusion_matrix(y_test.values.argmax(axis=1), predicted.argmax(axis=1)))\n",
        "cm_M"
      ],
      "execution_count": null,
      "outputs": [
        {
          "output_type": "execute_result",
          "data": {
            "text/html": [
              "<div>\n",
              "<style scoped>\n",
              "    .dataframe tbody tr th:only-of-type {\n",
              "        vertical-align: middle;\n",
              "    }\n",
              "\n",
              "    .dataframe tbody tr th {\n",
              "        vertical-align: top;\n",
              "    }\n",
              "\n",
              "    .dataframe thead th {\n",
              "        text-align: right;\n",
              "    }\n",
              "</style>\n",
              "<table border=\"1\" class=\"dataframe\">\n",
              "  <thead>\n",
              "    <tr style=\"text-align: right;\">\n",
              "      <th></th>\n",
              "      <th>0</th>\n",
              "      <th>1</th>\n",
              "      <th>2</th>\n",
              "      <th>3</th>\n",
              "      <th>4</th>\n",
              "      <th>5</th>\n",
              "      <th>6</th>\n",
              "      <th>7</th>\n",
              "      <th>8</th>\n",
              "      <th>9</th>\n",
              "    </tr>\n",
              "  </thead>\n",
              "  <tbody>\n",
              "    <tr>\n",
              "      <th>0</th>\n",
              "      <td>701</td>\n",
              "      <td>509</td>\n",
              "      <td>2</td>\n",
              "      <td>9</td>\n",
              "      <td>2</td>\n",
              "      <td>0</td>\n",
              "      <td>0</td>\n",
              "      <td>3</td>\n",
              "      <td>0</td>\n",
              "      <td>0</td>\n",
              "    </tr>\n",
              "    <tr>\n",
              "      <th>1</th>\n",
              "      <td>275</td>\n",
              "      <td>2839</td>\n",
              "      <td>76</td>\n",
              "      <td>279</td>\n",
              "      <td>2</td>\n",
              "      <td>0</td>\n",
              "      <td>0</td>\n",
              "      <td>0</td>\n",
              "      <td>0</td>\n",
              "      <td>0</td>\n",
              "    </tr>\n",
              "    <tr>\n",
              "      <th>2</th>\n",
              "      <td>173</td>\n",
              "      <td>148</td>\n",
              "      <td>950</td>\n",
              "      <td>117</td>\n",
              "      <td>7</td>\n",
              "      <td>0</td>\n",
              "      <td>0</td>\n",
              "      <td>1</td>\n",
              "      <td>0</td>\n",
              "      <td>0</td>\n",
              "    </tr>\n",
              "    <tr>\n",
              "      <th>3</th>\n",
              "      <td>310</td>\n",
              "      <td>35</td>\n",
              "      <td>113</td>\n",
              "      <td>2731</td>\n",
              "      <td>88</td>\n",
              "      <td>0</td>\n",
              "      <td>0</td>\n",
              "      <td>1</td>\n",
              "      <td>0</td>\n",
              "      <td>0</td>\n",
              "    </tr>\n",
              "    <tr>\n",
              "      <th>4</th>\n",
              "      <td>270</td>\n",
              "      <td>1</td>\n",
              "      <td>1</td>\n",
              "      <td>39</td>\n",
              "      <td>946</td>\n",
              "      <td>0</td>\n",
              "      <td>0</td>\n",
              "      <td>7</td>\n",
              "      <td>0</td>\n",
              "      <td>0</td>\n",
              "    </tr>\n",
              "    <tr>\n",
              "      <th>5</th>\n",
              "      <td>168</td>\n",
              "      <td>0</td>\n",
              "      <td>0</td>\n",
              "      <td>16</td>\n",
              "      <td>42</td>\n",
              "      <td>1</td>\n",
              "      <td>0</td>\n",
              "      <td>1</td>\n",
              "      <td>0</td>\n",
              "      <td>0</td>\n",
              "    </tr>\n",
              "    <tr>\n",
              "      <th>6</th>\n",
              "      <td>30</td>\n",
              "      <td>0</td>\n",
              "      <td>0</td>\n",
              "      <td>0</td>\n",
              "      <td>5</td>\n",
              "      <td>0</td>\n",
              "      <td>9</td>\n",
              "      <td>4</td>\n",
              "      <td>0</td>\n",
              "      <td>0</td>\n",
              "    </tr>\n",
              "    <tr>\n",
              "      <th>7</th>\n",
              "      <td>152</td>\n",
              "      <td>8</td>\n",
              "      <td>6</td>\n",
              "      <td>12</td>\n",
              "      <td>31</td>\n",
              "      <td>0</td>\n",
              "      <td>0</td>\n",
              "      <td>478</td>\n",
              "      <td>0</td>\n",
              "      <td>0</td>\n",
              "    </tr>\n",
              "    <tr>\n",
              "      <th>8</th>\n",
              "      <td>14</td>\n",
              "      <td>0</td>\n",
              "      <td>0</td>\n",
              "      <td>0</td>\n",
              "      <td>1</td>\n",
              "      <td>0</td>\n",
              "      <td>0</td>\n",
              "      <td>3</td>\n",
              "      <td>23</td>\n",
              "      <td>0</td>\n",
              "    </tr>\n",
              "    <tr>\n",
              "      <th>9</th>\n",
              "      <td>77</td>\n",
              "      <td>0</td>\n",
              "      <td>0</td>\n",
              "      <td>0</td>\n",
              "      <td>1</td>\n",
              "      <td>0</td>\n",
              "      <td>0</td>\n",
              "      <td>0</td>\n",
              "      <td>0</td>\n",
              "      <td>0</td>\n",
              "    </tr>\n",
              "  </tbody>\n",
              "</table>\n",
              "</div>"
            ],
            "text/plain": [
              "     0     1    2     3    4  5  6    7   8  9\n",
              "0  701   509    2     9    2  0  0    3   0  0\n",
              "1  275  2839   76   279    2  0  0    0   0  0\n",
              "2  173   148  950   117    7  0  0    1   0  0\n",
              "3  310    35  113  2731   88  0  0    1   0  0\n",
              "4  270     1    1    39  946  0  0    7   0  0\n",
              "5  168     0    0    16   42  1  0    1   0  0\n",
              "6   30     0    0     0    5  0  9    4   0  0\n",
              "7  152     8    6    12   31  0  0  478   0  0\n",
              "8   14     0    0     0    1  0  0    3  23  0\n",
              "9   77     0    0     0    1  0  0    0   0  0"
            ]
          },
          "metadata": {},
          "execution_count": 32
        }
      ]
    },
    {
      "cell_type": "code",
      "metadata": {
        "colab": {
          "base_uri": "https://localhost:8080/",
          "height": 446
        },
        "id": "5DFyPwEip82P",
        "outputId": "954bf830-dd4e-4d07-f56c-7724b1a02847"
      },
      "source": [
        "import seaborn as sn\n",
        "import pandas as pd\n",
        "import matplotlib.pyplot as plt\n",
        "plt.figure(figsize = (10,7))\n",
        "sn.heatmap(cm_M, annot=True,cmap=\"OrRd\", fmt='d')"
      ],
      "execution_count": null,
      "outputs": [
        {
          "output_type": "execute_result",
          "data": {
            "text/plain": [
              "<matplotlib.axes._subplots.AxesSubplot at 0x7febcb9e4dd0>"
            ]
          },
          "metadata": {},
          "execution_count": 38
        },
        {
          "output_type": "display_data",
          "data": {
            "image/png": "[encoded data removed]",
            "text/plain": [
              "<Figure size 720x504 with 2 Axes>"
            ]
          },
          "metadata": {
            "needs_background": "light"
          }
        }
      ]
    },
    {
      "cell_type": "code",
      "metadata": {
        "colab": {
          "base_uri": "https://localhost:8080/"
        },
        "id": "SAjge314x0ZT",
        "outputId": "b48eb605-7957-49d4-e2dd-d3bc47523fcb"
      },
      "source": [
        "y.columns"
      ],
      "execution_count": null,
      "outputs": [
        {
          "output_type": "execute_result",
          "data": {
            "text/plain": [
              "Float64Index([1.0, 2.0, 3.0, 4.0, 5.0, 6.0, 7.0, 8.0, 9.0, 10.0], dtype='float64')"
            ]
          },
          "metadata": {},
          "execution_count": 58
        }
      ]
    },
    {
      "cell_type": "code",
      "metadata": {
        "id": "g5I7qJ5AXrvP"
      },
      "source": [
        "y=dfQ.loc[:,'landuse']\n",
        "y=pd.get_dummies(y)\n",
        "\n",
        "X=dfQ.drop(['Unnamed: 0', 'bbl','landuse','borough'],axis=1)\n",
        "X_train,X_test,y_train,y_test=train_test_split(X, y, test_size=0.3, random_state=999)"
      ],
      "execution_count": null,
      "outputs": []
    },
    {
      "cell_type": "code",
      "metadata": {
        "colab": {
          "base_uri": "https://localhost:8080/"
        },
        "id": "kask1SbBYytV",
        "outputId": "e1b63e72-ec3b-4d3b-a7cb-dd5cbda6109a"
      },
      "source": [
        "param_grid ={'max_depth':range(1,11),'n_estimators':range(1,51,5)}\n",
        "dt=RandomForestClassifier(n_jobs=-1,max_leaf_nodes=7)\n",
        "gr=GridSearchCV(dt,param_grid=param_grid)\n",
        "%time rs= gr.fit(X_train,y_train)\n",
        "print (rs.best_params_)\n",
        "print ('Out of sample accuracy:',rs.score(X_test,y_test))"
      ],
      "execution_count": null,
      "outputs": [
        {
          "output_type": "stream",
          "name": "stdout",
          "text": [
            "CPU times: user 14min 52s, sys: 33.7 s, total: 15min 26s\n",
            "Wall time: 48min 3s\n",
            "{'max_depth': 7, 'n_estimators': 11}\n",
            "Out of sample accuracy: 0.815884749646057\n"
          ]
        }
      ]
    },
    {
      "cell_type": "code",
      "metadata": {
        "id": "dZ1e9gt_Yykc",
        "colab": {
          "base_uri": "https://localhost:8080/",
          "height": 669
        },
        "outputId": "d7ecb15b-d42d-432c-f1e9-7644f71e8ec8"
      },
      "source": [
        "rf = RandomForestClassifier(n_estimators=11, n_jobs=-1,max_depth=7)\n",
        "rf.fit(X_train, y_train)\n",
        "Feature_importance=pd.DataFrame([list(X_train.columns),list(rf.feature_importances_)]).T\n",
        "Feature_importance.columns=[\"variables\",\"importance\"]\n",
        "\n",
        "# list the top 10 most important features in order\n",
        "Feature_importance.sort_values(by=\"importance\",ascending=False).iloc[:20,:]"
      ],
      "execution_count": null,
      "outputs": [
        {
          "output_type": "execute_result",
          "data": {
            "text/html": [
              "<div>\n",
              "<style scoped>\n",
              "    .dataframe tbody tr th:only-of-type {\n",
              "        vertical-align: middle;\n",
              "    }\n",
              "\n",
              "    .dataframe tbody tr th {\n",
              "        vertical-align: top;\n",
              "    }\n",
              "\n",
              "    .dataframe thead th {\n",
              "        text-align: right;\n",
              "    }\n",
              "</style>\n",
              "<table border=\"1\" class=\"dataframe\">\n",
              "  <thead>\n",
              "    <tr style=\"text-align: right;\">\n",
              "      <th></th>\n",
              "      <th>variables</th>\n",
              "      <th>importance</th>\n",
              "    </tr>\n",
              "  </thead>\n",
              "  <tbody>\n",
              "    <tr>\n",
              "      <th>16</th>\n",
              "      <td>res_built_far_10</td>\n",
              "      <td>0.13918</td>\n",
              "    </tr>\n",
              "    <tr>\n",
              "      <th>7</th>\n",
              "      <td>builtfar_10</td>\n",
              "      <td>0.126678</td>\n",
              "    </tr>\n",
              "    <tr>\n",
              "      <th>5</th>\n",
              "      <td>assesstot_10</td>\n",
              "      <td>0.121902</td>\n",
              "    </tr>\n",
              "    <tr>\n",
              "      <th>15</th>\n",
              "      <td>comm_built_far_10</td>\n",
              "      <td>0.114156</td>\n",
              "    </tr>\n",
              "    <tr>\n",
              "      <th>56</th>\n",
              "      <td>diff_1214_assesstot</td>\n",
              "      <td>0.111129</td>\n",
              "    </tr>\n",
              "    <tr>\n",
              "      <th>18</th>\n",
              "      <td>retail_built_far_10</td>\n",
              "      <td>0.104465</td>\n",
              "    </tr>\n",
              "    <tr>\n",
              "      <th>4</th>\n",
              "      <td>assessland_10</td>\n",
              "      <td>0.0498771</td>\n",
              "    </tr>\n",
              "    <tr>\n",
              "      <th>13</th>\n",
              "      <td>maxfar_10</td>\n",
              "      <td>0.0279633</td>\n",
              "    </tr>\n",
              "    <tr>\n",
              "      <th>34</th>\n",
              "      <td>diff_1012_assesstot</td>\n",
              "      <td>0.0264678</td>\n",
              "    </tr>\n",
              "    <tr>\n",
              "      <th>12</th>\n",
              "      <td>built_green_10</td>\n",
              "      <td>0.0219879</td>\n",
              "    </tr>\n",
              "    <tr>\n",
              "      <th>55</th>\n",
              "      <td>diff_1214_assessland</td>\n",
              "      <td>0.0119133</td>\n",
              "    </tr>\n",
              "    <tr>\n",
              "      <th>58</th>\n",
              "      <td>diff_1214_maxfar</td>\n",
              "      <td>0.010678</td>\n",
              "    </tr>\n",
              "    <tr>\n",
              "      <th>2</th>\n",
              "      <td>lotfront_10</td>\n",
              "      <td>0.0101421</td>\n",
              "    </tr>\n",
              "    <tr>\n",
              "      <th>23</th>\n",
              "      <td>lotarea_12</td>\n",
              "      <td>0.0101392</td>\n",
              "    </tr>\n",
              "    <tr>\n",
              "      <th>53</th>\n",
              "      <td>built_green_14</td>\n",
              "      <td>0.00985293</td>\n",
              "    </tr>\n",
              "    <tr>\n",
              "      <th>17</th>\n",
              "      <td>office_built_far_10</td>\n",
              "      <td>0.00895987</td>\n",
              "    </tr>\n",
              "    <tr>\n",
              "      <th>33</th>\n",
              "      <td>diff_1012_assessland</td>\n",
              "      <td>0.0086383</td>\n",
              "    </tr>\n",
              "    <tr>\n",
              "      <th>48</th>\n",
              "      <td>yearbuilt_14</td>\n",
              "      <td>0.00828582</td>\n",
              "    </tr>\n",
              "    <tr>\n",
              "      <th>45</th>\n",
              "      <td>lotarea_14</td>\n",
              "      <td>0.00749847</td>\n",
              "    </tr>\n",
              "    <tr>\n",
              "      <th>24</th>\n",
              "      <td>lotfront_12</td>\n",
              "      <td>0.00606988</td>\n",
              "    </tr>\n",
              "  </tbody>\n",
              "</table>\n",
              "</div>"
            ],
            "text/plain": [
              "               variables  importance\n",
              "16      res_built_far_10     0.13918\n",
              "7            builtfar_10    0.126678\n",
              "5           assesstot_10    0.121902\n",
              "15     comm_built_far_10    0.114156\n",
              "56   diff_1214_assesstot    0.111129\n",
              "18   retail_built_far_10    0.104465\n",
              "4          assessland_10   0.0498771\n",
              "13             maxfar_10   0.0279633\n",
              "34   diff_1012_assesstot   0.0264678\n",
              "12        built_green_10   0.0219879\n",
              "55  diff_1214_assessland   0.0119133\n",
              "58      diff_1214_maxfar    0.010678\n",
              "2            lotfront_10   0.0101421\n",
              "23            lotarea_12   0.0101392\n",
              "53        built_green_14  0.00985293\n",
              "17   office_built_far_10  0.00895987\n",
              "33  diff_1012_assessland   0.0086383\n",
              "48          yearbuilt_14  0.00828582\n",
              "45            lotarea_14  0.00749847\n",
              "24           lotfront_12  0.00606988"
            ]
          },
          "metadata": {},
          "execution_count": 45
        }
      ]
    },
    {
      "cell_type": "code",
      "metadata": {
        "colab": {
          "base_uri": "https://localhost:8080/",
          "height": 394
        },
        "id": "LnX9aWASu2pb",
        "outputId": "d7fc5a2e-7747-460a-e4df-d9f8e44236c8"
      },
      "source": [
        "Feature_importance=Feature_importance.sort_values(by=\"importance\",ascending=False).iloc[:20,:]\n",
        "Feature_importance.plot.bar(x='variables',y='importance')"
      ],
      "execution_count": null,
      "outputs": [
        {
          "output_type": "execute_result",
          "data": {
            "text/plain": [
              "<matplotlib.axes._subplots.AxesSubplot at 0x7febcb6bd910>"
            ]
          },
          "metadata": {},
          "execution_count": 46
        },
        {
          "output_type": "display_data",
          "data": {
            "image/png": "[encoded data removed]",
            "text/plain": [
              "<Figure size 432x288 with 1 Axes>"
            ]
          },
          "metadata": {
            "needs_background": "light"
          }
        }
      ]
    },
    {
      "cell_type": "code",
      "metadata": {
        "colab": {
          "base_uri": "https://localhost:8080/",
          "height": 377
        },
        "id": "j8ddA62hhSg0",
        "outputId": "2d14f70b-e7a1-4fb4-b7a4-c8c89bb47c83"
      },
      "source": [
        "predicted = rf.predict(X_test)\n",
        "cm =pd.DataFrame(confusion_matrix(y_test.values.argmax(axis=1), predicted.argmax(axis=1)))\n",
        "rs = RandomForestClassifier(n_estimators=11, n_jobs=-1,max_depth=7)\n",
        "rs.fit(X_train, y_train)\n",
        "print ('Out of sample accuracy:',rs.score(X_test,y_test))\n",
        "cm"
      ],
      "execution_count": null,
      "outputs": [
        {
          "output_type": "stream",
          "name": "stdout",
          "text": [
            "Out of sample accuracy: 0.8965945811583396\n"
          ]
        },
        {
          "output_type": "execute_result",
          "data": {
            "text/html": [
              "<div>\n",
              "<style scoped>\n",
              "    .dataframe tbody tr th:only-of-type {\n",
              "        vertical-align: middle;\n",
              "    }\n",
              "\n",
              "    .dataframe tbody tr th {\n",
              "        vertical-align: top;\n",
              "    }\n",
              "\n",
              "    .dataframe thead th {\n",
              "        text-align: right;\n",
              "    }\n",
              "</style>\n",
              "<table border=\"1\" class=\"dataframe\">\n",
              "  <thead>\n",
              "    <tr style=\"text-align: right;\">\n",
              "      <th></th>\n",
              "      <th>0</th>\n",
              "      <th>1</th>\n",
              "      <th>2</th>\n",
              "      <th>3</th>\n",
              "      <th>4</th>\n",
              "      <th>5</th>\n",
              "      <th>6</th>\n",
              "      <th>7</th>\n",
              "      <th>8</th>\n",
              "      <th>9</th>\n",
              "    </tr>\n",
              "  </thead>\n",
              "  <tbody>\n",
              "    <tr>\n",
              "      <th>0</th>\n",
              "      <td>72826</td>\n",
              "      <td>741</td>\n",
              "      <td>0</td>\n",
              "      <td>13</td>\n",
              "      <td>0</td>\n",
              "      <td>1</td>\n",
              "      <td>0</td>\n",
              "      <td>2</td>\n",
              "      <td>0</td>\n",
              "      <td>11</td>\n",
              "    </tr>\n",
              "    <tr>\n",
              "      <th>1</th>\n",
              "      <td>4567</td>\n",
              "      <td>5695</td>\n",
              "      <td>17</td>\n",
              "      <td>20</td>\n",
              "      <td>0</td>\n",
              "      <td>0</td>\n",
              "      <td>0</td>\n",
              "      <td>0</td>\n",
              "      <td>0</td>\n",
              "      <td>2</td>\n",
              "    </tr>\n",
              "    <tr>\n",
              "      <th>2</th>\n",
              "      <td>108</td>\n",
              "      <td>51</td>\n",
              "      <td>353</td>\n",
              "      <td>3</td>\n",
              "      <td>1</td>\n",
              "      <td>0</td>\n",
              "      <td>0</td>\n",
              "      <td>0</td>\n",
              "      <td>0</td>\n",
              "      <td>0</td>\n",
              "    </tr>\n",
              "    <tr>\n",
              "      <th>3</th>\n",
              "      <td>653</td>\n",
              "      <td>62</td>\n",
              "      <td>17</td>\n",
              "      <td>2629</td>\n",
              "      <td>97</td>\n",
              "      <td>5</td>\n",
              "      <td>0</td>\n",
              "      <td>0</td>\n",
              "      <td>0</td>\n",
              "      <td>0</td>\n",
              "    </tr>\n",
              "    <tr>\n",
              "      <th>4</th>\n",
              "      <td>655</td>\n",
              "      <td>3</td>\n",
              "      <td>0</td>\n",
              "      <td>28</td>\n",
              "      <td>1217</td>\n",
              "      <td>14</td>\n",
              "      <td>0</td>\n",
              "      <td>3</td>\n",
              "      <td>0</td>\n",
              "      <td>0</td>\n",
              "    </tr>\n",
              "    <tr>\n",
              "      <th>5</th>\n",
              "      <td>615</td>\n",
              "      <td>0</td>\n",
              "      <td>0</td>\n",
              "      <td>6</td>\n",
              "      <td>20</td>\n",
              "      <td>402</td>\n",
              "      <td>0</td>\n",
              "      <td>0</td>\n",
              "      <td>0</td>\n",
              "      <td>0</td>\n",
              "    </tr>\n",
              "    <tr>\n",
              "      <th>6</th>\n",
              "      <td>101</td>\n",
              "      <td>0</td>\n",
              "      <td>0</td>\n",
              "      <td>0</td>\n",
              "      <td>10</td>\n",
              "      <td>1</td>\n",
              "      <td>0</td>\n",
              "      <td>2</td>\n",
              "      <td>0</td>\n",
              "      <td>0</td>\n",
              "    </tr>\n",
              "    <tr>\n",
              "      <th>7</th>\n",
              "      <td>438</td>\n",
              "      <td>2</td>\n",
              "      <td>3</td>\n",
              "      <td>9</td>\n",
              "      <td>38</td>\n",
              "      <td>3</td>\n",
              "      <td>0</td>\n",
              "      <td>300</td>\n",
              "      <td>0</td>\n",
              "      <td>1</td>\n",
              "    </tr>\n",
              "    <tr>\n",
              "      <th>8</th>\n",
              "      <td>53</td>\n",
              "      <td>0</td>\n",
              "      <td>0</td>\n",
              "      <td>0</td>\n",
              "      <td>0</td>\n",
              "      <td>0</td>\n",
              "      <td>0</td>\n",
              "      <td>2</td>\n",
              "      <td>13</td>\n",
              "      <td>0</td>\n",
              "    </tr>\n",
              "    <tr>\n",
              "      <th>9</th>\n",
              "      <td>451</td>\n",
              "      <td>0</td>\n",
              "      <td>0</td>\n",
              "      <td>0</td>\n",
              "      <td>9</td>\n",
              "      <td>21</td>\n",
              "      <td>0</td>\n",
              "      <td>0</td>\n",
              "      <td>0</td>\n",
              "      <td>235</td>\n",
              "    </tr>\n",
              "  </tbody>\n",
              "</table>\n",
              "</div>"
            ],
            "text/plain": [
              "       0     1    2     3     4    5  6    7   8    9\n",
              "0  72826   741    0    13     0    1  0    2   0   11\n",
              "1   4567  5695   17    20     0    0  0    0   0    2\n",
              "2    108    51  353     3     1    0  0    0   0    0\n",
              "3    653    62   17  2629    97    5  0    0   0    0\n",
              "4    655     3    0    28  1217   14  0    3   0    0\n",
              "5    615     0    0     6    20  402  0    0   0    0\n",
              "6    101     0    0     0    10    1  0    2   0    0\n",
              "7    438     2    3     9    38    3  0  300   0    1\n",
              "8     53     0    0     0     0    0  0    2  13    0\n",
              "9    451     0    0     0     9   21  0    0   0  235"
            ]
          },
          "metadata": {},
          "execution_count": 50
        }
      ]
    },
    {
      "cell_type": "code",
      "metadata": {
        "colab": {
          "base_uri": "https://localhost:8080/"
        },
        "id": "gyExWxBoyEY8",
        "outputId": "246e5b67-9e8d-422e-ec8c-43050c1b42cc"
      },
      "source": [
        "cm.columns"
      ],
      "execution_count": null,
      "outputs": [
        {
          "output_type": "execute_result",
          "data": {
            "text/plain": [
              "RangeIndex(start=0, stop=10, step=1)"
            ]
          },
          "metadata": {},
          "execution_count": 61
        }
      ]
    },
    {
      "cell_type": "code",
      "metadata": {
        "id": "NlAzp7nXyBR1"
      },
      "source": [
        "cm=cm.rename(columns=)"
      ],
      "execution_count": null,
      "outputs": []
    },
    {
      "cell_type": "code",
      "metadata": {
        "colab": {
          "base_uri": "https://localhost:8080/",
          "height": 446
        },
        "id": "PTsxj3BjsMAE",
        "outputId": "b85520bc-0925-41ad-ee8c-c5e51a4e4e06"
      },
      "source": [
        "plt.figure(figsize = (10,7))\n",
        "sn.heatmap(cm, annot=True,cmap=\"OrRd\", fmt='d')"
      ],
      "execution_count": null,
      "outputs": [
        {
          "output_type": "execute_result",
          "data": {
            "text/plain": [
              "<matplotlib.axes._subplots.AxesSubplot at 0x7febcb3b9e50>"
            ]
          },
          "metadata": {},
          "execution_count": 51
        },
        {
          "output_type": "display_data",
          "data": {
            "image/png": "[encoded data removed]",
            "text/plain": [
              "<Figure size 720x504 with 2 Axes>"
            ]
          },
          "metadata": {
            "needs_background": "light"
          }
        }
      ]
    },
    {
      "cell_type": "code",
      "metadata": {
        "id": "wcKrfIGrYySa"
      },
      "source": [
        "y=dfB.loc[:,'landuse']\n",
        "y=pd.get_dummies(y)\n",
        "\n",
        "X=dfB.drop(['Unnamed: 0', 'bbl','landuse','borough'],axis=1)\n",
        "X_train,X_test,y_train,y_test=train_test_split(X, y, test_size=0.3, random_state=999)\n",
        "OS=[]"
      ],
      "execution_count": null,
      "outputs": []
    },
    {
      "cell_type": "code",
      "metadata": {
        "colab": {
          "base_uri": "https://localhost:8080/"
        },
        "id": "1tOt8f-ZtDdP",
        "outputId": "a5538597-0579-4ca0-e983-48905e62872e"
      },
      "source": [
        "param_grid ={'max_leaf_nodes':range(2,500,25)}\n",
        "dt=RandomForestClassifier(n_jobs=-1,max_leaf_nodes=52)\n",
        "gr=GridSearchCV(dt,param_grid=param_grid)\n",
        "%time rs= gr.fit(X_train,y_train)\n",
        "print (rs.best_params_)\n",
        "print ('Out of sample accuracy:',rs.score(X_test,y_test))"
      ],
      "execution_count": null,
      "outputs": [
        {
          "output_type": "stream",
          "name": "stdout",
          "text": [
            "CPU times: user 13min 58s, sys: 17.8 s, total: 14min 16s\n",
            "Wall time: 1h 6min 1s\n",
            "{'max_leaf_nodes': 477}\n",
            "Out of sample accuracy: 0.8477744579790086\n"
          ]
        }
      ]
    },
    {
      "cell_type": "code",
      "metadata": {
        "colab": {
          "base_uri": "https://localhost:8080/"
        },
        "id": "jA4sM5pghPMX",
        "outputId": "c576f2d8-93e3-47a3-eb75-17a1592bfa6b"
      },
      "source": [
        "param_grid ={'max_depth':range(1,11),'n_estimators':range(1,51,5)}\n",
        "dt=RandomForestClassifier(n_jobs=-1,max_leaf_nodes=7)\n",
        "gr=GridSearchCV(dt,param_grid=param_grid)\n",
        "%time rs= gr.fit(X_train,y_train)\n",
        "print (rs.best_params_)\n",
        "print ('Out of sample accuracy:',rs.score(X_test,y_test))"
      ],
      "execution_count": null,
      "outputs": [
        {
          "output_type": "stream",
          "name": "stdout",
          "text": [
            "CPU times: user 12min 38s, sys: 31.6 s, total: 13min 10s\n",
            "Wall time: 41min 25s\n",
            "{'max_depth': 5, 'n_estimators': 11}\n",
            "Out of sample accuracy: 0.6214790980362114\n"
          ]
        }
      ]
    },
    {
      "cell_type": "code",
      "metadata": {
        "id": "UUK4R-Ojh-tj",
        "colab": {
          "base_uri": "https://localhost:8080/",
          "height": 687
        },
        "outputId": "deb2aebc-f0b1-4a0d-f46c-f72a576b4492"
      },
      "source": [
        "rf = RandomForestClassifier(n_estimators=11, n_jobs=-1,max_leaf_nodes=477,max_depth= 5)\n",
        "rf.fit(X_train, y_train)\n",
        "print ('Out of sample accuracy:',rf.score(X_test,y_test))\n",
        "Feature_importance=pd.DataFrame([list(X_train.columns),list(rf.feature_importances_)]).T\n",
        "Feature_importance.columns=[\"variables\",\"importance\"]\n",
        "\n",
        "# list the top 20 most important features in order\n",
        "Feature_importance.sort_values(by=\"importance\",ascending=False).iloc[:20,:]"
      ],
      "execution_count": null,
      "outputs": [
        {
          "output_type": "stream",
          "name": "stdout",
          "text": [
            "Out of sample accuracy: 0.7486656962639495\n"
          ]
        },
        {
          "output_type": "execute_result",
          "data": {
            "text/html": [
              "<div>\n",
              "<style scoped>\n",
              "    .dataframe tbody tr th:only-of-type {\n",
              "        vertical-align: middle;\n",
              "    }\n",
              "\n",
              "    .dataframe tbody tr th {\n",
              "        vertical-align: top;\n",
              "    }\n",
              "\n",
              "    .dataframe thead th {\n",
              "        text-align: right;\n",
              "    }\n",
              "</style>\n",
              "<table border=\"1\" class=\"dataframe\">\n",
              "  <thead>\n",
              "    <tr style=\"text-align: right;\">\n",
              "      <th></th>\n",
              "      <th>variables</th>\n",
              "      <th>importance</th>\n",
              "    </tr>\n",
              "  </thead>\n",
              "  <tbody>\n",
              "    <tr>\n",
              "      <th>15</th>\n",
              "      <td>comm_built_far_10</td>\n",
              "      <td>0.189987</td>\n",
              "    </tr>\n",
              "    <tr>\n",
              "      <th>18</th>\n",
              "      <td>retail_built_far_10</td>\n",
              "      <td>0.178855</td>\n",
              "    </tr>\n",
              "    <tr>\n",
              "      <th>5</th>\n",
              "      <td>assesstot_10</td>\n",
              "      <td>0.101112</td>\n",
              "    </tr>\n",
              "    <tr>\n",
              "      <th>16</th>\n",
              "      <td>res_built_far_10</td>\n",
              "      <td>0.0931342</td>\n",
              "    </tr>\n",
              "    <tr>\n",
              "      <th>7</th>\n",
              "      <td>builtfar_10</td>\n",
              "      <td>0.0762445</td>\n",
              "    </tr>\n",
              "    <tr>\n",
              "      <th>56</th>\n",
              "      <td>diff_1214_assesstot</td>\n",
              "      <td>0.0599084</td>\n",
              "    </tr>\n",
              "    <tr>\n",
              "      <th>34</th>\n",
              "      <td>diff_1012_assesstot</td>\n",
              "      <td>0.0496056</td>\n",
              "    </tr>\n",
              "    <tr>\n",
              "      <th>4</th>\n",
              "      <td>assessland_10</td>\n",
              "      <td>0.0466019</td>\n",
              "    </tr>\n",
              "    <tr>\n",
              "      <th>13</th>\n",
              "      <td>maxfar_10</td>\n",
              "      <td>0.0373394</td>\n",
              "    </tr>\n",
              "    <tr>\n",
              "      <th>51</th>\n",
              "      <td>subway_acc_14</td>\n",
              "      <td>0.0247124</td>\n",
              "    </tr>\n",
              "    <tr>\n",
              "      <th>29</th>\n",
              "      <td>subway_acc_12</td>\n",
              "      <td>0.0197264</td>\n",
              "    </tr>\n",
              "    <tr>\n",
              "      <th>23</th>\n",
              "      <td>lotarea_12</td>\n",
              "      <td>0.0148954</td>\n",
              "    </tr>\n",
              "    <tr>\n",
              "      <th>46</th>\n",
              "      <td>lotfront_14</td>\n",
              "      <td>0.0127692</td>\n",
              "    </tr>\n",
              "    <tr>\n",
              "      <th>45</th>\n",
              "      <td>lotarea_14</td>\n",
              "      <td>0.0113846</td>\n",
              "    </tr>\n",
              "    <tr>\n",
              "      <th>17</th>\n",
              "      <td>office_built_far_10</td>\n",
              "      <td>0.0103653</td>\n",
              "    </tr>\n",
              "    <tr>\n",
              "      <th>33</th>\n",
              "      <td>diff_1012_assessland</td>\n",
              "      <td>0.00978505</td>\n",
              "    </tr>\n",
              "    <tr>\n",
              "      <th>12</th>\n",
              "      <td>built_green_10</td>\n",
              "      <td>0.00671743</td>\n",
              "    </tr>\n",
              "    <tr>\n",
              "      <th>6</th>\n",
              "      <td>yearbuilt_10</td>\n",
              "      <td>0.00625134</td>\n",
              "    </tr>\n",
              "    <tr>\n",
              "      <th>2</th>\n",
              "      <td>lotfront_10</td>\n",
              "      <td>0.00602959</td>\n",
              "    </tr>\n",
              "    <tr>\n",
              "      <th>58</th>\n",
              "      <td>diff_1214_maxfar</td>\n",
              "      <td>0.00480272</td>\n",
              "    </tr>\n",
              "  </tbody>\n",
              "</table>\n",
              "</div>"
            ],
            "text/plain": [
              "               variables  importance\n",
              "15     comm_built_far_10    0.189987\n",
              "18   retail_built_far_10    0.178855\n",
              "5           assesstot_10    0.101112\n",
              "16      res_built_far_10   0.0931342\n",
              "7            builtfar_10   0.0762445\n",
              "56   diff_1214_assesstot   0.0599084\n",
              "34   diff_1012_assesstot   0.0496056\n",
              "4          assessland_10   0.0466019\n",
              "13             maxfar_10   0.0373394\n",
              "51         subway_acc_14   0.0247124\n",
              "29         subway_acc_12   0.0197264\n",
              "23            lotarea_12   0.0148954\n",
              "46           lotfront_14   0.0127692\n",
              "45            lotarea_14   0.0113846\n",
              "17   office_built_far_10   0.0103653\n",
              "33  diff_1012_assessland  0.00978505\n",
              "12        built_green_10  0.00671743\n",
              "6           yearbuilt_10  0.00625134\n",
              "2            lotfront_10  0.00602959\n",
              "58      diff_1214_maxfar  0.00480272"
            ]
          },
          "metadata": {},
          "execution_count": 53
        }
      ]
    },
    {
      "cell_type": "code",
      "metadata": {
        "colab": {
          "base_uri": "https://localhost:8080/",
          "height": 394
        },
        "id": "tA88nnl-wR1l",
        "outputId": "3697a800-6a79-443d-8bec-44d841a70a57"
      },
      "source": [
        "Feature_importance=Feature_importance.sort_values(by=\"importance\",ascending=False).iloc[:20,:]\n",
        "Feature_importance.plot.bar(x='variables',y='importance')"
      ],
      "execution_count": null,
      "outputs": [
        {
          "output_type": "execute_result",
          "data": {
            "text/plain": [
              "<matplotlib.axes._subplots.AxesSubplot at 0x7febcb1d4610>"
            ]
          },
          "metadata": {},
          "execution_count": 54
        },
        {
          "output_type": "display_data",
          "data": {
            "image/png": "[encoded data removed]",
            "text/plain": [
              "<Figure size 432x288 with 1 Axes>"
            ]
          },
          "metadata": {
            "needs_background": "light"
          }
        }
      ]
    },
    {
      "cell_type": "code",
      "metadata": {
        "colab": {
          "base_uri": "https://localhost:8080/",
          "height": 377
        },
        "id": "J2TUQvkhh1bb",
        "outputId": "fd20a3de-3d9f-46ea-8ae8-085939c8d422"
      },
      "source": [
        "predicted = rf.predict(X_test)\n",
        "cm_Q =pd.DataFrame(confusion_matrix(y_test.values.argmax(axis=1), predicted.argmax(axis=1)))\n",
        "print ('Out of sample accuracy:',rs.score(X_test,y_test))\n",
        "cm_Q"
      ],
      "execution_count": null,
      "outputs": [
        {
          "output_type": "stream",
          "name": "stdout",
          "text": [
            "Out of sample accuracy: 0.7693633647437371\n"
          ]
        },
        {
          "output_type": "execute_result",
          "data": {
            "text/html": [
              "<div>\n",
              "<style scoped>\n",
              "    .dataframe tbody tr th:only-of-type {\n",
              "        vertical-align: middle;\n",
              "    }\n",
              "\n",
              "    .dataframe tbody tr th {\n",
              "        vertical-align: top;\n",
              "    }\n",
              "\n",
              "    .dataframe thead th {\n",
              "        text-align: right;\n",
              "    }\n",
              "</style>\n",
              "<table border=\"1\" class=\"dataframe\">\n",
              "  <thead>\n",
              "    <tr style=\"text-align: right;\">\n",
              "      <th></th>\n",
              "      <th>0</th>\n",
              "      <th>1</th>\n",
              "      <th>2</th>\n",
              "      <th>3</th>\n",
              "      <th>4</th>\n",
              "      <th>5</th>\n",
              "      <th>6</th>\n",
              "      <th>7</th>\n",
              "      <th>8</th>\n",
              "      <th>9</th>\n",
              "    </tr>\n",
              "  </thead>\n",
              "  <tbody>\n",
              "    <tr>\n",
              "      <th>0</th>\n",
              "      <td>45704</td>\n",
              "      <td>972</td>\n",
              "      <td>0</td>\n",
              "      <td>15</td>\n",
              "      <td>0</td>\n",
              "      <td>0</td>\n",
              "      <td>0</td>\n",
              "      <td>0</td>\n",
              "      <td>0</td>\n",
              "      <td>0</td>\n",
              "    </tr>\n",
              "    <tr>\n",
              "      <th>1</th>\n",
              "      <td>10870</td>\n",
              "      <td>7892</td>\n",
              "      <td>1</td>\n",
              "      <td>86</td>\n",
              "      <td>0</td>\n",
              "      <td>0</td>\n",
              "      <td>0</td>\n",
              "      <td>0</td>\n",
              "      <td>0</td>\n",
              "      <td>0</td>\n",
              "    </tr>\n",
              "    <tr>\n",
              "      <th>2</th>\n",
              "      <td>720</td>\n",
              "      <td>146</td>\n",
              "      <td>6</td>\n",
              "      <td>1</td>\n",
              "      <td>0</td>\n",
              "      <td>2</td>\n",
              "      <td>0</td>\n",
              "      <td>0</td>\n",
              "      <td>0</td>\n",
              "      <td>0</td>\n",
              "    </tr>\n",
              "    <tr>\n",
              "      <th>3</th>\n",
              "      <td>1255</td>\n",
              "      <td>54</td>\n",
              "      <td>0</td>\n",
              "      <td>5482</td>\n",
              "      <td>0</td>\n",
              "      <td>2</td>\n",
              "      <td>0</td>\n",
              "      <td>0</td>\n",
              "      <td>0</td>\n",
              "      <td>0</td>\n",
              "    </tr>\n",
              "    <tr>\n",
              "      <th>4</th>\n",
              "      <td>1485</td>\n",
              "      <td>4</td>\n",
              "      <td>0</td>\n",
              "      <td>223</td>\n",
              "      <td>7</td>\n",
              "      <td>11</td>\n",
              "      <td>0</td>\n",
              "      <td>0</td>\n",
              "      <td>0</td>\n",
              "      <td>0</td>\n",
              "    </tr>\n",
              "    <tr>\n",
              "      <th>5</th>\n",
              "      <td>1046</td>\n",
              "      <td>1</td>\n",
              "      <td>0</td>\n",
              "      <td>7</td>\n",
              "      <td>0</td>\n",
              "      <td>255</td>\n",
              "      <td>0</td>\n",
              "      <td>0</td>\n",
              "      <td>0</td>\n",
              "      <td>0</td>\n",
              "    </tr>\n",
              "    <tr>\n",
              "      <th>6</th>\n",
              "      <td>176</td>\n",
              "      <td>0</td>\n",
              "      <td>0</td>\n",
              "      <td>3</td>\n",
              "      <td>0</td>\n",
              "      <td>2</td>\n",
              "      <td>0</td>\n",
              "      <td>0</td>\n",
              "      <td>0</td>\n",
              "      <td>0</td>\n",
              "    </tr>\n",
              "    <tr>\n",
              "      <th>7</th>\n",
              "      <td>1214</td>\n",
              "      <td>17</td>\n",
              "      <td>0</td>\n",
              "      <td>17</td>\n",
              "      <td>1</td>\n",
              "      <td>1</td>\n",
              "      <td>0</td>\n",
              "      <td>0</td>\n",
              "      <td>0</td>\n",
              "      <td>0</td>\n",
              "    </tr>\n",
              "    <tr>\n",
              "      <th>8</th>\n",
              "      <td>91</td>\n",
              "      <td>0</td>\n",
              "      <td>0</td>\n",
              "      <td>0</td>\n",
              "      <td>0</td>\n",
              "      <td>0</td>\n",
              "      <td>0</td>\n",
              "      <td>0</td>\n",
              "      <td>0</td>\n",
              "      <td>0</td>\n",
              "    </tr>\n",
              "    <tr>\n",
              "      <th>9</th>\n",
              "      <td>544</td>\n",
              "      <td>1</td>\n",
              "      <td>0</td>\n",
              "      <td>2</td>\n",
              "      <td>0</td>\n",
              "      <td>2</td>\n",
              "      <td>0</td>\n",
              "      <td>0</td>\n",
              "      <td>0</td>\n",
              "      <td>0</td>\n",
              "    </tr>\n",
              "  </tbody>\n",
              "</table>\n",
              "</div>"
            ],
            "text/plain": [
              "       0     1  2     3  4    5  6  7  8  9\n",
              "0  45704   972  0    15  0    0  0  0  0  0\n",
              "1  10870  7892  1    86  0    0  0  0  0  0\n",
              "2    720   146  6     1  0    2  0  0  0  0\n",
              "3   1255    54  0  5482  0    2  0  0  0  0\n",
              "4   1485     4  0   223  7   11  0  0  0  0\n",
              "5   1046     1  0     7  0  255  0  0  0  0\n",
              "6    176     0  0     3  0    2  0  0  0  0\n",
              "7   1214    17  0    17  1    1  0  0  0  0\n",
              "8     91     0  0     0  0    0  0  0  0  0\n",
              "9    544     1  0     2  0    2  0  0  0  0"
            ]
          },
          "metadata": {},
          "execution_count": 55
        }
      ]
    },
    {
      "cell_type": "code",
      "metadata": {
        "colab": {
          "base_uri": "https://localhost:8080/",
          "height": 446
        },
        "id": "4fSr_D_0wU3L",
        "outputId": "401e68a7-bf2c-4f6b-a545-7fef5579dd6c"
      },
      "source": [
        "plt.figure(figsize = (10,7))\n",
        "sn.heatmap(cm_Q, annot=True,cmap=\"OrRd\", fmt='d')"
      ],
      "execution_count": null,
      "outputs": [
        {
          "output_type": "execute_result",
          "data": {
            "text/plain": [
              "<matplotlib.axes._subplots.AxesSubplot at 0x7febca917990>"
            ]
          },
          "metadata": {},
          "execution_count": 56
        },
        {
          "output_type": "display_data",
          "data": {
            "image/png": "[encoded data removed]",
            "text/plain": [
              "<Figure size 720x504 with 2 Axes>"
            ]
          },
          "metadata": {
            "needs_background": "light"
          }
        }
      ]
    },
    {
      "cell_type": "code",
      "metadata": {
        "colab": {
          "base_uri": "https://localhost:8080/",
          "height": 1000
        },
        "id": "ioymKZBtXlhz",
        "outputId": "906992cb-9cf8-4819-d83b-17b7bdf201bd"
      },
      "source": [
        "from sklearn import tree\n",
        "from IPython.display import Image  \n",
        "import pydotplus\n",
        "import cv2\n",
        "\n",
        "dt = DecisionTreeClassifier(max_depth=10) \n",
        "dt.fit(X_train,y_train)\n",
        "\n",
        "thestring=tree.export_graphviz(dt,out_file=None,\n",
        "                         feature_names=X_train.columns.values,  \n",
        "                         class_names=dt.classes_,  \n",
        "                         filled=True, rounded=True,  \n",
        "                         special_characters=True,impurity=False).replace(\"<br/>\",\", \").replace(\"&le;\",\"<=\").replace(\"=<\",\"=\\\"\").replace(\">,\",\"\\\",\")\n",
        "print(thestring)\n",
        "graph = pydotplus.graph_from_dot_data(thestring) \n",
        "# pydot_graph= pydotplus.graph_from_dot_data(stream.getvalue()) \n",
        "graph.set_size('\"55,15!\"')\n",
        "Image(graph.create_png())"
      ],
      "execution_count": null,
      "outputs": [
        {
          "output_type": "stream",
          "name": "stdout",
          "text": [
            "digraph Tree {\n",
            "node [shape=box, style=\"filled, rounded\", color=\"black\", fontname=helvetica] ;\n",
            "edge [fontname=helvetica] ;\n",
            "0 [label=\"unitsres <= 2.5, samples = 573737, value = [[176196, 397541], [481857, 91880], [565540, 8197], [539722, 34015], [556491, 17246], [564483, 9254], [570754, 2983], [565506, 8231], [572894, 843], [570278, 3459], [573649, 88]]\", fillcolor=\"#f4caab\"] ;\n",
            "1 [label=\"comarea <= 12.0, samples = 457181, value = [[59663, 397518], [456774, 407], [456934, 247], [439573, 17608], [440197, 16984], [448089, 9092], [454205, 2976], [449216, 7965], [456340, 841], [453726, 3455], [457093, 88]]\", fillcolor=\"#eca571\"] ;\n",
            "0 -> 1 [labeldistance=2.5, labelangle=45, headlabel=\"True\"] ;\n",
            "2 [label=\"resarea <= 2.5, samples = 400023, value = [[2538, 397485], [399642, 381], [399874, 149], [399965, 58], [399995, 28], [400011, 12], [399982, 41], [399903, 120], [399894, 129], [398489, 1534], [399937, 86]]\", fillcolor=\"#e5833c\"] ;\n",
            "1 -> 2 ;\n",
            "3 [label=\"G0 <= 0.5, samples = 2023, value = [[1835, 188], [2022, 1], [2022, 1], [2016, 7], [2005, 18], [2014, 9], [1984, 39], [1990, 33], [1906, 117], [499, 1524], [1937, 86]]\", fillcolor=\"#f2bf9b\"] ;\n",
            "2 -> 3 ;\n",
            "4 [label=\"G7 <= 0.5, samples = 695, value = [[507, 188], [694, 1], [694, 1], [688, 7], [677, 18], [686, 9], [656, 39], [662, 33], [578, 117], [499, 196], [609, 86]]\", fillcolor=\"#fdf8f3\"] ;\n",
            "3 -> 4 ;\n",
            "5 [label=\"maxallwfar <= 0.25, samples = 541, value = [[353, 188], [540, 1], [540, 1], [534, 7], [523, 18], [532, 9], [502, 39], [508, 33], [424, 117], [499, 42], [455, 86]]\", fillcolor=\"#fdf7f2\"] ;\n",
            "4 -> 5 ;\n",
            "6 [label=\"samples = 83, value = [[83, 0], [83, 0], [83, 0], [83, 0], [83, 0], [83, 0], [83, 0], [83, 0], [0, 83], [83, 0], [83, 0]]\", fillcolor=\"#e58139\"] ;\n",
            "5 -> 6 ;\n",
            "7 [label=\"assessland <= 31159.5, samples = 458, value = [[270, 188], [457, 1], [457, 1], [451, 7], [440, 18], [449, 9], [419, 39], [425, 33], [424, 34], [416, 42], [372, 86]]\", fillcolor=\"#fdf3ec\"] ;\n",
            "5 -> 7 ;\n",
            "8 [label=\"V0 <= 0.5, samples = 268, value = [[86, 182], [267, 1], [268, 0], [264, 4], [264, 4], [266, 2], [265, 3], [266, 2], [263, 5], [266, 2], [205, 63]]\", fillcolor=\"#f4c9aa\"] ;\n",
            "7 -> 8 ;\n",
            "9 [label=\"V1 <= 0.5, samples = 216, value = [[34, 182], [215, 1], [216, 0], [212, 4], [212, 4], [214, 2], [213, 3], [214, 2], [211, 5], [214, 2], [205, 11]]\", fillcolor=\"#eeac7c\"] ;\n",
            "8 -> 9 ;\n",
            "10 [label=\"S2 <= 0.5, samples = 205, value = [[23, 182], [204, 1], [205, 0], [201, 4], [201, 4], [203, 2], [202, 3], [203, 2], [200, 5], [203, 2], [205, 0]]\", fillcolor=\"#eba06a\"] ;\n",
            "9 -> 10 ;\n",
            "11 [label=\"samples = 202, value = [[20, 182], [201, 1], [202, 0], [201, 1], [198, 4], [200, 2], [199, 3], [200, 2], [197, 5], [200, 2], [202, 0]]\", fillcolor=\"#eb9d65\"] ;\n",
            "10 -> 11 ;\n",
            "12 [label=\"samples = 3, value = [[3, 0], [3, 0], [3, 0], [0, 3], [3, 0], [3, 0], [3, 0], [3, 0], [3, 0], [3, 0], [3, 0]]\", fillcolor=\"#e58139\"] ;\n",
            "10 -> 12 ;\n",
            "13 [label=\"samples = 11, value = [[11, 0], [11, 0], [11, 0], [11, 0], [11, 0], [11, 0], [11, 0], [11, 0], [11, 0], [11, 0], [0, 11]]\", fillcolor=\"#e58139\"] ;\n",
            "9 -> 13 ;\n",
            "14 [label=\"samples = 52, value = [[52, 0], [52, 0], [52, 0], [52, 0], [52, 0], [52, 0], [52, 0], [52, 0], [52, 0], [52, 0], [0, 52]]\", fillcolor=\"#e58139\"] ;\n",
            "8 -> 14 ;\n",
            "15 [label=\"G6 <= 0.5, samples = 190, value = [[184, 6], [190, 0], [189, 1], [187, 3], [176, 14], [183, 7], [154, 36], [159, 31], [161, 29], [150, 40], [167, 23]]\", fillcolor=\"#ffffff\"] ;\n",
            "7 -> 15 ;\n",
            "16 [label=\"V1 <= 0.5, samples = 155, value = [[149, 6], [155, 0], [154, 1], [152, 3], [141, 14], [148, 7], [119, 36], [124, 31], [126, 29], [150, 5], [132, 23]]\", fillcolor=\"#fffdfc\"] ;\n",
            "15 -> 16 ;\n",
            "17 [label=\"G9 <= 0.5, samples = 138, value = [[132, 6], [138, 0], [137, 1], [135, 3], [124, 14], [131, 7], [102, 36], [107, 31], [109, 29], [133, 5], [132, 6]]\", fillcolor=\"#fefbf8\"] ;\n",
            "16 -> 17 ;\n",
            "18 [label=\"samples = 119, value = [[113, 6], [119, 0], [118, 1], [116, 3], [105, 14], [112, 7], [102, 17], [88, 31], [90, 29], [114, 5], [113, 6]]\", fillcolor=\"#fefcfa\"] ;\n",
            "17 -> 18 ;\n",
            "19 [label=\"samples = 19, value = [[19, 0], [19, 0], [19, 0], [19, 0], [19, 0], [19, 0], [0, 19], [19, 0], [19, 0], [19, 0], [19, 0]]\", fillcolor=\"#e58139\"] ;\n",
            "17 -> 19 ;\n",
            "20 [label=\"samples = 17, value = [[17, 0], [17, 0], [17, 0], [17, 0], [17, 0], [17, 0], [17, 0], [17, 0], [17, 0], [17, 0], [0, 17]]\", fillcolor=\"#e58139\"] ;\n",
            "16 -> 20 ;\n",
            "21 [label=\"samples = 35, value = [[35, 0], [35, 0], [35, 0], [35, 0], [35, 0], [35, 0], [35, 0], [35, 0], [35, 0], [0, 35], [35, 0]]\", fillcolor=\"#e58139\"] ;\n",
            "15 -> 21 ;\n",
            "22 [label=\"samples = 154, value = [[154, 0], [154, 0], [154, 0], [154, 0], [154, 0], [154, 0], [154, 0], [154, 0], [154, 0], [0, 154], [154, 0]]\", fillcolor=\"#e58139\"] ;\n",
            "4 -> 22 ;\n",
            "23 [label=\"samples = 1328, value = [[1328, 0], [1328, 0], [1328, 0], [1328, 0], [1328, 0], [1328, 0], [1328, 0], [1328, 0], [1328, 0], [0, 1328], [1328, 0]]\", fillcolor=\"#e58139\"] ;\n",
            "3 -> 23 ;\n",
            "24 [label=\"unitsres <= 0.5, samples = 398000, value = [[703, 397297], [397620, 380], [397852, 148], [397949, 51], [397990, 10], [397997, 3], [397998, 2], [397913, 87], [397988, 12], [397990, 10], [398000, 0]]\", fillcolor=\"#e5823a\"] ;\n",
            "2 -> 24 ;\n",
            "25 [label=\"numfloors <= 2.875, samples = 1036, value = [[503, 533], [765, 271], [889, 147], [1032, 4], [1027, 9], [1033, 3], [1034, 2], [982, 54], [1033, 3], [1026, 10], [1036, 0]]\", fillcolor=\"#f9e1cf\"] ;\n",
            "24 -> 25 ;\n",
            "26 [label=\"C0 <= 0.5, samples = 563, value = [[79, 484], [530, 33], [560, 3], [561, 2], [557, 6], [562, 1], [561, 2], [544, 19], [560, 3], [553, 10], [563, 0]]\", fillcolor=\"#eda775\"] ;\n",
            "25 -> 26 ;\n",
            "27 [label=\"assessland <= 54165.0, samples = 540, value = [[56, 484], [530, 10], [537, 3], [538, 2], [534, 6], [539, 1], [538, 2], [521, 19], [537, 3], [530, 10], [540, 0]]\", fillcolor=\"#eb9e66\"] ;\n",
            "26 -> 27 ;\n",
            "28 [label=\"G0 <= 0.5, samples = 508, value = [[25, 483], [502, 6], [508, 0], [506, 2], [505, 3], [507, 1], [507, 1], [506, 2], [508, 0], [498, 10], [508, 0]]\", fillcolor=\"#e88f4f\"] ;\n",
            "27 -> 28 ;\n",
            "29 [label=\"C3 <= 0.5, samples = 500, value = [[17, 483], [494, 6], [500, 0], [498, 2], [497, 3], [499, 1], [499, 1], [498, 2], [500, 0], [498, 2], [500, 0]]\", fillcolor=\"#e78b49\"] ;\n",
            "28 -> 29 ;\n",
            "30 [label=\"C2 <= 0.5, samples = 497, value = [[14, 483], [494, 3], [497, 0], [495, 2], [494, 3], [496, 1], [496, 1], [495, 2], [497, 0], [495, 2], [497, 0]]\", fillcolor=\"#e78946\"] ;\n",
            "29 -> 30 ;\n",
            "31 [label=\"samples = 494, value = [[11, 483], [494, 0], [494, 0], [492, 2], [491, 3], [493, 1], [493, 1], [492, 2], [494, 0], [492, 2], [494, 0]]\", fillcolor=\"#e68843\"] ;\n",
            "30 -> 31 ;\n",
            "32 [label=\"samples = 3, value = [[3, 0], [0, 3], [3, 0], [3, 0], [3, 0], [3, 0], [3, 0], [3, 0], [3, 0], [3, 0], [3, 0]]\", fillcolor=\"#e58139\"] ;\n",
            "30 -> 32 ;\n",
            "33 [label=\"samples = 3, value = [[3, 0], [0, 3], [3, 0], [3, 0], [3, 0], [3, 0], [3, 0], [3, 0], [3, 0], [3, 0], [3, 0]]\", fillcolor=\"#e58139\"] ;\n",
            "29 -> 33 ;\n",
            "34 [label=\"samples = 8, value = [[8, 0], [8, 0], [8, 0], [8, 0], [8, 0], [8, 0], [8, 0], [8, 0], [8, 0], [0, 8], [8, 0]]\", fillcolor=\"#e58139\"] ;\n",
            "28 -> 34 ;\n",
            "35 [label=\"yearbuilt <= 1993.0, samples = 32, value = [[31, 1], [28, 4], [29, 3], [32, 0], [29, 3], [32, 0], [31, 1], [15, 17], [29, 3], [32, 0], [32, 0]]\", fillcolor=\"#fae5d6\"] ;\n",
            "27 -> 35 ;\n",
            "36 [label=\"O7 <= 0.5, samples = 23, value = [[23, 0], [21, 2], [23, 0], [23, 0], [21, 2], [23, 0], [23, 0], [6, 17], [21, 2], [23, 0], [23, 0]]\", fillcolor=\"#f2c19e\"] ;\n",
            "35 -> 36 ;\n",
            "37 [label=\"maxallwfar <= 0.25, samples = 21, value = [[21, 0], [19, 2], [21, 0], [21, 0], [21, 0], [21, 0], [21, 0], [4, 17], [19, 2], [21, 0], [21, 0]]\", fillcolor=\"#efb285\"] ;\n",
            "36 -> 37 ;\n",
            "38 [label=\"samples = 2, value = [[2, 0], [2, 0], [2, 0], [2, 0], [2, 0], [2, 0], [2, 0], [2, 0], [0, 2], [2, 0], [2, 0]]\", fillcolor=\"#e58139\"] ;\n",
            "37 -> 38 ;\n",
            "39 [label=\"samples = 19, value = [[19, 0], [17, 2], [19, 0], [19, 0], [19, 0], [19, 0], [19, 0], [2, 17], [19, 0], [19, 0], [19, 0]]\", fillcolor=\"#eb9d65\"] ;\n",
            "37 -> 39 ;\n",
            "40 [label=\"samples = 2, value = [[2, 0], [2, 0], [2, 0], [2, 0], [0, 2], [2, 0], [2, 0], [2, 0], [2, 0], [2, 0], [2, 0]]\", fillcolor=\"#e58139\"] ;\n",
            "36 -> 40 ;\n",
            "41 [label=\"lotfront.1 <= 32.75, samples = 9, value = [[8, 1], [7, 2], [6, 3], [9, 0], [8, 1], [9, 0], [8, 1], [9, 0], [8, 1], [9, 0], [9, 0]]\", fillcolor=\"#fdf7f2\"] ;\n",
            "35 -> 41 ;\n",
            "42 [label=\"samples = 3, value = [[3, 0], [3, 0], [0, 3], [3, 0], [3, 0], [3, 0], [3, 0], [3, 0], [3, 0], [3, 0], [3, 0]]\", fillcolor=\"#e58139\"] ;\n",
            "41 -> 42 ;\n",
            "43 [label=\"C1 <= 0.5, samples = 6, value = [[5, 1], [4, 2], [6, 0], [6, 0], [5, 1], [6, 0], [5, 1], [6, 0], [5, 1], [6, 0], [6, 0]]\", fillcolor=\"#fdf5ef\"] ;\n",
            "41 -> 43 ;\n",
            "44 [label=\"samples = 4, value = [[3, 1], [4, 0], [4, 0], [4, 0], [3, 1], [4, 0], [3, 1], [4, 0], [3, 1], [4, 0], [4, 0]]\", fillcolor=\"#fcf1e8\"] ;\n",
            "43 -> 44 ;\n",
            "45 [label=\"samples = 2, value = [[2, 0], [0, 2], [2, 0], [2, 0], [2, 0], [2, 0], [2, 0], [2, 0], [2, 0], [2, 0], [2, 0]]\", fillcolor=\"#e58139\"] ;\n",
            "43 -> 45 ;\n",
            "46 [label=\"samples = 23, value = [[23, 0], [0, 23], [23, 0], [23, 0], [23, 0], [23, 0], [23, 0], [23, 0], [23, 0], [23, 0], [23, 0]]\", fillcolor=\"#e58139\"] ;\n",
            "26 -> 46 ;\n",
            "47 [label=\"resarea <= 22677.0, samples = 473, value = [[424, 49], [235, 238], [329, 144], [471, 2], [470, 3], [471, 2], [473, 0], [438, 35], [473, 0], [473, 0], [473, 0]]\", fillcolor=\"#f9e0ce\"] ;\n",
            "25 -> 47 ;\n",
            "48 [label=\"resarea <= 2467.0, samples = 319, value = [[270, 49], [93, 226], [301, 18], [319, 0], [319, 0], [319, 0], [319, 0], [293, 26], [319, 0], [319, 0], [319, 0]]\", fillcolor=\"#f3c6a6\"] ;\n",
            "47 -> 48 ;\n",
            "49 [label=\"assesstot <= 30929.0, samples = 25, value = [[4, 21], [21, 4], [25, 0], [25, 0], [25, 0], [25, 0], [25, 0], [25, 0], [25, 0], [25, 0], [25, 0]]\", fillcolor=\"#eda978\"] ;\n",
            "48 -> 49 ;\n",
            "50 [label=\"med_income <= 78996.5, samples = 21, value = [[1, 20], [20, 1], [21, 0], [21, 0], [21, 0], [21, 0], [21, 0], [21, 0], [21, 0], [21, 0], [21, 0]]\", fillcolor=\"#e88e4e\"] ;\n",
            "49 -> 50 ;\n",
            "51 [label=\"samples = 20, value = [[0, 20], [20, 0], [20, 0], [20, 0], [20, 0], [20, 0], [20, 0], [20, 0], [20, 0], [20, 0], [20, 0]]\", fillcolor=\"#e58139\"] ;\n",
            "50 -> 51 ;\n",
            "52 [label=\"samples = 1, value = [[1, 0], [0, 1], [1, 0], [1, 0], [1, 0], [1, 0], [1, 0], [1, 0], [1, 0], [1, 0], [1, 0]]\", fillcolor=\"#e58139\"] ;\n",
            "50 -> 52 ;\n",
            "53 [label=\"assessland <= 4926.5, samples = 4, value = [[3, 1], [1, 3], [4, 0], [4, 0], [4, 0], [4, 0], [4, 0], [4, 0], [4, 0], [4, 0], [4, 0]]\", fillcolor=\"#f1b991\"] ;\n",
            "49 -> 53 ;\n",
            "54 [label=\"samples = 1, value = [[0, 1], [1, 0], [1, 0], [1, 0], [1, 0], [1, 0], [1, 0], [1, 0], [1, 0], [1, 0], [1, 0]]\", fillcolor=\"#e58139\"] ;\n",
            "53 -> 54 ;\n",
            "55 [label=\"samples = 3, value = [[3, 0], [0, 3], [3, 0], [3, 0], [3, 0], [3, 0], [3, 0], [3, 0], [3, 0], [3, 0], [3, 0]]\", fillcolor=\"#e58139\"] ;\n",
            "53 -> 55 ;\n",
            "56 [label=\"B1 <= 0.5, samples = 294, value = [[266, 28], [72, 222], [276, 18], [294, 0], [294, 0], [294, 0], [294, 0], [268, 26], [294, 0], [294, 0], [294, 0]]\", fillcolor=\"#f2be99\"] ;\n",
            "48 -> 56 ;\n",
            "57 [label=\"assessland <= 103950.0, samples = 282, value = [[266, 16], [60, 222], [264, 18], [282, 0], [282, 0], [282, 0], [282, 0], [256, 26], [282, 0], [282, 0], [282, 0]]\", fillcolor=\"#f0b78e\"] ;\n",
            "56 -> 57 ;\n",
            "58 [label=\"B2 <= 0.5, samples = 226, value = [[214, 12], [25, 201], [219, 7], [226, 0], [226, 0], [226, 0], [226, 0], [220, 6], [226, 0], [226, 0], [226, 0]]\", fillcolor=\"#eb9f69\"] ;\n",
            "57 -> 58 ;\n",
            "59 [label=\"samples = 218, value = [[214, 4], [17, 201], [211, 7], [218, 0], [218, 0], [218, 0], [218, 0], [212, 6], [218, 0], [218, 0], [218, 0]]\", fillcolor=\"#ea975c\"] ;\n",
            "58 -> 59 ;\n",
            "60 [label=\"samples = 8, value = [[0, 8], [8, 0], [8, 0], [8, 0], [8, 0], [8, 0], [8, 0], [8, 0], [8, 0], [8, 0], [8, 0]]\", fillcolor=\"#e58139\"] ;\n",
            "58 -> 60 ;\n",
            "61 [label=\"builtfar <= 3.235, samples = 56, value = [[52, 4], [35, 21], [45, 11], [56, 0], [56, 0], [56, 0], [56, 0], [36, 20], [56, 0], [56, 0], [56, 0]]\", fillcolor=\"#fae7da\"] ;\n",
            "57 -> 61 ;\n",
            "62 [label=\"samples = 24, value = [[21, 3], [23, 1], [23, 1], [24, 0], [24, 0], [24, 0], [24, 0], [5, 19], [24, 0], [24, 0], [24, 0]]\", fillcolor=\"#f0b68c\"] ;\n",
            "61 -> 62 ;\n",
            "63 [label=\"samples = 32, value = [[31, 1], [12, 20], [22, 10], [32, 0], [32, 0], [32, 0], [32, 0], [31, 1], [32, 0], [32, 0], [32, 0]]\", fillcolor=\"#f5cdb0\"] ;\n",
            "61 -> 63 ;\n",
            "64 [label=\"samples = 12, value = [[0, 12], [12, 0], [12, 0], [12, 0], [12, 0], [12, 0], [12, 0], [12, 0], [12, 0], [12, 0], [12, 0]]\", fillcolor=\"#e58139\"] ;\n",
            "56 -> 64 ;\n",
            "65 [label=\"C1 <= 0.5, samples = 154, value = [[154, 0], [142, 12], [28, 126], [152, 2], [151, 3], [152, 2], [154, 0], [145, 9], [154, 0], [154, 0], [154, 0]]\", fillcolor=\"#efb184\"] ;\n",
            "47 -> 65 ;\n",
            "66 [label=\"numfloors <= 5.5, samples = 144, value = [[144, 0], [142, 2], [18, 126], [142, 2], [141, 3], [142, 2], [144, 0], [135, 9], [144, 0], [144, 0], [144, 0]]\", fillcolor=\"#eca36f\"] ;\n",
            "65 -> 66 ;\n",
            "67 [label=\"builtfar <= 3.265, samples = 21, value = [[21, 0], [19, 2], [12, 9], [21, 0], [20, 1], [19, 2], [21, 0], [14, 7], [21, 0], [21, 0], [21, 0]]\", fillcolor=\"#fae7d9\"] ;\n",
            "66 -> 67 ;\n",
            "68 [label=\"assessland <= 391050.0, samples = 10, value = [[10, 0], [8, 2], [9, 1], [10, 0], [9, 1], [9, 1], [10, 0], [5, 5], [10, 0], [10, 0], [10, 0]]\", fillcolor=\"#fae6d8\"] ;\n",
            "67 -> 68 ;\n",
            "69 [label=\"samples = 3, value = [[3, 0], [1, 2], [3, 0], [3, 0], [3, 0], [2, 1], [3, 0], [3, 0], [3, 0], [3, 0], [3, 0]]\", fillcolor=\"#f3c3a1\"] ;\n",
            "68 -> 69 ;\n",
            "70 [label=\"samples = 7, value = [[7, 0], [7, 0], [6, 1], [7, 0], [6, 1], [7, 0], [7, 0], [2, 5], [7, 0], [7, 0], [7, 0]]\", fillcolor=\"#f3c4a2\"] ;\n",
            "68 -> 70 ;\n",
            "71 [label=\"tractce <= 9450.0, samples = 11, value = [[11, 0], [11, 0], [3, 8], [11, 0], [11, 0], [10, 1], [11, 0], [9, 2], [11, 0], [11, 0], [11, 0]]\", fillcolor=\"#f2c19d\"] ;\n",
            "67 -> 71 ;\n",
            "72 [label=\"samples = 4, value = [[4, 0], [4, 0], [3, 1], [4, 0], [4, 0], [3, 1], [4, 0], [2, 2], [4, 0], [4, 0], [4, 0]]\", fillcolor=\"#f8decb\"] ;\n",
            "71 -> 72 ;\n",
            "73 [label=\"samples = 7, value = [[7, 0], [7, 0], [0, 7], [7, 0], [7, 0], [7, 0], [7, 0], [7, 0], [7, 0], [7, 0], [7, 0]]\", fillcolor=\"#e58139\"] ;\n",
            "71 -> 73 ;\n",
            "74 [label=\"H9 <= 0.5, samples = 123, value = [[123, 0], [123, 0], [6, 117], [121, 2], [121, 2], [123, 0], [123, 0], [121, 2], [123, 0], [123, 0], [123, 0]]\", fillcolor=\"#e88f4f\"] ;\n",
            "66 -> 74 ;\n",
            "75 [label=\"N2 <= 0.5, samples = 121, value = [[121, 0], [121, 0], [4, 117], [119, 2], [121, 0], [121, 0], [121, 0], [119, 2], [121, 0], [121, 0], [121, 0]]\", fillcolor=\"#e78b48\"] ;\n",
            "74 -> 75 ;\n",
            "76 [label=\"samples = 120, value = [[120, 0], [120, 0], [3, 117], [118, 2], [120, 0], [120, 0], [120, 0], [119, 1], [120, 0], [120, 0], [120, 0]]\", fillcolor=\"#e78844\"] ;\n",
            "75 -> 76 ;\n",
            "77 [label=\"samples = 1, value = [[1, 0], [1, 0], [1, 0], [1, 0], [1, 0], [1, 0], [1, 0], [0, 1], [1, 0], [1, 0], [1, 0]]\", fillcolor=\"#e58139\"] ;\n",
            "75 -> 77 ;\n",
            "78 [label=\"samples = 2, value = [[2, 0], [2, 0], [2, 0], [2, 0], [0, 2], [2, 0], [2, 0], [2, 0], [2, 0], [2, 0], [2, 0]]\", fillcolor=\"#e58139\"] ;\n",
            "74 -> 78 ;\n",
            "79 [label=\"samples = 10, value = [[10, 0], [0, 10], [10, 0], [10, 0], [10, 0], [10, 0], [10, 0], [10, 0], [10, 0], [10, 0], [10, 0]]\", fillcolor=\"#e58139\"] ;\n",
            "65 -> 79 ;\n",
            "80 [label=\"R6 <= 0.5, samples = 396964, value = [[200, 396764], [396855, 109], [396963, 1], [396917, 47], [396963, 1], [396964, 0], [396964, 0], [396931, 33], [396955, 9], [396964, 0], [396964, 0]]\", fillcolor=\"#e58139\"] ;\n",
            "24 -> 80 ;\n",
            "81 [label=\"S2 <= 0.5, samples = 396896, value = [[132, 396764], [396855, 41], [396895, 1], [396849, 47], [396895, 1], [396896, 0], [396896, 0], [396863, 33], [396887, 9], [396896, 0], [396896, 0]]\", fillcolor=\"#e58139\"] ;\n",
            "80 -> 81 ;\n",
            "82 [label=\"S1 <= 0.5, samples = 396869, value = [[105, 396764], [396828, 41], [396868, 1], [396849, 20], [396868, 1], [396869, 0], [396869, 0], [396836, 33], [396860, 9], [396869, 0], [396869, 0]]\", fillcolor=\"#e58139\"] ;\n",
            "81 -> 82 ;\n",
            "83 [label=\"R1 <= 0.5, samples = 396852, value = [[88, 396764], [396811, 41], [396851, 1], [396849, 3], [396851, 1], [396852, 0], [396852, 0], [396819, 33], [396843, 9], [396852, 0], [396852, 0]]\", fillcolor=\"#e58139\"] ;\n",
            "82 -> 83 ;\n",
            "84 [label=\"R3 <= 0.5, samples = 396836, value = [[72, 396764], [396811, 25], [396835, 1], [396833, 3], [396835, 1], [396836, 0], [396836, 0], [396803, 33], [396827, 9], [396836, 0], [396836, 0]]\", fillcolor=\"#e58139\"] ;\n",
            "83 -> 84 ;\n",
            "85 [label=\"C6 <= 0.5, samples = 396821, value = [[57, 396764], [396811, 10], [396820, 1], [396818, 3], [396820, 1], [396821, 0], [396821, 0], [396788, 33], [396812, 9], [396821, 0], [396821, 0]]\", fillcolor=\"#e58139\"] ;\n",
            "84 -> 85 ;\n",
            "86 [label=\"samples = 396811, value = [[47, 396764], [396811, 0], [396810, 1], [396808, 3], [396810, 1], [396811, 0], [396811, 0], [396778, 33], [396802, 9], [396811, 0], [396811, 0]]\", fillcolor=\"#e58139\"] ;\n",
            "85 -> 86 ;\n",
            "87 [label=\"samples = 10, value = [[10, 0], [0, 10], [10, 0], [10, 0], [10, 0], [10, 0], [10, 0], [10, 0], [10, 0], [10, 0], [10, 0]]\", fillcolor=\"#e58139\"] ;\n",
            "85 -> 87 ;\n",
            "88 [label=\"samples = 15, value = [[15, 0], [0, 15], [15, 0], [15, 0], [15, 0], [15, 0], [15, 0], [15, 0], [15, 0], [15, 0], [15, 0]]\", fillcolor=\"#e58139\"] ;\n",
            "84 -> 88 ;\n",
            "89 [label=\"samples = 16, value = [[16, 0], [0, 16], [16, 0], [16, 0], [16, 0], [16, 0], [16, 0], [16, 0], [16, 0], [16, 0], [16, 0]]\", fillcolor=\"#e58139\"] ;\n",
            "83 -> 89 ;\n",
            "90 [label=\"samples = 17, value = [[17, 0], [17, 0], [17, 0], [0, 17], [17, 0], [17, 0], [17, 0], [17, 0], [17, 0], [17, 0], [17, 0]]\", fillcolor=\"#e58139\"] ;\n",
            "82 -> 90 ;\n",
            "91 [label=\"samples = 27, value = [[27, 0], [27, 0], [27, 0], [0, 27], [27, 0], [27, 0], [27, 0], [27, 0], [27, 0], [27, 0], [27, 0]]\", fillcolor=\"#e58139\"] ;\n",
            "81 -> 91 ;\n",
            "92 [label=\"samples = 68, value = [[68, 0], [0, 68], [68, 0], [68, 0], [68, 0], [68, 0], [68, 0], [68, 0], [68, 0], [68, 0], [68, 0]]\", fillcolor=\"#e58139\"] ;\n",
            "80 -> 92 ;\n",
            "93 [label=\"resarea <= 262.5, samples = 57158, value = [[57125, 33], [57132, 26], [57060, 98], [39608, 17550], [40202, 16956], [48078, 9080], [54223, 2935], [49313, 7845], [56446, 712], [55237, 1921], [57156, 2]]\", fillcolor=\"#fdf3ed\"] ;\n",
            "1 -> 93 ;\n",
            "94 [label=\"retailarea <= 75.0, samples = 37854, value = [[37851, 3], [37853, 1], [37824, 30], [37833, 21], [21907, 15947], [29023, 8831], [35009, 2845], [30294, 7560], [37150, 704], [35943, 1911], [37853, 1]]\", fillcolor=\"#fbece1\"] ;\n",
            "93 -> 94 ;\n",
            "95 [label=\"otherarea <= 713.0, samples = 24200, value = [[24197, 3], [24200, 0], [24176, 24], [24196, 4], [20321, 3879], [16218, 7982], [21645, 2555], [16932, 7268], [23546, 654], [22369, 1831], [24200, 0]]\", fillcolor=\"#fcf2ea\"] ;\n",
            "94 -> 95 ;\n",
            "96 [label=\"G9 <= 0.5, samples = 16481, value = [[16479, 2], [16481, 0], [16480, 1], [16478, 3], [13364, 3117], [8838, 7643], [14192, 2289], [15085, 1396], [16163, 318], [14769, 1712], [16481, 0]]\", fillcolor=\"#fbebdf\"] ;\n",
            "95 -> 96 ;\n",
            "97 [label=\"officearea <= 1262.5, samples = 14657, value = [[14655, 2], [14657, 0], [14656, 1], [14654, 3], [11540, 3117], [7014, 7643], [14192, 465], [13261, 1396], [14339, 318], [12945, 1712], [14657, 0]]\", fillcolor=\"#f9e3d3\"] ;\n",
            "96 -> 97 ;\n",
            "98 [label=\"G2 <= 0.5, samples = 9169, value = [[9167, 2], [9169, 0], [9168, 1], [9168, 1], [8865, 304], [2839, 6330], [8729, 440], [8962, 207], [8923, 246], [7531, 1638], [9169, 0]]\", fillcolor=\"#f4c9ab\"] ;\n",
            "97 -> 98 ;\n",
            "99 [label=\"garagearea <= 7.5, samples = 7886, value = [[7884, 2], [7886, 0], [7885, 1], [7885, 1], [7582, 304], [1556, 6330], [7446, 440], [7679, 207], [7640, 246], [7531, 355], [7886, 0]]\", fillcolor=\"#f0b58a\"] ;\n",
            "98 -> 99 ;\n",
            "100 [label=\"comarea <= 1249.0, samples = 6788, value = [[6786, 2], [6788, 0], [6787, 1], [6787, 1], [6543, 245], [754, 6034], [6749, 39], [6624, 164], [6566, 222], [6708, 80], [6788, 0]]\", fillcolor=\"#eba069\"] ;\n",
            "99 -> 100 ;\n",
            "101 [label=\"samples = 706, value = [[704, 2], [706, 0], [706, 0], [705, 1], [528, 178], [530, 176], [675, 31], [670, 36], [494, 212], [636, 70], [706, 0]]\", fillcolor=\"#fdf3ed\"] ;\n",
            "100 -> 101 ;\n",
            "102 [label=\"samples = 6082, value = [[6082, 0], [6082, 0], [6081, 1], [6082, 0], [6015, 67], [224, 5858], [6074, 8], [5954, 128], [6072, 10], [6072, 10], [6082, 0]]\", fillcolor=\"#e78c4a\"] ;\n",
            "100 -> 102 ;\n",
            "103 [label=\"G1 <= 0.5, samples = 1098, value = [[1098, 0], [1098, 0], [1098, 0], [1098, 0], [1039, 59], [802, 296], [697, 401], [1055, 43], [1074, 24], [823, 275], [1098, 0]]\", fillcolor=\"#fbede3\"] ;\n",
            "99 -> 103 ;\n",
            "104 [label=\"samples = 878, value = [[878, 0], [878, 0], [878, 0], [878, 0], [819, 59], [582, 296], [477, 401], [835, 43], [854, 24], [823, 55], [878, 0]]\", fillcolor=\"#f9e4d5\"] ;\n",
            "103 -> 104 ;\n",
            "105 [label=\"samples = 220, value = [[220, 0], [220, 0], [220, 0], [220, 0], [220, 0], [220, 0], [220, 0], [220, 0], [220, 0], [0, 220], [220, 0]]\", fillcolor=\"#e58139\"] ;\n",
            "103 -> 105 ;\n",
            "106 [label=\"samples = 1283, value = [[1283, 0], [1283, 0], [1283, 0], [1283, 0], [1283, 0], [1283, 0], [1283, 0], [1283, 0], [1283, 0], [0, 1283], [1283, 0]]\", fillcolor=\"#e58139\"] ;\n",
            "98 -> 106 ;\n",
            "107 [label=\"strgearea <= 1540.0, samples = 5488, value = [[5488, 0], [5488, 0], [5488, 0], [5486, 2], [2675, 2813], [4175, 1313], [5463, 25], [4299, 1189], [5416, 72], [5414, 74], [5488, 0]]\", fillcolor=\"#f8dfcd\"] ;\n",
            "97 -> 107 ;\n",
            "108 [label=\"factryarea <= 1550.0, samples = 4608, value = [[4608, 0], [4608, 0], [4608, 0], [4606, 2], [1892, 2716], [4061, 547], [4586, 22], [3427, 1181], [4538, 70], [4538, 70], [4608, 0]]\", fillcolor=\"#f7d6bf\"] ;\n",
            "107 -> 108 ;\n",
            "109 [label=\"O9 <= 0.5, samples = 4097, value = [[4097, 0], [4097, 0], [4097, 0], [4095, 2], [1401, 2696], [4038, 59], [4075, 22], [2919, 1178], [4027, 70], [4027, 70], [4097, 0]]\", fillcolor=\"#f4c9aa\"] ;\n",
            "108 -> 109 ;\n",
            "110 [label=\"samples = 2979, value = [[2979, 0], [2979, 0], [2979, 0], [2977, 2], [1401, 1578], [2920, 59], [2957, 22], [1801, 1178], [2909, 70], [2909, 70], [2979, 0]]\", fillcolor=\"#f6d5bc\"] ;\n",
            "109 -> 110 ;\n",
            "111 [label=\"samples = 1118, value = [[1118, 0], [1118, 0], [1118, 0], [1118, 0], [0, 1118], [1118, 0], [1118, 0], [1118, 0], [1118, 0], [1118, 0], [1118, 0]]\", fillcolor=\"#e58139\"] ;\n",
            "109 -> 111 ;\n",
            "112 [label=\"O9 <= 0.5, samples = 511, value = [[511, 0], [511, 0], [511, 0], [511, 0], [491, 20], [23, 488], [511, 0], [508, 3], [511, 0], [511, 0], [511, 0]]\", fillcolor=\"#e88e4d\"] ;\n",
            "108 -> 112 ;\n",
            "113 [label=\"samples = 495, value = [[495, 0], [495, 0], [495, 0], [495, 0], [491, 4], [7, 488], [495, 0], [492, 3], [495, 0], [495, 0], [495, 0]]\", fillcolor=\"#e68540\"] ;\n",
            "112 -> 113 ;\n",
            "114 [label=\"samples = 16, value = [[16, 0], [16, 0], [16, 0], [16, 0], [0, 16], [16, 0], [16, 0], [16, 0], [16, 0], [16, 0], [16, 0]]\", fillcolor=\"#e58139\"] ;\n",
            "112 -> 114 ;\n",
            "115 [label=\"O9 <= 0.5, samples = 880, value = [[880, 0], [880, 0], [880, 0], [880, 0], [783, 97], [114, 766], [877, 3], [872, 8], [878, 2], [876, 4], [880, 0]]\", fillcolor=\"#eca36f\"] ;\n",
            "107 -> 115 ;\n",
            "116 [label=\"O7 <= 0.5, samples = 818, value = [[818, 0], [818, 0], [818, 0], [818, 0], [783, 35], [52, 766], [815, 3], [810, 8], [816, 2], [814, 4], [818, 0]]\", fillcolor=\"#e99355\"] ;\n",
            "115 -> 116 ;\n",
            "117 [label=\"samples = 809, value = [[809, 0], [809, 0], [809, 0], [809, 0], [783, 26], [43, 766], [806, 3], [801, 8], [807, 2], [805, 4], [809, 0]]\", fillcolor=\"#e89051\"] ;\n",
            "116 -> 117 ;\n",
            "118 [label=\"samples = 9, value = [[9, 0], [9, 0], [9, 0], [9, 0], [0, 9], [9, 0], [9, 0], [9, 0], [9, 0], [9, 0], [9, 0]]\", fillcolor=\"#e58139\"] ;\n",
            "116 -> 118 ;\n",
            "119 [label=\"samples = 62, value = [[62, 0], [62, 0], [62, 0], [62, 0], [0, 62], [62, 0], [62, 0], [62, 0], [62, 0], [62, 0], [62, 0]]\", fillcolor=\"#e58139\"] ;\n",
            "115 -> 119 ;\n",
            "120 [label=\"samples = 1824, value = [[1824, 0], [1824, 0], [1824, 0], [1824, 0], [1824, 0], [1824, 0], [0, 1824], [1824, 0], [1824, 0], [1824, 0], [1824, 0]]\", fillcolor=\"#e58139\"] ;\n",
            "96 -> 120 ;\n",
            "121 [label=\"maxallwfar <= 0.25, samples = 7719, value = [[7718, 1], [7719, 0], [7696, 23], [7718, 1], [6957, 762], [7380, 339], [7453, 266], [1847, 5872], [7383, 336], [7600, 119], [7719, 0]]\", fillcolor=\"#f1bd98\"] ;\n",
            "95 -> 121 ;\n",
            "122 [label=\"housing_units <= 1431.5, samples = 194, value = [[194, 0], [194, 0], [194, 0], [194, 0], [193, 1], [194, 0], [194, 0], [188, 6], [7, 187], [194, 0], [194, 0]]\", fillcolor=\"#e78b49\"] ;\n",
            "121 -> 122 ;\n",
            "123 [label=\"P5 <= 0.5, samples = 190, value = [[190, 0], [190, 0], [190, 0], [190, 0], [189, 1], [190, 0], [190, 0], [187, 3], [4, 186], [190, 0], [190, 0]]\", fillcolor=\"#e68743\"] ;\n",
            "122 -> 123 ;\n",
            "124 [label=\"otherarea <= 18126000.0, samples = 188, value = [[188, 0], [188, 0], [188, 0], [188, 0], [187, 1], [188, 0], [188, 0], [187, 1], [2, 186], [188, 0], [188, 0]]\", fillcolor=\"#e6843e\"] ;\n",
            "123 -> 124 ;\n",
            "125 [label=\"K9 <= 0.5, samples = 187, value = [[187, 0], [187, 0], [187, 0], [187, 0], [186, 1], [187, 0], [187, 0], [187, 0], [1, 186], [187, 0], [187, 0]]\", fillcolor=\"#e5833b\"] ;\n",
            "124 -> 125 ;\n",
            "126 [label=\"samples = 186, value = [[186, 0], [186, 0], [186, 0], [186, 0], [186, 0], [186, 0], [186, 0], [186, 0], [0, 186], [186, 0], [186, 0]]\", fillcolor=\"#e58139\"] ;\n",
            "125 -> 126 ;\n",
            "127 [label=\"samples = 1, value = [[1, 0], [1, 0], [1, 0], [1, 0], [0, 1], [1, 0], [1, 0], [1, 0], [1, 0], [1, 0], [1, 0]]\", fillcolor=\"#e58139\"] ;\n",
            "125 -> 127 ;\n",
            "128 [label=\"samples = 1, value = [[1, 0], [1, 0], [1, 0], [1, 0], [1, 0], [1, 0], [1, 0], [0, 1], [1, 0], [1, 0], [1, 0]]\", fillcolor=\"#e58139\"] ;\n",
            "124 -> 128 ;\n",
            "129 [label=\"samples = 2, value = [[2, 0], [2, 0], [2, 0], [2, 0], [2, 0], [2, 0], [2, 0], [0, 2], [2, 0], [2, 0], [2, 0]]\", fillcolor=\"#e58139\"] ;\n",
            "123 -> 129 ;\n",
            "130 [label=\"Q1 <= 0.5, samples = 4, value = [[4, 0], [4, 0], [4, 0], [4, 0], [4, 0], [4, 0], [4, 0], [1, 3], [3, 1], [4, 0], [4, 0]]\", fillcolor=\"#f1b991\"] ;\n",
            "122 -> 130 ;\n",
            "131 [label=\"samples = 3, value = [[3, 0], [3, 0], [3, 0], [3, 0], [3, 0], [3, 0], [3, 0], [0, 3], [3, 0], [3, 0], [3, 0]]\", fillcolor=\"#e58139\"] ;\n",
            "130 -> 131 ;\n",
            "132 [label=\"samples = 1, value = [[1, 0], [1, 0], [1, 0], [1, 0], [1, 0], [1, 0], [1, 0], [1, 0], [0, 1], [1, 0], [1, 0]]\", fillcolor=\"#e58139\"] ;\n",
            "130 -> 132 ;\n",
            "133 [label=\"officearea <= 41.5, samples = 7525, value = [[7524, 1], [7525, 0], [7502, 23], [7524, 1], [6764, 761], [7186, 339], [7259, 266], [1659, 5866], [7376, 149], [7406, 119], [7525, 0]]\", fillcolor=\"#f1b991\"] ;\n",
            "121 -> 133 ;\n",
            "134 [label=\"H9 <= 0.5, samples = 6952, value = [[6951, 1], [6952, 0], [6930, 22], [6951, 1], [6423, 529], [6728, 224], [6728, 224], [1244, 5708], [6813, 139], [6848, 104], [6952, 0]]\", fillcolor=\"#efb083\"] ;\n",
            "133 -> 134 ;\n",
            "135 [label=\"G9 <= 0.5, samples = 6831, value = [[6830, 1], [6831, 0], [6809, 22], [6830, 1], [6423, 408], [6607, 224], [6607, 224], [1123, 5708], [6692, 139], [6727, 104], [6831, 0]]\", fillcolor=\"#eead7e\"] ;\n",
            "134 -> 135 ;\n",
            "136 [label=\"E9 <= 0.5, samples = 6724, value = [[6723, 1], [6724, 0], [6702, 22], [6723, 1], [6316, 408], [6500, 224], [6607, 117], [1016, 5708], [6585, 139], [6620, 104], [6724, 0]]\", fillcolor=\"#edaa79\"] ;\n",
            "135 -> 136 ;\n",
            "137 [label=\"samples = 6625, value = [[6624, 1], [6625, 0], [6603, 22], [6624, 1], [6217, 408], [6500, 125], [6508, 117], [917, 5708], [6486, 139], [6521, 104], [6625, 0]]\", fillcolor=\"#eda774\"] ;\n",
            "136 -> 137 ;\n",
            "138 [label=\"samples = 99, value = [[99, 0], [99, 0], [99, 0], [99, 0], [99, 0], [0, 99], [99, 0], [99, 0], [99, 0], [99, 0], [99, 0]]\", fillcolor=\"#e58139\"] ;\n",
            "136 -> 138 ;\n",
            "139 [label=\"samples = 107, value = [[107, 0], [107, 0], [107, 0], [107, 0], [107, 0], [107, 0], [0, 107], [107, 0], [107, 0], [107, 0], [107, 0]]\", fillcolor=\"#e58139\"] ;\n",
            "135 -> 139 ;\n",
            "140 [label=\"samples = 121, value = [[121, 0], [121, 0], [121, 0], [121, 0], [0, 121], [121, 0], [121, 0], [121, 0], [121, 0], [121, 0], [121, 0]]\", fillcolor=\"#e58139\"] ;\n",
            "134 -> 140 ;\n",
            "141 [label=\"O9 <= 0.5, samples = 573, value = [[573, 0], [573, 0], [572, 1], [573, 0], [341, 232], [458, 115], [531, 42], [415, 158], [563, 10], [558, 15], [573, 0]]\", fillcolor=\"#fbebe0\"] ;\n",
            "133 -> 141 ;\n",
            "142 [label=\"E9 <= 0.5, samples = 477, value = [[477, 0], [477, 0], [476, 1], [477, 0], [341, 136], [362, 115], [435, 42], [319, 158], [467, 10], [462, 15], [477, 0]]\", fillcolor=\"#fcefe6\"] ;\n",
            "141 -> 142 ;\n",
            "143 [label=\"G9 <= 0.5, samples = 433, value = [[433, 0], [433, 0], [432, 1], [433, 0], [297, 136], [362, 71], [391, 42], [275, 158], [423, 10], [418, 15], [433, 0]]\", fillcolor=\"#fbeee4\"] ;\n",
            "142 -> 143 ;\n",
            "144 [label=\"samples = 406, value = [[406, 0], [406, 0], [405, 1], [406, 0], [270, 136], [335, 71], [391, 15], [248, 158], [396, 10], [391, 15], [406, 0]]\", fillcolor=\"#fbe9dd\"] ;\n",
            "143 -> 144 ;\n",
            "145 [label=\"samples = 27, value = [[27, 0], [27, 0], [27, 0], [27, 0], [27, 0], [27, 0], [0, 27], [27, 0], [27, 0], [27, 0], [27, 0]]\", fillcolor=\"#e58139\"] ;\n",
            "143 -> 145 ;\n",
            "146 [label=\"samples = 44, value = [[44, 0], [44, 0], [44, 0], [44, 0], [44, 0], [0, 44], [44, 0], [44, 0], [44, 0], [44, 0], [44, 0]]\", fillcolor=\"#e58139\"] ;\n",
            "142 -> 146 ;\n",
            "147 [label=\"samples = 96, value = [[96, 0], [96, 0], [96, 0], [96, 0], [0, 96], [96, 0], [96, 0], [96, 0], [96, 0], [96, 0], [96, 0]]\", fillcolor=\"#e58139\"] ;\n",
            "141 -> 147 ;\n",
            "148 [label=\"L8 <= 0.5, samples = 13654, value = [[13654, 0], [13653, 1], [13648, 6], [13637, 17], [1586, 12068], [12805, 849], [13364, 290], [13362, 292], [13604, 50], [13574, 80], [13653, 1]]\", fillcolor=\"#eca16b\"] ;\n",
            "94 -> 148 ;\n",
            "149 [label=\"strgearea <= 14404.0, samples = 13323, value = [[13323, 0], [13322, 1], [13317, 6], [13306, 17], [1255, 12068], [12805, 518], [13033, 290], [13031, 292], [13273, 50], [13243, 80], [13322, 1]]\", fillcolor=\"#ea9b62\"] ;\n",
            "148 -> 149 ;\n",
            "150 [label=\"G9 <= 0.5, samples = 13096, value = [[13096, 0], [13095, 1], [13090, 6], [13079, 17], [1076, 12020], [12755, 341], [12806, 290], [12806, 290], [13046, 50], [13016, 80], [13095, 1]]\", fillcolor=\"#ea985d\"] ;\n",
            "149 -> 150 ;\n",
            "151 [label=\"E9 <= 0.5, samples = 12970, value = [[12970, 0], [12969, 1], [12964, 6], [12953, 17], [950, 12020], [12629, 341], [12806, 164], [12680, 290], [12920, 50], [12890, 80], [12969, 1]]\", fillcolor=\"#e9965a\"] ;\n",
            "150 -> 151 ;\n",
            "152 [label=\"G5 <= 0.5, samples = 12861, value = [[12861, 0], [12860, 1], [12855, 6], [12844, 17], [841, 12020], [12629, 232], [12697, 164], [12571, 290], [12811, 50], [12781, 80], [12860, 1]]\", fillcolor=\"#e99456\"] ;\n",
            "151 -> 152 ;\n",
            "153 [label=\"M1 <= 0.5, samples = 12772, value = [[12772, 0], [12771, 1], [12766, 6], [12755, 17], [752, 12020], [12540, 232], [12697, 75], [12482, 290], [12722, 50], [12692, 80], [12771, 1]]\", fillcolor=\"#e89253\"] ;\n",
            "152 -> 153 ;\n",
            "154 [label=\"samples = 12700, value = [[12700, 0], [12699, 1], [12694, 6], [12683, 17], [680, 12020], [12468, 232], [12625, 75], [12482, 218], [12650, 50], [12620, 80], [12699, 1]]\", fillcolor=\"#e89051\"] ;\n",
            "153 -> 154 ;\n",
            "155 [label=\"samples = 72, value = [[72, 0], [72, 0], [72, 0], [72, 0], [72, 0], [72, 0], [72, 0], [0, 72], [72, 0], [72, 0], [72, 0]]\", fillcolor=\"#e58139\"] ;\n",
            "153 -> 155 ;\n",
            "156 [label=\"samples = 89, value = [[89, 0], [89, 0], [89, 0], [89, 0], [89, 0], [89, 0], [0, 89], [89, 0], [89, 0], [89, 0], [89, 0]]\", fillcolor=\"#e58139\"] ;\n",
            "152 -> 156 ;\n",
            "157 [label=\"samples = 109, value = [[109, 0], [109, 0], [109, 0], [109, 0], [109, 0], [0, 109], [109, 0], [109, 0], [109, 0], [109, 0], [109, 0]]\", fillcolor=\"#e58139\"] ;\n",
            "151 -> 157 ;\n",
            "158 [label=\"samples = 126, value = [[126, 0], [126, 0], [126, 0], [126, 0], [126, 0], [126, 0], [0, 126], [126, 0], [126, 0], [126, 0], [126, 0]]\", fillcolor=\"#e58139\"] ;\n",
            "150 -> 158 ;\n",
            "159 [label=\"K9 <= 0.5, samples = 227, value = [[227, 0], [227, 0], [227, 0], [227, 0], [179, 48], [50, 177], [227, 0], [225, 2], [227, 0], [227, 0], [227, 0]]\", fillcolor=\"#f0b58a\"] ;\n",
            "149 -> 159 ;\n",
            "160 [label=\"O9 <= 0.5, samples = 205, value = [[205, 0], [205, 0], [205, 0], [205, 0], [179, 26], [28, 177], [205, 0], [203, 2], [205, 0], [205, 0], [205, 0]]\", fillcolor=\"#eca471\"] ;\n",
            "159 -> 160 ;\n",
            "161 [label=\"officearea <= 202109.5, samples = 192, value = [[192, 0], [192, 0], [192, 0], [192, 0], [179, 13], [15, 177], [192, 0], [190, 2], [192, 0], [192, 0], [192, 0]]\", fillcolor=\"#e9975b\"] ;\n",
            "160 -> 161 ;\n",
            "162 [label=\"yearbuilt <= 1972.0, samples = 185, value = [[185, 0], [185, 0], [185, 0], [185, 0], [179, 6], [8, 177], [185, 0], [183, 2], [185, 0], [185, 0], [185, 0]]\", fillcolor=\"#e88d4d\"] ;\n",
            "161 -> 162 ;\n",
            "163 [label=\"samples = 182, value = [[182, 0], [182, 0], [182, 0], [182, 0], [177, 5], [5, 177], [182, 0], [182, 0], [182, 0], [182, 0], [182, 0]]\", fillcolor=\"#e78945\"] ;\n",
            "162 -> 163 ;\n",
            "164 [label=\"samples = 3, value = [[3, 0], [3, 0], [3, 0], [3, 0], [2, 1], [3, 0], [3, 0], [1, 2], [3, 0], [3, 0], [3, 0]]\", fillcolor=\"#f3c3a1\"] ;\n",
            "162 -> 164 ;\n",
            "165 [label=\"samples = 7, value = [[7, 0], [7, 0], [7, 0], [7, 0], [0, 7], [7, 0], [7, 0], [7, 0], [7, 0], [7, 0], [7, 0]]\", fillcolor=\"#e58139\"] ;\n",
            "161 -> 165 ;\n",
            "166 [label=\"samples = 13, value = [[13, 0], [13, 0], [13, 0], [13, 0], [0, 13], [13, 0], [13, 0], [13, 0], [13, 0], [13, 0], [13, 0]]\", fillcolor=\"#e58139\"] ;\n",
            "160 -> 166 ;\n",
            "167 [label=\"samples = 22, value = [[22, 0], [22, 0], [22, 0], [22, 0], [0, 22], [22, 0], [22, 0], [22, 0], [22, 0], [22, 0], [22, 0]]\", fillcolor=\"#e58139\"] ;\n",
            "159 -> 167 ;\n",
            "168 [label=\"samples = 331, value = [[331, 0], [331, 0], [331, 0], [331, 0], [331, 0], [0, 331], [331, 0], [331, 0], [331, 0], [331, 0], [331, 0]]\", fillcolor=\"#e58139\"] ;\n",
            "148 -> 168 ;\n",
            "169 [label=\"assesstot <= 64759.0, samples = 19304, value = [[19274, 30], [19279, 25], [19236, 68], [1775, 17529], [18295, 1009], [19055, 249], [19214, 90], [19019, 285], [19296, 8], [19294, 10], [19303, 1]]\", fillcolor=\"#ea9b61\"] ;\n",
            "93 -> 169 ;\n",
            "170 [label=\"O8 <= 0.5, samples = 15103, value = [[15075, 28], [15098, 5], [15103, 0], [103, 15000], [15073, 30], [15086, 17], [15098, 5], [15085, 18], [15103, 0], [15103, 0], [15103, 0]]\", fillcolor=\"#e5833c\"] ;\n",
            "169 -> 170 ;\n",
            "171 [label=\"F9 <= 0.5, samples = 15082, value = [[15054, 28], [15077, 5], [15082, 0], [82, 15000], [15073, 9], [15065, 17], [15077, 5], [15064, 18], [15082, 0], [15082, 0], [15082, 0]]\", fillcolor=\"#e5833c\"] ;\n",
            "170 -> 171 ;\n",
            "172 [label=\"A1 <= 0.5, samples = 15073, value = [[15045, 28], [15068, 5], [15073, 0], [73, 15000], [15064, 9], [15065, 8], [15068, 5], [15055, 18], [15073, 0], [15073, 0], [15073, 0]]\", fillcolor=\"#e5823b\"] ;\n",
            "171 -> 172 ;\n",
            "173 [label=\"M1 <= 0.5, samples = 15064, value = [[15045, 19], [15059, 5], [15064, 0], [64, 15000], [15055, 9], [15056, 8], [15059, 5], [15046, 18], [15064, 0], [15064, 0], [15064, 0]]\", fillcolor=\"#e5823b\"] ;\n",
            "172 -> 173 ;\n",
            "174 [label=\"M9 <= 0.5, samples = 15057, value = [[15038, 19], [15052, 5], [15057, 0], [57, 15000], [15048, 9], [15049, 8], [15052, 5], [15046, 11], [15057, 0], [15057, 0], [15057, 0]]\", fillcolor=\"#e5823b\"] ;\n",
            "173 -> 174 ;\n",
            "175 [label=\"E9 <= 0.5, samples = 15050, value = [[15031, 19], [15045, 5], [15050, 0], [50, 15000], [15041, 9], [15042, 8], [15045, 5], [15046, 4], [15050, 0], [15050, 0], [15050, 0]]\", fillcolor=\"#e5823b\"] ;\n",
            "174 -> 175 ;\n",
            "176 [label=\"samples = 15044, value = [[15025, 19], [15039, 5], [15044, 0], [44, 15000], [15035, 9], [15042, 2], [15039, 5], [15040, 4], [15044, 0], [15044, 0], [15044, 0]]\", fillcolor=\"#e5823a\"] ;\n",
            "175 -> 176 ;\n",
            "177 [label=\"samples = 6, value = [[6, 0], [6, 0], [6, 0], [6, 0], [6, 0], [0, 6], [6, 0], [6, 0], [6, 0], [6, 0], [6, 0]]\", fillcolor=\"#e58139\"] ;\n",
            "175 -> 177 ;\n",
            "178 [label=\"samples = 7, value = [[7, 0], [7, 0], [7, 0], [7, 0], [7, 0], [7, 0], [7, 0], [0, 7], [7, 0], [7, 0], [7, 0]]\", fillcolor=\"#e58139\"] ;\n",
            "174 -> 178 ;\n",
            "179 [label=\"samples = 7, value = [[7, 0], [7, 0], [7, 0], [7, 0], [7, 0], [7, 0], [7, 0], [0, 7], [7, 0], [7, 0], [7, 0]]\", fillcolor=\"#e58139\"] ;\n",
            "173 -> 179 ;\n",
            "180 [label=\"samples = 9, value = [[0, 9], [9, 0], [9, 0], [9, 0], [9, 0], [9, 0], [9, 0], [9, 0], [9, 0], [9, 0], [9, 0]]\", fillcolor=\"#e58139\"] ;\n",
            "172 -> 180 ;\n",
            "181 [label=\"samples = 9, value = [[9, 0], [9, 0], [9, 0], [9, 0], [9, 0], [0, 9], [9, 0], [9, 0], [9, 0], [9, 0], [9, 0]]\", fillcolor=\"#e58139\"] ;\n",
            "171 -> 181 ;\n",
            "182 [label=\"samples = 21, value = [[21, 0], [21, 0], [21, 0], [21, 0], [0, 21], [21, 0], [21, 0], [21, 0], [21, 0], [21, 0], [21, 0]]\", fillcolor=\"#e58139\"] ;\n",
            "170 -> 182 ;\n",
            "183 [label=\"K4 <= 0.5, samples = 4201, value = [[4199, 2], [4181, 20], [4133, 68], [1672, 2529], [3222, 979], [3969, 232], [4116, 85], [3934, 267], [4193, 8], [4191, 10], [4200, 1]]\", fillcolor=\"#f7d7c0\"] ;\n",
            "169 -> 183 ;\n",
            "184 [label=\"resarea <= 1453.0, samples = 2775, value = [[2773, 2], [2755, 20], [2707, 68], [1672, 1103], [1796, 979], [2543, 232], [2690, 85], [2508, 267], [2767, 8], [2765, 10], [2774, 1]]\", fillcolor=\"#fae9dd\"] ;\n",
            "183 -> 184 ;\n",
            "185 [label=\"officearea <= 325.0, samples = 920, value = [[920, 0], [920, 0], [920, 0], [849, 71], [300, 620], [826, 94], [876, 44], [832, 88], [919, 1], [918, 2], [920, 0]]\", fillcolor=\"#f5ceb2\"] ;\n",
            "184 -> 185 ;\n",
            "186 [label=\"K9 <= 0.5, samples = 402, value = [[402, 0], [402, 0], [402, 0], [339, 63], [251, 151], [331, 71], [362, 40], [328, 74], [401, 1], [400, 2], [402, 0]]\", fillcolor=\"#fcf2ea\"] ;\n",
            "185 -> 186 ;\n",
            "187 [label=\"otherarea <= 1139.0, samples = 310, value = [[310, 0], [310, 0], [310, 0], [247, 63], [251, 59], [239, 71], [270, 40], [236, 74], [309, 1], [308, 2], [310, 0]]\", fillcolor=\"#fdf7f3\"] ;\n",
            "186 -> 187 ;\n",
            "188 [label=\"G9 <= 0.5, samples = 235, value = [[235, 0], [235, 0], [235, 0], [173, 62], [183, 52], [165, 70], [196, 39], [225, 10], [235, 0], [233, 2], [235, 0]]\", fillcolor=\"#fcf3eb\"] ;\n",
            "187 -> 188 ;\n",
            "189 [label=\"samples = 197, value = [[197, 0], [197, 0], [197, 0], [135, 62], [145, 52], [127, 70], [196, 1], [187, 10], [197, 0], [195, 2], [197, 0]]\", fillcolor=\"#fbe9dd\"] ;\n",
            "188 -> 189 ;\n",
            "190 [label=\"samples = 38, value = [[38, 0], [38, 0], [38, 0], [38, 0], [38, 0], [38, 0], [0, 38], [38, 0], [38, 0], [38, 0], [38, 0]]\", fillcolor=\"#e58139\"] ;\n",
            "188 -> 190 ;\n",
            "191 [label=\"K7 <= 0.5, samples = 75, value = [[75, 0], [75, 0], [75, 0], [74, 1], [68, 7], [74, 1], [74, 1], [11, 64], [74, 1], [75, 0], [75, 0]]\", fillcolor=\"#eda876\"] ;\n",
            "187 -> 191 ;\n",
            "192 [label=\"samples = 69, value = [[69, 0], [69, 0], [69, 0], [68, 1], [68, 1], [68, 1], [68, 1], [5, 64], [68, 1], [69, 0], [69, 0]]\", fillcolor=\"#e99659\"] ;\n",
            "191 -> 192 ;\n",
            "193 [label=\"samples = 6, value = [[6, 0], [6, 0], [6, 0], [6, 0], [0, 6], [6, 0], [6, 0], [6, 0], [6, 0], [6, 0], [6, 0]]\", fillcolor=\"#e58139\"] ;\n",
            "191 -> 193 ;\n",
            "194 [label=\"samples = 92, value = [[92, 0], [92, 0], [92, 0], [92, 0], [0, 92], [92, 0], [92, 0], [92, 0], [92, 0], [92, 0], [92, 0]]\", fillcolor=\"#e58139\"] ;\n",
            "186 -> 194 ;\n",
            "195 [label=\"strgearea <= 1888.0, samples = 518, value = [[518, 0], [518, 0], [518, 0], [510, 8], [49, 469], [495, 23], [514, 4], [504, 14], [518, 0], [518, 0], [518, 0]]\", fillcolor=\"#ea9b62\"] ;\n",
            "185 -> 195 ;\n",
            "196 [label=\"S9 <= 0.5, samples = 501, value = [[501, 0], [501, 0], [501, 0], [493, 8], [33, 468], [494, 7], [497, 4], [487, 14], [501, 0], [501, 0], [501, 0]]\", fillcolor=\"#e99456\"] ;\n",
            "195 -> 196 ;\n",
            "197 [label=\"G9 <= 0.5, samples = 495, value = [[495, 0], [495, 0], [495, 0], [493, 2], [27, 468], [488, 7], [491, 4], [481, 14], [495, 0], [495, 0], [495, 0]]\", fillcolor=\"#e89152\"] ;\n",
            "196 -> 197 ;\n",
            "198 [label=\"samples = 491, value = [[491, 0], [491, 0], [491, 0], [489, 2], [23, 468], [484, 7], [491, 0], [477, 14], [491, 0], [491, 0], [491, 0]]\", fillcolor=\"#e88e4e\"] ;\n",
            "197 -> 198 ;\n",
            "199 [label=\"samples = 4, value = [[4, 0], [4, 0], [4, 0], [4, 0], [4, 0], [4, 0], [0, 4], [4, 0], [4, 0], [4, 0], [4, 0]]\", fillcolor=\"#e58139\"] ;\n",
            "197 -> 199 ;\n",
            "200 [label=\"samples = 6, value = [[6, 0], [6, 0], [6, 0], [0, 6], [6, 0], [6, 0], [6, 0], [6, 0], [6, 0], [6, 0], [6, 0]]\", fillcolor=\"#e58139\"] ;\n",
            "196 -> 200 ;\n",
            "201 [label=\"built_green <= 0.485, samples = 17, value = [[17, 0], [17, 0], [17, 0], [17, 0], [16, 1], [1, 16], [17, 0], [17, 0], [17, 0], [17, 0], [17, 0]]\", fillcolor=\"#e89153\"] ;\n",
            "195 -> 201 ;\n",
            "202 [label=\"samples = 16, value = [[16, 0], [16, 0], [16, 0], [16, 0], [16, 0], [0, 16], [16, 0], [16, 0], [16, 0], [16, 0], [16, 0]]\", fillcolor=\"#e58139\"] ;\n",
            "201 -> 202 ;\n",
            "203 [label=\"samples = 1, value = [[1, 0], [1, 0], [1, 0], [1, 0], [0, 1], [1, 0], [1, 0], [1, 0], [1, 0], [1, 0], [1, 0]]\", fillcolor=\"#e58139\"] ;\n",
            "201 -> 203 ;\n",
            "204 [label=\"K9 <= 0.5, samples = 1855, value = [[1853, 2], [1835, 20], [1787, 68], [823, 1032], [1496, 359], [1717, 138], [1814, 41], [1676, 179], [1848, 7], [1847, 8], [1854, 1]]\", fillcolor=\"#f9e0ce\"] ;\n",
            "184 -> 204 ;\n",
            "205 [label=\"comarea <= 3000.5, samples = 1693, value = [[1691, 2], [1673, 20], [1625, 68], [661, 1032], [1496, 197], [1555, 138], [1652, 41], [1514, 179], [1686, 7], [1685, 8], [1692, 1]]\", fillcolor=\"#f7d9c4\"] ;\n",
            "204 -> 205 ;\n",
            "206 [label=\"O8 <= 0.5, samples = 1082, value = [[1080, 2], [1064, 18], [1060, 22], [219, 863], [1018, 64], [1037, 45], [1065, 17], [1033, 49], [1082, 0], [1081, 1], [1081, 1]]\", fillcolor=\"#f0b68c\"] ;\n",
            "205 -> 206 ;\n",
            "207 [label=\"retailarea <= 150.0, samples = 1044, value = [[1042, 2], [1026, 18], [1022, 22], [181, 863], [1018, 26], [999, 45], [1027, 17], [995, 49], [1044, 0], [1043, 1], [1043, 1]]\", fillcolor=\"#efaf82\"] ;\n",
            "206 -> 207 ;\n",
            "208 [label=\"samples = 329, value = [[328, 1], [325, 4], [314, 15], [132, 197], [314, 15], [293, 36], [312, 17], [286, 43], [329, 0], [328, 1], [329, 0]]\", fillcolor=\"#f8dbc6\"] ;\n",
            "207 -> 208 ;\n",
            "209 [label=\"samples = 715, value = [[714, 1], [701, 14], [708, 7], [49, 666], [704, 11], [706, 9], [715, 0], [709, 6], [715, 0], [715, 0], [714, 1]]\", fillcolor=\"#e99558\"] ;\n",
            "207 -> 209 ;\n",
            "210 [label=\"samples = 38, value = [[38, 0], [38, 0], [38, 0], [38, 0], [0, 38], [38, 0], [38, 0], [38, 0], [38, 0], [38, 0], [38, 0]]\", fillcolor=\"#e58139\"] ;\n",
            "206 -> 210 ;\n",
            "211 [label=\"RM <= 0.5, samples = 611, value = [[611, 0], [609, 2], [565, 46], [442, 169], [478, 133], [518, 93], [587, 24], [481, 130], [604, 7], [604, 7], [611, 0]]\", fillcolor=\"#fef8f4\"] ;\n",
            "205 -> 211 ;\n",
            "212 [label=\"otherarea <= 1705.0, samples = 542, value = [[542, 0], [540, 2], [496, 46], [442, 100], [409, 133], [449, 93], [518, 24], [412, 130], [535, 7], [535, 7], [542, 0]]\", fillcolor=\"#fef9f6\"] ;\n",
            "211 -> 212 ;\n",
            "213 [label=\"samples = 382, value = [[382, 0], [380, 2], [342, 40], [300, 82], [266, 116], [295, 87], [361, 21], [355, 27], [380, 2], [377, 5], [382, 0]]\", fillcolor=\"#fdf7f2\"] ;\n",
            "212 -> 213 ;\n",
            "214 [label=\"samples = 160, value = [[160, 0], [160, 0], [154, 6], [142, 18], [143, 17], [154, 6], [157, 3], [57, 103], [155, 5], [158, 2], [160, 0]]\", fillcolor=\"#f6d4bb\"] ;\n",
            "212 -> 214 ;\n",
            "215 [label=\"samples = 69, value = [[69, 0], [69, 0], [69, 0], [0, 69], [69, 0], [69, 0], [69, 0], [69, 0], [69, 0], [69, 0], [69, 0]]\", fillcolor=\"#e58139\"] ;\n",
            "211 -> 215 ;\n",
            "216 [label=\"samples = 162, value = [[162, 0], [162, 0], [162, 0], [162, 0], [0, 162], [162, 0], [162, 0], [162, 0], [162, 0], [162, 0], [162, 0]]\", fillcolor=\"#e58139\"] ;\n",
            "204 -> 216 ;\n",
            "217 [label=\"samples = 1426, value = [[1426, 0], [1426, 0], [1426, 0], [0, 1426], [1426, 0], [1426, 0], [1426, 0], [1426, 0], [1426, 0], [1426, 0], [1426, 0]]\", fillcolor=\"#e58139\"] ;\n",
            "183 -> 217 ;\n",
            "218 [label=\"comarea <= 223.0, samples = 116556, value = [[116533, 23], [25083, 91473], [108606, 7950], [100149, 16407], [116294, 262], [116394, 162], [116549, 7], [116290, 266], [116554, 2], [116552, 4], [116556, 0]]\", fillcolor=\"#f0b68d\"] ;\n",
            "0 -> 218 [labeldistance=2.5, labelangle=-45, headlabel=\"False\"] ;\n",
            "219 [label=\"numfloors <= 5.625, samples = 96547, value = [[96524, 23], [6447, 90100], [90316, 6231], [96417, 130], [96540, 7], [96547, 0], [96547, 0], [96492, 55], [96547, 0], [96546, 1], [96547, 0]]\", fillcolor=\"#e99456\"] ;\n",
            "218 -> 219 ;\n",
            "220 [label=\"D1 <= 0.5, samples = 90272, value = [[90249, 23], [1039, 89233], [89378, 894], [90186, 86], [90266, 6], [90272, 0], [90272, 0], [90242, 30], [90272, 0], [90272, 0], [90272, 0]]\", fillcolor=\"#e6843e\"] ;\n",
            "219 -> 220 ;\n",
            "221 [label=\"D9 <= 0.5, samples = 89942, value = [[89919, 23], [709, 89233], [89378, 564], [89856, 86], [89936, 6], [89942, 0], [89942, 0], [89912, 30], [89942, 0], [89942, 0], [89942, 0]]\", fillcolor=\"#e5833d\"] ;\n",
            "220 -> 221 ;\n",
            "222 [label=\"D4 <= 0.5, samples = 89732, value = [[89709, 23], [499, 89233], [89378, 354], [89646, 86], [89726, 6], [89732, 0], [89732, 0], [89702, 30], [89732, 0], [89732, 0], [89732, 0]]\", fillcolor=\"#e5833c\"] ;\n",
            "221 -> 222 ;\n",
            "223 [label=\"R4 <= 0.5, samples = 89590, value = [[89567, 23], [357, 89233], [89378, 212], [89504, 86], [89584, 6], [89590, 0], [89590, 0], [89560, 30], [89590, 0], [89590, 0], [89590, 0]]\", fillcolor=\"#e5823b\"] ;\n",
            "222 -> 223 ;\n",
            "224 [label=\"D3 <= 0.5, samples = 89535, value = [[89512, 23], [302, 89233], [89378, 157], [89449, 86], [89529, 6], [89535, 0], [89535, 0], [89505, 30], [89535, 0], [89535, 0], [89535, 0]]\", fillcolor=\"#e5823b\"] ;\n",
            "223 -> 224 ;\n",
            "225 [label=\"D5 <= 0.5, samples = 89480, value = [[89457, 23], [247, 89233], [89378, 102], [89394, 86], [89474, 6], [89480, 0], [89480, 0], [89450, 30], [89480, 0], [89480, 0], [89480, 0]]\", fillcolor=\"#e5823a\"] ;\n",
            "224 -> 225 ;\n",
            "226 [label=\"C7 <= 0.5, samples = 89426, value = [[89403, 23], [193, 89233], [89378, 48], [89340, 86], [89420, 6], [89426, 0], [89426, 0], [89396, 30], [89426, 0], [89426, 0], [89426, 0]]\", fillcolor=\"#e5823a\"] ;\n",
            "225 -> 226 ;\n",
            "227 [label=\"samples = 89384, value = [[89361, 23], [151, 89233], [89336, 48], [89340, 44], [89378, 6], [89384, 0], [89384, 0], [89354, 30], [89384, 0], [89384, 0], [89384, 0]]\", fillcolor=\"#e5823a\"] ;\n",
            "226 -> 227 ;\n",
            "228 [label=\"samples = 42, value = [[42, 0], [42, 0], [42, 0], [0, 42], [42, 0], [42, 0], [42, 0], [42, 0], [42, 0], [42, 0], [42, 0]]\", fillcolor=\"#e58139\"] ;\n",
            "226 -> 228 ;\n",
            "229 [label=\"samples = 54, value = [[54, 0], [54, 0], [0, 54], [54, 0], [54, 0], [54, 0], [54, 0], [54, 0], [54, 0], [54, 0], [54, 0]]\", fillcolor=\"#e58139\"] ;\n",
            "225 -> 229 ;\n",
            "230 [label=\"samples = 55, value = [[55, 0], [55, 0], [0, 55], [55, 0], [55, 0], [55, 0], [55, 0], [55, 0], [55, 0], [55, 0], [55, 0]]\", fillcolor=\"#e58139\"] ;\n",
            "224 -> 230 ;\n",
            "231 [label=\"samples = 55, value = [[55, 0], [55, 0], [0, 55], [55, 0], [55, 0], [55, 0], [55, 0], [55, 0], [55, 0], [55, 0], [55, 0]]\", fillcolor=\"#e58139\"] ;\n",
            "223 -> 231 ;\n",
            "232 [label=\"samples = 142, value = [[142, 0], [142, 0], [0, 142], [142, 0], [142, 0], [142, 0], [142, 0], [142, 0], [142, 0], [142, 0], [142, 0]]\", fillcolor=\"#e58139\"] ;\n",
            "222 -> 232 ;\n",
            "233 [label=\"samples = 210, value = [[210, 0], [210, 0], [0, 210], [210, 0], [210, 0], [210, 0], [210, 0], [210, 0], [210, 0], [210, 0], [210, 0]]\", fillcolor=\"#e58139\"] ;\n",
            "221 -> 233 ;\n",
            "234 [label=\"samples = 330, value = [[330, 0], [330, 0], [0, 330], [330, 0], [330, 0], [330, 0], [330, 0], [330, 0], [330, 0], [330, 0], [330, 0]]\", fillcolor=\"#e58139\"] ;\n",
            "220 -> 234 ;\n",
            "235 [label=\"C1 <= 0.5, samples = 6275, value = [[6275, 0], [5408, 867], [938, 5337], [6231, 44], [6274, 1], [6275, 0], [6275, 0], [6250, 25], [6275, 0], [6274, 1], [6275, 0]]\", fillcolor=\"#eda775\"] ;\n",
            "219 -> 235 ;\n",
            "236 [label=\"C4 <= 0.5, samples = 5752, value = [[5752, 0], [5408, 344], [415, 5337], [5708, 44], [5751, 1], [5752, 0], [5752, 0], [5727, 25], [5752, 0], [5751, 1], [5752, 0]]\", fillcolor=\"#e99559\"] ;\n",
            "235 -> 236 ;\n",
            "237 [label=\"C6 <= 0.5, samples = 5631, value = [[5631, 0], [5408, 223], [294, 5337], [5587, 44], [5630, 1], [5631, 0], [5631, 0], [5606, 25], [5631, 0], [5630, 1], [5631, 0]]\", fillcolor=\"#e89050\"] ;\n",
            "236 -> 237 ;\n",
            "238 [label=\"R1 <= 0.5, samples = 5546, value = [[5546, 0], [5408, 138], [209, 5337], [5502, 44], [5545, 1], [5546, 0], [5546, 0], [5521, 25], [5546, 0], [5545, 1], [5546, 0]]\", fillcolor=\"#e78c4a\"] ;\n",
            "237 -> 238 ;\n",
            "239 [label=\"C5 <= 0.5, samples = 5478, value = [[5478, 0], [5408, 70], [141, 5337], [5434, 44], [5477, 1], [5478, 0], [5478, 0], [5453, 25], [5478, 0], [5477, 1], [5478, 0]]\", fillcolor=\"#e78945\"] ;\n",
            "238 -> 239 ;\n",
            "240 [label=\"RM <= 0.5, samples = 5449, value = [[5449, 0], [5408, 41], [112, 5337], [5405, 44], [5448, 1], [5449, 0], [5449, 0], [5424, 25], [5449, 0], [5448, 1], [5449, 0]]\", fillcolor=\"#e68742\"] ;\n",
            "239 -> 240 ;\n",
            "241 [label=\"unitsres <= 6.5, samples = 5427, value = [[5427, 0], [5386, 41], [90, 5337], [5405, 22], [5426, 1], [5427, 0], [5427, 0], [5402, 25], [5427, 0], [5426, 1], [5427, 0]]\", fillcolor=\"#e68641\"] ;\n",
            "240 -> 241 ;\n",
            "242 [label=\"samples = 56, value = [[56, 0], [24, 32], [35, 21], [55, 1], [56, 0], [56, 0], [56, 0], [54, 2], [56, 0], [56, 0], [56, 0]]\", fillcolor=\"#f5d0b5\"] ;\n",
            "241 -> 242 ;\n",
            "243 [label=\"samples = 5371, value = [[5371, 0], [5362, 9], [55, 5316], [5350, 21], [5370, 1], [5371, 0], [5371, 0], [5348, 23], [5371, 0], [5370, 1], [5371, 0]]\", fillcolor=\"#e6843e\"] ;\n",
            "241 -> 243 ;\n",
            "244 [label=\"samples = 22, value = [[22, 0], [22, 0], [22, 0], [0, 22], [22, 0], [22, 0], [22, 0], [22, 0], [22, 0], [22, 0], [22, 0]]\", fillcolor=\"#e58139\"] ;\n",
            "240 -> 244 ;\n",
            "245 [label=\"samples = 29, value = [[29, 0], [0, 29], [29, 0], [29, 0], [29, 0], [29, 0], [29, 0], [29, 0], [29, 0], [29, 0], [29, 0]]\", fillcolor=\"#e58139\"] ;\n",
            "239 -> 245 ;\n",
            "246 [label=\"samples = 68, value = [[68, 0], [0, 68], [68, 0], [68, 0], [68, 0], [68, 0], [68, 0], [68, 0], [68, 0], [68, 0], [68, 0]]\", fillcolor=\"#e58139\"] ;\n",
            "238 -> 246 ;\n",
            "247 [label=\"samples = 85, value = [[85, 0], [0, 85], [85, 0], [85, 0], [85, 0], [85, 0], [85, 0], [85, 0], [85, 0], [85, 0], [85, 0]]\", fillcolor=\"#e58139\"] ;\n",
            "237 -> 247 ;\n",
            "248 [label=\"samples = 121, value = [[121, 0], [0, 121], [121, 0], [121, 0], [121, 0], [121, 0], [121, 0], [121, 0], [121, 0], [121, 0], [121, 0]]\", fillcolor=\"#e58139\"] ;\n",
            "236 -> 248 ;\n",
            "249 [label=\"samples = 523, value = [[523, 0], [0, 523], [523, 0], [523, 0], [523, 0], [523, 0], [523, 0], [523, 0], [523, 0], [523, 0], [523, 0]]\", fillcolor=\"#e58139\"] ;\n",
            "235 -> 249 ;\n",
            "250 [label=\"D4 <= 0.5, samples = 20009, value = [[20009, 0], [18636, 1373], [18290, 1719], [3732, 16277], [19754, 255], [19847, 162], [20002, 7], [19798, 211], [20007, 2], [20006, 3], [20009, 0]]\", fillcolor=\"#efb185\"] ;\n",
            "218 -> 250 ;\n",
            "251 [label=\"C4 <= 0.5, samples = 19168, value = [[19168, 0], [17795, 1373], [18290, 878], [2891, 16277], [18913, 255], [19006, 162], [19161, 7], [18957, 211], [19166, 2], [19165, 3], [19168, 0]]\", fillcolor=\"#eda978\"] ;\n",
            "250 -> 251 ;\n",
            "252 [label=\"C6 <= 0.5, samples = 18704, value = [[18704, 0], [17795, 909], [17826, 878], [2427, 16277], [18449, 255], [18542, 162], [18697, 7], [18493, 211], [18702, 2], [18701, 3], [18704, 0]]\", fillcolor=\"#eca471\"] ;\n",
            "251 -> 252 ;\n",
            "253 [label=\"D9 <= 0.5, samples = 18379, value = [[18379, 0], [17795, 584], [17501, 878], [2102, 16277], [18124, 255], [18217, 162], [18372, 7], [18168, 211], [18377, 2], [18376, 3], [18379, 0]]\", fillcolor=\"#eca16b\"] ;\n",
            "252 -> 253 ;\n",
            "254 [label=\"D1 <= 0.5, samples = 18112, value = [[18112, 0], [17528, 584], [17501, 611], [1835, 16277], [17857, 255], [17950, 162], [18105, 7], [17901, 211], [18110, 2], [18109, 3], [18112, 0]]\", fillcolor=\"#eb9d65\"] ;\n",
            "253 -> 254 ;\n",
            "255 [label=\"resarea <= 890.0, samples = 17894, value = [[17894, 0], [17310, 584], [17501, 393], [1617, 16277], [17639, 255], [17732, 162], [17887, 7], [17683, 211], [17892, 2], [17891, 3], [17894, 0]]\", fillcolor=\"#ea9a61\"] ;\n",
            "254 -> 255 ;\n",
            "256 [label=\"K9 <= 0.5, samples = 402, value = [[402, 0], [378, 24], [398, 4], [353, 49], [317, 85], [321, 81], [400, 2], [246, 156], [401, 1], [402, 0], [402, 0]]\", fillcolor=\"#fcf0e7\"] ;\n",
            "255 -> 256 ;\n",
            "257 [label=\"strgearea <= 2119.0, samples = 342, value = [[342, 0], [318, 24], [338, 4], [293, 49], [317, 25], [261, 81], [340, 2], [186, 156], [341, 1], [342, 0], [342, 0]]\", fillcolor=\"#fbeade\"] ;\n",
            "256 -> 257 ;\n",
            "258 [label=\"samples = 268, value = [[268, 0], [245, 23], [266, 2], [221, 47], [243, 25], [255, 13], [266, 2], [113, 155], [267, 1], [268, 0], [268, 0]]\", fillcolor=\"#f8ddc9\"] ;\n",
            "257 -> 258 ;\n",
            "259 [label=\"samples = 74, value = [[74, 0], [73, 1], [72, 2], [72, 2], [74, 0], [6, 68], [74, 0], [73, 1], [74, 0], [74, 0], [74, 0]]\", fillcolor=\"#ea985d\"] ;\n",
            "257 -> 259 ;\n",
            "260 [label=\"samples = 60, value = [[60, 0], [60, 0], [60, 0], [60, 0], [0, 60], [60, 0], [60, 0], [60, 0], [60, 0], [60, 0], [60, 0]]\", fillcolor=\"#e58139\"] ;\n",
            "256 -> 260 ;\n",
            "261 [label=\"C1 <= 0.5, samples = 17492, value = [[17492, 0], [16932, 560], [17103, 389], [1264, 16228], [17322, 170], [17411, 81], [17487, 5], [17437, 55], [17491, 1], [17489, 3], [17492, 0]]\", fillcolor=\"#e99559\"] ;\n",
            "255 -> 261 ;\n",
            "262 [label=\"C5 <= 0.5, samples = 17330, value = [[17330, 0], [16932, 398], [16941, 389], [1102, 16228], [17160, 170], [17249, 81], [17325, 5], [17275, 55], [17329, 1], [17327, 3], [17330, 0]]\", fillcolor=\"#e99356\"] ;\n",
            "261 -> 262 ;\n",
            "263 [label=\"samples = 17173, value = [[17173, 0], [16932, 241], [16784, 389], [945, 16228], [17003, 170], [17092, 81], [17168, 5], [17118, 55], [17172, 1], [17170, 3], [17173, 0]]\", fillcolor=\"#e89152\"] ;\n",
            "262 -> 263 ;\n",
            "264 [label=\"samples = 157, value = [[157, 0], [0, 157], [157, 0], [157, 0], [157, 0], [157, 0], [157, 0], [157, 0], [157, 0], [157, 0], [157, 0]]\", fillcolor=\"#e58139\"] ;\n",
            "262 -> 264 ;\n",
            "265 [label=\"samples = 162, value = [[162, 0], [0, 162], [162, 0], [162, 0], [162, 0], [162, 0], [162, 0], [162, 0], [162, 0], [162, 0], [162, 0]]\", fillcolor=\"#e58139\"] ;\n",
            "261 -> 265 ;\n",
            "266 [label=\"samples = 218, value = [[218, 0], [218, 0], [0, 218], [218, 0], [218, 0], [218, 0], [218, 0], [218, 0], [218, 0], [218, 0], [218, 0]]\", fillcolor=\"#e58139\"] ;\n",
            "254 -> 266 ;\n",
            "267 [label=\"samples = 267, value = [[267, 0], [267, 0], [0, 267], [267, 0], [267, 0], [267, 0], [267, 0], [267, 0], [267, 0], [267, 0], [267, 0]]\", fillcolor=\"#e58139\"] ;\n",
            "253 -> 267 ;\n",
            "268 [label=\"samples = 325, value = [[325, 0], [0, 325], [325, 0], [325, 0], [325, 0], [325, 0], [325, 0], [325, 0], [325, 0], [325, 0], [325, 0]]\", fillcolor=\"#e58139\"] ;\n",
            "252 -> 268 ;\n",
            "269 [label=\"samples = 464, value = [[464, 0], [0, 464], [464, 0], [464, 0], [464, 0], [464, 0], [464, 0], [464, 0], [464, 0], [464, 0], [464, 0]]\", fillcolor=\"#e58139\"] ;\n",
            "251 -> 269 ;\n",
            "270 [label=\"samples = 841, value = [[841, 0], [841, 0], [0, 841], [841, 0], [841, 0], [841, 0], [841, 0], [841, 0], [841, 0], [841, 0], [841, 0]]\", fillcolor=\"#e58139\"] ;\n",
            "250 -> 270 ;\n",
            "}\n"
          ]
        },
        {
          "output_type": "execute_result",
          "data": {
            "image/png": "[encoded data removed]",
            "text/plain": [
              "<IPython.core.display.Image object>"
            ]
          },
          "metadata": {},
          "execution_count": 13
        }
      ]
    }
  ]
}